{
 "cells": [
  {
   "cell_type": "code",
   "execution_count": 2,
   "metadata": {
    "slideshow": {
     "slide_type": "skip"
    }
   },
   "outputs": [
    {
     "data": {
      "text/html": [
       "<style>/* title of columns */\n",
       "table thead th {\n",
       "    font-size: 1.2em !important;\n",
       "    padding-top: 0.2em !important;\n",
       "    padding-bottom: 0.2em !important;\n",
       "    text-align: left !important;\n",
       "}\n",
       "\n",
       "/* title of rows */\n",
       "table tbody th {\n",
       "    font-size: 1.2em !important;\n",
       "    background: rgba(199, 199, 199, 0.356) !important;\n",
       "    border: 1px solid black !important;\n",
       "    text-align: left !important;\n",
       "}\n",
       "\n",
       "/* style for each cell */\n",
       "table td {\n",
       "    font-size: 1.15em !important;\n",
       "    border: 1px solid black !important;\n",
       "    text-align: left !important;\n",
       "}\n",
       "\n",
       "/* disable zebra-style */\n",
       "table tbody tr {\n",
       "    background: white !important;\n",
       "}\n",
       "\n",
       "/* row color on hover */\n",
       "table tbody tr:hover {\n",
       "    background: rgba(43, 137, 226, 0.144) !important;\n",
       "}\n",
       "\n",
       "/* SLIDES */\n",
       ".slides table td {\n",
       "    font-size: 15pt !important;\n",
       "}\n",
       "\n",
       ".slides table th {\n",
       "    font-size: 15pt !important;\n",
       "}\n",
       "\n",
       ".slides img {\n",
       "    float: right;\n",
       "    /*margin-left: auto !important;*/\n",
       "    /*margin-right: auto !important;*/\n",
       "}\n",
       "\n",
       ".slides blockquote {\n",
       "    margin: 0 !important;\n",
       "    box-shadow: none !important;\n",
       "    width: 100% !important;\n",
       "    border-left: 5px solid lightgray !important;\n",
       "    color: #284d71 !important;\n",
       "    padding: 0 0 0 10px !important;\n",
       "    background-color: #f9f9f9 !important;\n",
       "    font-size: 20px !important;\n",
       "}\n",
       "\n",
       ".slides blockquote p {\n",
       "    margin: 10px 0 10px 0 !important;\n",
       "}\n",
       "</style>"
      ],
      "text/plain": [
       "<IPython.core.display.HTML object>"
      ]
     },
     "execution_count": 2,
     "metadata": {},
     "output_type": "execute_result"
    }
   ],
   "source": [
    "from IPython.display import HTML\n",
    "from pathlib import Path\n",
    "\n",
    "css_rules = Path('./custom.css').read_text()\n",
    "HTML('<style>' + css_rules + '</style>')"
   ]
  },
  {
   "cell_type": "markdown",
   "metadata": {
    "slideshow": {
     "slide_type": "slide"
    }
   },
   "source": [
    "# Patrones de diseño (Design patterns)"
   ]
  },
  {
   "cell_type": "markdown",
   "metadata": {
    "slideshow": {
     "slide_type": "slide"
    }
   },
   "source": [
    "## Qué son los patrones de diseño\n",
    "\n",
    "Una definición sencilla podria ser la siguiente:\n",
    "\n",
    "> Un patrón de diseño es un modelo de solución para un determinado\n",
    "> problema de diseño recurrente o habitual. El patron describe el problema\n",
    "> y una aproximación general a como resolverlo."
   ]
  },
  {
   "cell_type": "markdown",
   "metadata": {
    "slideshow": {
     "slide_type": "slide"
    }
   },
   "source": [
    "## Historia\n",
    "\n",
    "Si nos fijamos, el concepto no está limitado al desarrollo de software; se puede aplicar\n",
    "a cualquie campo donde se puedan encontrar problemas recurrentes. De hecho\n",
    "los primeros patrones de diseño surgen en la arquitectura, producto del arquitecto\n",
    "Christopher Alexander, en el libro **The Timeless Way of Building** y desarrollados \n",
    "posteriormente, junto con otros autores, en **A Pattern Language**.\n",
    "\n",
    "En sus palabras, cada patron \"describe un problema que ocurre infinidad de veces en\n",
    "nuestro entorno, así como la solución al mismo, de tal modo que podemos utilizar esta\n",
    "solución un millón de veces más adelante sin tener que volver a pensarla otra vez.\""
   ]
  },
  {
   "cell_type": "markdown",
   "metadata": {
    "slideshow": {
     "slide_type": "slide"
    }
   },
   "source": [
    "## Design Patterns: Elements of Reusable Object-oriented Software\n",
    "\n",
    "![Desing Patterns, by GoF](./img/design-patterns-book-cover.png)\n",
    "\n",
    "A principios de la década de 1990 los patrones de diseño entraron en el mundo del desarrollo\n",
    "software con el libro **Design Patterns**, escrito por el llamado _Grupo de los cuatro_ (_Gang \n",
    "of Four_ o _GoF_), compuesto por Erich Gamma, Richard Helm, Ralph Johnson y John Vlissides.\n",
    "\n",
    "En este libro seminal se recogen 23 patrones de diseño comunes.\n",
    "\n"
   ]
  },
  {
   "cell_type": "markdown",
   "metadata": {
    "slideshow": {
     "slide_type": "slide"
    }
   },
   "source": [
    "Los patrones no son ni principios abstractos, ni soluciones especificas a un problema\n",
    "particular; son algo intermedio. Un patrón define una _posible_ solución correcta para\n",
    "un problema de diseño, dentro de un contexto dado, describiendo las cualidades \n",
    "invariantes de todas las soluciones."
   ]
  },
  {
   "cell_type": "markdown",
   "metadata": {
    "slideshow": {
     "slide_type": "slide"
    }
   },
   "source": [
    "## Características de los patrones\n",
    "\n",
    "Para describir bien un patrón, un simple esquema gráfico, aunque es sin duda\n",
    "útil e importante, no es suficiente. Necesitamos más información para poder\n",
    "reutilizar el patrón.\n",
    "\n",
    "Tenemos que reflejar también las decisiones tomadas, las\n",
    "alternativas y sus posibles costos o inconvenientes. Los ejemplos también son\n",
    "de mucha ayuda."
   ]
  },
  {
   "cell_type": "markdown",
   "metadata": {
    "slideshow": {
     "slide_type": "slide"
    }
   },
   "source": [
    "En el libro Paterns Design, la Banda de los Cuatro describía y utilizaba\n",
    "la siguiente plantilla para todos sus patrones:\n",
    "\n",
    "|   |   |   |\n",
    "|------------------------|-----------|------------------------|\n",
    "| Nombre y clasificación | Intención | También conocido como  |\n",
    "| Motivación | Aplicación | Estructura |\n",
    "| Participantes | Colaboraciones | Consecuencias |\n",
    "| Implementación | Código de ejemplo | Usos conocidos |\n",
    "| Patrones relacionados ||"
   ]
  },
  {
   "cell_type": "markdown",
   "metadata": {
    "slideshow": {
     "slide_type": "slide"
    }
   },
   "source": [
    "### Nombre y clasificación\n",
    "\n",
    "El __nombre del patrón es muy importante__. La idea es que contega la esencia del patrón\n",
    "en una o dos palabras, para que se convierta en parte del vocabulario\n",
    "de diseño. La clsificación se explica en la sigiente sección."
   ]
  },
  {
   "cell_type": "markdown",
   "metadata": {
    "slideshow": {
     "slide_type": "slide"
    }
   },
   "source": [
    "### Intención\n",
    "\n",
    "Unos párrafos que respondan a las siguientes preguntas: ¿Qué hace este patrón? ¿Cuáles\n",
    "serían las razones para usarlo? ¿Qué problema intenta resolver?"
   ]
  },
  {
   "cell_type": "markdown",
   "metadata": {
    "slideshow": {
     "slide_type": "slide"
    }
   },
   "source": [
    "### También conocido como\n",
    "\n",
    "Algunos patrones se conocen con varios nombres; si fuera el caso se\n",
    "incluirían en esta sección."
   ]
  },
  {
   "cell_type": "markdown",
   "metadata": {
    "slideshow": {
     "slide_type": "slide"
    }
   },
   "source": [
    "### Motivación\n",
    "\n",
    "Un escenario que muestra un problema de diseño y la manera  en que el\n",
    "patrón lo resuelve. Esto ayuda a entender las descripciones más\n",
    "abstractas del patrón."
   ]
  },
  {
   "cell_type": "markdown",
   "metadata": {
    "slideshow": {
     "slide_type": "slide"
    }
   },
   "source": [
    "### Aplicación\n",
    "\n",
    "¿En qué situaciones se puede aplicar este patrón? ¿Hay algún \n",
    "ejemplo de un diseño imperfecto que este patrón podría mejorar?\n",
    "¿Como podemos identificar estas situaciones?"
   ]
  },
  {
   "cell_type": "markdown",
   "metadata": {
    "slideshow": {
     "slide_type": "slide"
    }
   },
   "source": [
    "### Estructura\n",
    "\n",
    "Una representación gráfica de las clases e interactuaciones del patrón.\n",
    "Existen muchas notaciones gráficas para esto, pero las más usadas\n",
    "actualente son OMT object-modeling technique (OMT) y UML (que deriva\n",
    "en gran parte de OMT)"
   ]
  },
  {
   "cell_type": "markdown",
   "metadata": {
    "slideshow": {
     "slide_type": "slide"
    }
   },
   "source": [
    "### Participantes\n",
    "\n",
    "Las clases y objetos que participan en el diseño, así como sus responsabiidades."
   ]
  },
  {
   "cell_type": "markdown",
   "metadata": {
    "slideshow": {
     "slide_type": "slide"
    }
   },
   "source": [
    "### Collaboraciones\n",
    "\n",
    "Describe la manera en que los participantes colaboran para llevar a cabo\n",
    "sus responsabilidades."
   ]
  },
  {
   "cell_type": "markdown",
   "metadata": {
    "slideshow": {
     "slide_type": "slide"
    }
   },
   "source": [
    "### Consecuencias\n",
    "\n",
    "¿Cómo consigue sus objetivos el patrón? ¿Cuáles son los compromisos\n",
    "y consecuencias de usarlo? ¿Qué aspectos del sistema se pueden\n",
    "modificar independientemente?"
   ]
  },
  {
   "cell_type": "markdown",
   "metadata": {
    "slideshow": {
     "slide_type": "slide"
    }
   },
   "source": [
    "### Implementacion\n",
    "\n",
    "¿Qué técnicas, _idioms_ y precauciones hay que considerar cuando\n",
    "implementamos el patrón en un determinado lenguaje de programación.\n",
    "¿Permite (o dificulta) el lenguaje algun aspecto del patrón?"
   ]
  },
  {
   "cell_type": "markdown",
   "metadata": {
    "slideshow": {
     "slide_type": "slide"
    }
   },
   "source": [
    "### Código de ejempo\n",
    "\n",
    "Fragmentos de código que ilustren como se puede implementar\n",
    "el patrón. En el libro original se usaban ejemplos en C++\n",
    "y en Smalltalk. Obviamente, nosotros usaremos Python."
   ]
  },
  {
   "cell_type": "markdown",
   "metadata": {
    "slideshow": {
     "slide_type": "slide"
    }
   },
   "source": [
    "### Usos conocidos\n",
    "\n",
    "Ejemplo de uso de estos patrones en sistemas reales."
   ]
  },
  {
   "cell_type": "markdown",
   "metadata": {
    "slideshow": {
     "slide_type": "slide"
    }
   },
   "source": [
    "### Patrones relacionados\n",
    "\n",
    "¿Qué otros patrones de diseño están relacionados con este? ¿Cuáles\n",
    "son las diferencias más importantes? ¿Se puede usar este patrón junto\n",
    "con otros? Si es así, ¿Con cuáles?"
   ]
  },
  {
   "cell_type": "markdown",
   "metadata": {
    "slideshow": {
     "slide_type": "slide"
    }
   },
   "source": [
    "## Tipos de patrones de diseño\n",
    "\n",
    "- De creación\n",
    "- Estructurales\n",
    "- De comportamiento"
   ]
  },
  {
   "cell_type": "markdown",
   "metadata": {
    "slideshow": {
     "slide_type": "slide"
    }
   },
   "source": [
    "### De creación\n",
    "\n",
    "Se utilizan cuando queremos crear objetos, pero el proceso de creación depende de \n",
    "desiciones y circunstancias que puede que no se conozcan a priori. Estos patrones normalmente resuelven el problema retrasando el proceso de creación de los objetos hasta el tiempo de ejecución.\n",
    "\n",
    "Algunos Patrones de creación son: *`Singleton`*, *`Builder`*, *`Factory Method`*, *`Object Pool`* y *`Prototype`*."
   ]
  },
  {
   "cell_type": "markdown",
   "metadata": {
    "slideshow": {
     "slide_type": "slide"
    }
   },
   "source": [
    "### Estructurales\n",
    "\n",
    "Sirven para organizar y conectar nuestras estructuras de datos, funciones y objetos. Normalmente\n",
    "su busca que estas conexiones permitan interactuar pero reduciendo e incluso eliminanado el\n",
    "acoplamiento, de forma que podamos cambiar las partes de un programa con un impacto mínimo.\n",
    "\n",
    "Algunos patrones de este estilo son: *`Decorator`*, *`Adapter`*, *`Bridge`*, *`Facade`*, *`Flyweight`* y *`Proxy`*."
   ]
  },
  {
   "cell_type": "markdown",
   "metadata": {
    "slideshow": {
     "slide_type": "slide"
    }
   },
   "source": [
    "### De comportamiento. \n",
    "\n",
    "Fundamentalmente establecen unos comportamientos especificos, en los que nuestros\n",
    "objetos juegan un papel predeterminado por el patrón para resolver un determinado\n",
    "problema.\n",
    "\n",
    "Algunos de ellos son: *`Strategy`*, *`Chain of Responsability`*, *`Command`*, *`Interpreter`*,\n",
    "*`Iterator`*, *`Memoize`*, *`Observer`*, *`Pub/Sub`* y *`Visitor`*."
   ]
  },
  {
   "cell_type": "markdown",
   "metadata": {
    "slideshow": {
     "slide_type": "slide"
    }
   },
   "source": [
    "### Principios de diseño OO\n",
    "\n",
    "### Principios SOLID\n",
    "\n",
    "Los principios SOLID son un grupo de 5 principios, cuyas letras iniciales forman la palabra SOLID. Al traducir \n",
    "los principios, por supuesto, se pierde el juego de palabras, asi que los veremos por sus nombres en ingles."
   ]
  },
  {
   "cell_type": "markdown",
   "metadata": {
    "slideshow": {
     "slide_type": "slide"
    }
   },
   "source": [
    "- __S__ingle Responsabiliy\n",
    "- __O__pen / Close\n",
    "- __L__iskov Sustitution\n",
    "- __I__nterface Segregation\n",
    "- __D__ependency Inversion"
   ]
  },
  {
   "cell_type": "markdown",
   "metadata": {
    "slideshow": {
     "slide_type": "slide"
    }
   },
   "source": [
    "### SINGLE RESPONSABILIY (S)\n",
    "\n",
    "Principio de responsabilidad única: Cada clase debe tener una responsabilidad única\n",
    "y exclusiva. Si hace la comida, no saca la basura.\n",
    "  "
   ]
  },
  {
   "cell_type": "markdown",
   "metadata": {
    "slideshow": {
     "slide_type": "slide"
    }
   },
   "source": [
    "### OPEN / CLOSE (O)\n",
    "\n",
    "Principio de abierto para extensión, pero cerrado para modificación: Las clases deben estar\n",
    "abiertas para ampliación o extensión (Normalmente mediante herencia), pero cerradas para modificación. Esto \n",
    "nos permite usar las clases sin correr el riesgo de que cambien, a la vez que nos permite ampliarlas\n",
    "o modificarlas sin perjudicar a otros usuarios\n",
    "  "
   ]
  },
  {
   "cell_type": "markdown",
   "metadata": {
    "slideshow": {
     "slide_type": "slide"
    }
   },
   "source": [
    "### LISKOV SUSTITUTION (L)\n",
    "\n",
    "Principio de sustitución de Liskov: Creado por Barbara Liskov, tiene una bonita\n",
    "  formulación matemática: Sea $Φ(x)$ una propiedad comprobable de todos los objetos $x$ de tipo $T$.\n",
    "  Entonces, $Φ(y)$ debería ser verdadera para todo objeto $y$ de tipo $S$ si $S$ es un subtipo o derivado\n",
    "  de $T$. La verdad es que visto asi, asusta un poco, pero en realidad es una idea sencilla; biene a decir\n",
    "  que cualquier objeto que pertenezca a una clase, tiene que poder ser sustuido por cualquier objeto que\n",
    "  pertenezca a una subclase.\n",
    "  "
   ]
  },
  {
   "cell_type": "markdown",
   "metadata": {
    "slideshow": {
     "slide_type": "slide"
    }
   },
   "source": [
    "  Quiza un ejemplo sea la mejor forma de verlo: Si tenemos una clase ``Mamiferos``, de la cual derivamos\n",
    "  dos clases, ``Perros`` y ``Gatos``, entonces, en cualquier sitio donde estemos usando una variable de\n",
    "  tipo ``Mamífero``, _deberíamos ser capaces de sustituir_ esa variable por una de tipo ``Gatos``, o una\n",
    "  de tipo ``Perros`` (o cualquier otro subtipo o subtipos posibles, ``Delfines``, ``Dalmatas``,...) sin que\n",
    "  se produzca ningun error. Es decir, que en las relaciones de herencia, si la clase `B` deriva de `A`, entonces \n",
    "  `B` es un tipo de `A`.\n",
    "  "
   ]
  },
  {
   "cell_type": "markdown",
   "metadata": {
    "slideshow": {
     "slide_type": "slide"
    }
   },
   "source": [
    "### INTERFACE SEGREGATION\n",
    "\n",
    "Principio de separación de interfaces: Es preferible tener muchas interfaces, especificas\n",
    "para cada cliente, antes que una unica interfaz de uso general."
   ]
  },
  {
   "cell_type": "markdown",
   "metadata": {
    "slideshow": {
     "slide_type": "slide"
    }
   },
   "source": [
    "### DEPENDENCY INVERSION\n",
    "\n",
    "Principio de inversión de dependencias, siempre se debe preferir depender\n",
    "de una abstrabción, antes que de una implementacion."
   ]
  },
  {
   "cell_type": "markdown",
   "metadata": {
    "slideshow": {
     "slide_type": "slide"
    }
   },
   "source": [
    "### El principip de Mínima Sorpresa\n",
    "\n",
    "El __Principio de la Mínima Sorpresa__ (*Principle of least astonishment*) se\n",
    "aplica al diseño de interfaces, diseño de *software* y la ergonomía. Establece que\n",
    "cuando haya un conflicto o ambigüedad entre dos elementos, el comportamiento ha de ser el\n",
    "que genere la mínima sorpresa por parte del usuario.\n",
    "\n",
    "Más informalmente, el principio establece que los componentes de un sistema\n",
    "deben comportarwse de la forma en que la mayoría de los usuarios esperarían que\n",
    "se comportase; el comportamiento nunca debería asombrar o sorprender al usuario."
   ]
  },
  {
   "cell_type": "markdown",
   "metadata": {},
   "source": [
    "### El principio No Te Repitas\n",
    "\n",
    "El principio __No te repitas__ (en inglés *Don't Repeat Yourself* o DRY, también\n",
    "conocido como Una vez y sólo una) promueve la reducción de la duplicación,\n",
    "especialmente en computación. Según este principio toda \"pieza de información\"\n",
    "nunca debería ser duplicada, debido a que esto incrementa la dificultad\n",
    "en los cambios y evolución posterior, perjudica la claridad y crea un\n",
    "espacio para posibles inconsistencias. Los términos \"pieza de información\" son\n",
    "usados en un sentido amplio, abarcando:\n",
    "\n",
    "- Datos almacenados en una base de datos\n",
    "\n",
    "- Código fuente de un programa de software\n",
    "\n",
    "- Información textual o documentación\n",
    "\n",
    "Cuando el principio DRY se aplica de forma eficiente, los cambios en cualquier parte\n",
    "del proceso requieren cambios en un único lugar."
   ]
  },
  {
   "cell_type": "markdown",
   "metadata": {},
   "source": [
    "### Fuente Única de Verdad\n",
    "\n",
    "El principio de __Fuente única de verdad__, (*Single source of truth* o SSOT)\n",
    "nos dice que debemos estructurar los modelos de información, y los\n",
    "esquemas de detos asociados de forma que todo para todo dato, este es gestionado (o\n",
    "editado) en un únido lugar. Cualquier posible enlace o acceso al mismo (posiblemente\n",
    "en otras tablas de una base de datos relacional) son unicamente por referencia. Como\n",
    "todas estas referencias se refieren a la \"fuente de verdad\", cuando se actualize ese\n",
    "elemento el cambio se propagara a traves de todo el sistema, sin que exista posibilidad\n",
    "de que quede copias obsoletas en algún lugar."
   ]
  }
 ],
 "metadata": {
  "celltoolbar": "Slideshow",
  "kernelspec": {
   "display_name": "Python 3",
   "language": "python",
   "name": "python3"
  },
  "language_info": {
   "codemirror_mode": {
    "name": "ipython",
    "version": 3
   },
   "file_extension": ".py",
   "mimetype": "text/x-python",
   "name": "python",
   "nbconvert_exporter": "python",
   "pygments_lexer": "ipython3",
   "version": "3.7.6"
  }
 },
 "nbformat": 4,
 "nbformat_minor": 2
}
