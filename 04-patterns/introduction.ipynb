{
 "cells": [
  {
   "cell_type": "markdown",
   "metadata": {
    "slideshow": {
     "slide_type": "slide"
    }
   },
   "source": [
    "## Patrones de diseño (Design patterns)"
   ]
  },
  {
   "cell_type": "markdown",
   "metadata": {
    "slideshow": {
     "slide_type": "slide"
    }
   },
   "source": [
    "### Qué son los patrones de diseño\n",
    "\n",
    "Una definición sencilla podria ser la siguiente:\n",
    "\n",
    "> Un patrón de diseño es un modelo de solución para un determinado\n",
    "> problema de diseño recurrente o habitual. El patron describe el problema\n",
    "> y una aproximación general a como resolverlo."
   ]
  },
  {
   "cell_type": "markdown",
   "metadata": {
    "slideshow": {
     "slide_type": "slide"
    }
   },
   "source": [
    "### Historia\n",
    "\n",
    "Si nos fijamos, el concepto no está limitado al desarrollo de software; se puede aplicar\n",
    "a cualquie campo donde se puedan encontrar problemas recurrentes. De hecho\n",
    "los primeros patrones de diseño surgen en la arquitectura, producto del arquitecto\n",
    "Christopher Alexander, en el libro **The Timeless Way of Building** y desarrollados \n",
    "posteriormente, junto con otros autores, en **A Pattern Language**.\n",
    "\n",
    "En sus palabras, cada patron \"describe un problema que ocurre infinidad de veces en\n",
    "nuestro entorno, así como la solución al mismo, de tal modo que podemos utilizar esta\n",
    "solución un millón de veces más adelante sin tener que volver a pensarla otra vez.\""
   ]
  },
  {
   "cell_type": "markdown",
   "metadata": {
    "slideshow": {
     "slide_type": "slide"
    }
   },
   "source": [
    "A principios de la década de 1990 los patrones de diseño entraron en el mundo del desarrollo\n",
    "software con el libro **Design Patterns**, escrito por el llamado _Grupo de los cuatro_ (_Gang \n",
    "of Four_ o _GoF_), compuesto por Erich Gamma, Richard Helm, Ralph Johnson y John Vlissides. En este\n",
    "libro seminal se recogen 23 patrones de diseño comunes.\n",
    "\n",
    "![Desing Patterns, by GoF](./img/design-patterns-book-cover.png)"
   ]
  },
  {
   "cell_type": "markdown",
   "metadata": {
    "slideshow": {
     "slide_type": "slide"
    }
   },
   "source": [
    "Los patrones no son ni principios abstractos, ni soluciones especificas a un problema\n",
    "particular; son algo intermedio. Un patrón define una _posible_ solución correcta para\n",
    "un problema de diseño, dentro de un contexto dado, describiendo las cualidades \n",
    "invariantes de todas las soluciones."
   ]
  },
  {
   "cell_type": "markdown",
   "metadata": {},
   "source": [
    "### Características de los patrones\n",
    "\n",
    "- Tienen un nomnbre\n",
    "\n",
    "Esto es importante [PORQUE]\n",
    "\n",
    "- Describen un problema habitual, y ofrecen una posible solución, ampliamente probada"
   ]
  },
  {
   "cell_type": "markdown",
   "metadata": {
    "slideshow": {
     "slide_type": "slide"
    }
   },
   "source": [
    "### Tipos de patrones de diseño\n",
    "\n",
    "- De creación\n",
    "- Estructurales\n",
    "- De comportamiento"
   ]
  },
  {
   "cell_type": "markdown",
   "metadata": {
    "slideshow": {
     "slide_type": "slide"
    }
   },
   "source": [
    "### Principios de diseño OO\n",
    "\n",
    "#### Principios SOLID\n",
    "\n",
    "Los principios SOLID son un grupo de 5 principios, cuyas letras iniciales forman la palabra SOLID. Al traducir \n",
    "los principios, por supuesto, se pierde el juego de palabras, asi que los veremos porsus nombres en ingles.\n",
    "\n",
    "Estos principios son:"
   ]
  },
  {
   "cell_type": "markdown",
   "metadata": {
    "slideshow": {
     "slide_type": "slide"
    }
   },
   "source": [
    "#### SINGLE RESPONSABILIY (S)\n",
    "\n",
    "Principio de responsabilidad única: Cada clase debe tener una responsabilidad única\n",
    "y exclusiva. Si hace la comida, no saca la basura.\n",
    "  "
   ]
  },
  {
   "cell_type": "markdown",
   "metadata": {
    "slideshow": {
     "slide_type": "slide"
    }
   },
   "source": [
    "#### OPEN / CLOSE (O)\n",
    "\n",
    "Principio de abierto para extensión, pero cerrado para modificación: Las clases deben estar\n",
    "abiertas para ampliación o extensión (Normalmente mediante herencia), pero cerradas para modificación. Esto \n",
    "nos permite usar las clases sin correr el riesgo de que cambien, a la vez que nos permite ampliarlas\n",
    "o modificarlas sin perjudicar a otros usuarios\n",
    "  "
   ]
  },
  {
   "cell_type": "markdown",
   "metadata": {
    "slideshow": {
     "slide_type": "slide"
    }
   },
   "source": [
    "#### LISKOV SUSTITUTION (L)\n",
    "\n",
    "Principio de sustitución de Liskov: Creado por Barbara Liskov, tiene una bonita\n",
    "  formulación matemática: Sea $Φ(x)$ una propiedad comprobable de todos los objetos $x$ de tipo $T$.\n",
    "  Entonces, $Φ(y)$ debería ser verdadera para todo objeto $y$ de tipo $S$ si $S$ es un subtipo o derivado\n",
    "  de $T$. La verdad es que visto asi, asusta un poco, pero en realidad es una idea sencilla; biene a decir\n",
    "  que cualquier objeto que pertenezca a una clase, tiene que poder ser sustuido por cualquier objeto que\n",
    "  pertenezca a una subclase.\n",
    "  "
   ]
  },
  {
   "cell_type": "markdown",
   "metadata": {
    "slideshow": {
     "slide_type": "slide"
    }
   },
   "source": [
    "  Quiza un ejemplo sea la mejor forma de verlo: Si tenemos una clase ``Mamiferos``, de la cual derivamos\n",
    "  dos clases, ``Perros`` y ``Gatos``, entonces, en cualquier sitio donde estemos usando una variable de\n",
    "  tipo ``Mamífero``, _deberíamos ser capaces de sustituir_ esa variable por una de tipo ``Gatos``, o una\n",
    "  de tipo ``Perros`` (o cualquier otro subtipo o subtipos posibles, ``Delfines``, ``Dalmatas``,...) sin que\n",
    "  se produzca ningun error. Es decir, que en las relaciones de herencia, si la clase `B` deriva de `A`, entonces \n",
    "  `B` es un tipo de `A`.\n",
    "  "
   ]
  },
  {
   "cell_type": "markdown",
   "metadata": {
    "slideshow": {
     "slide_type": "slide"
    }
   },
   "source": [
    "#### INTERFACE SEGREGATION\n",
    "\n",
    "Principio de separación de interfaces: Es preferible tener muchas interfaces, especificas\n",
    "para cada cliente, antes que una unica interfaz de uso general."
   ]
  },
  {
   "cell_type": "markdown",
   "metadata": {
    "slideshow": {
     "slide_type": "slide"
    }
   },
   "source": [
    "#### DEPENDENCY INVERSION\n",
    "\n",
    "Principio de inversión de dependencias, siempre se debe preferir depender\n",
    "de una abstrabción, antes que de una implementacion."
   ]
  }
 ],
 "metadata": {
  "celltoolbar": "Slideshow",
  "kernelspec": {
   "display_name": "Python 3",
   "language": "python",
   "name": "python3"
  },
  "language_info": {
   "codemirror_mode": {
    "name": "ipython",
    "version": 3
   },
   "file_extension": ".py",
   "mimetype": "text/x-python",
   "name": "python",
   "nbconvert_exporter": "python",
   "pygments_lexer": "ipython3",
   "version": "3.7.6"
  }
 },
 "nbformat": 4,
 "nbformat_minor": 2
}
