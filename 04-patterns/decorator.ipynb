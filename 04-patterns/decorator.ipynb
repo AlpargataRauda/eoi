{
 "cells": [
  {
   "cell_type": "markdown",
   "metadata": {},
   "source": [
    "## Decorador (*Decorator*)"
   ]
  },
  {
   "cell_type": "markdown",
   "metadata": {},
   "source": [
    "__Decorador__ es un patron de tipo Estructural. Nos permite \"envolver\" un\n",
    "objeto, método o función, que realiza una determinada función, con otro objeto,\n",
    "método o función que copia su interfaz; es decir, que para el resto del mundo se\n",
    "comporta y se puede interactuar con el exactamente igual que si fuera el\n",
    "original. De esta forma se puede modificar el comportamiento, normalmente para\n",
    "añadir funcionalidad.\n",
    "\n",
    "La razón del nombre de este componente viene de uno de sus primeros ejemplos de\n",
    "uso, en los sistemas de ventanas. En estos sistemas, el contenido visual de una\n",
    "aplicación no tiene bordes, ni botones, ni controles como barras de\n",
    "desplazamiento, etc... Es solo un cuadrado con el contenido de la aplicación. Se\n",
    "aplicaban una función (se decoraba) al componente, de forma que, por ejemplo,\n",
    "ante una operación de dibujar la ventana, digamos `redraw`, el decorador pintaba\n",
    "los bordes, los botones, etc. y luego llamaba a la operación `redraw` de la\n",
    "aplicación, que pintaba los contenidos.\n",
    "\n",
    "Eso permitia cambiar el sistema de ventanas para tener estilos totalmente\n",
    "diferentes, solo cambiando el decorador que \"envuelve\" a la aplicación. Incluso\n",
    "si eliminabas el decorador, el sistema seguía funcionando (Sin bordes, claro)\n",
    "porque al sistema de ventanas solo le interesaba que los componentes tengan un\n",
    "método `redraw` (la interfaz es la misma).\n",
    "\n",
    "Las razones para usar este patrón son normalmente dos:\n",
    "\n",
    "- Mejorar la respuesta de un componente a otro componente\n",
    "\n",
    "- Proporcionar multiples comportamientos opcionales\n",
    "\n",
    "Se utiliza a menudo la segunda opción como una alternativa a la herencia\n",
    "múltiple. Se puede crear un objeto básico, y luego \"envolverlo\" con un\n",
    "decorador. Como la interfaz del decorador es igual que la del objeto base,\n",
    "podemos usar diferentes decoradores para el mismo objeto o incluso anidar\n",
    "decoradores, es decir, decorando un objeto ya decorado.\n"
   ]
  },
  {
   "cell_type": "markdown",
   "metadata": {},
   "source": [
    "## Un ejemplo de decorador.\n",
    "\n",
    "Usaremos un ejemplo de decorador a la vez que vemos algo de programación de redes. En este\n",
    "caso usaremos un *socket* TCP. EL método `send` de los *sockets* acepta como parámetro\n",
    "una secuencia de bytes y los envia por la conexión establecida hacie el otro extremo. Hay muchas\n",
    "librerías de sockets pero python viene con una ya incorporada en la libreria estándar.\n",
    "\n",
    "Vamos a crear en primer lugar un servidor que espere a que algun otro proceso se conecte; en\n",
    "ese momento pregunta un texto el usuario, y devuelve ese texto como respuesta."
   ]
  },
  {
   "cell_type": "code",
   "execution_count": null,
   "metadata": {},
   "outputs": [],
   "source": [
    "# %load socket-server.py\n",
    "#!/usr/bin/env python\n",
    "\n",
    "import socket\n",
    "\n",
    "def respond(client, addr):\n",
    "    response = input(\"Enter a value: \")\n",
    "    message = f\"Hello {addr} this is your response: {response}\"\n",
    "    client.send(message.encode('utf8'))\n",
    "    client.close()\n",
    "    return response == 'exit'\n",
    "\n",
    "server = socket.socket(socket.AF_INET, socket.SOCK_STREAM)\n",
    "server.bind(('localhost', 8401))\n",
    "server.listen(1)\n",
    "try:\n",
    "    while True:\n",
    "        client, addr = server.accept()\n",
    "        must_exit = respond(client, addr)\n",
    "        if must_exit:\n",
    "            break\n",
    "finally:\n",
    "    server.close()"
   ]
  },
  {
   "cell_type": "markdown",
   "metadata": {},
   "source": [
    "Ahora, antes de escribir el cliente, un aviso: para poder ejecutar la cliente y el servicor, estos\n",
    "tienen que ejecutarse como procesos distintos, asi que hay que ejecutar el servidor en un notebook, con\n",
    "su propio kernel, y el cliente en otro. Hay dos notebooks ya preparados para este proposito\n",
    "[socket-server.ipynb](./socket-server.ipynb) y [socket-client.ipynb](./socket-client.ipynb)"
   ]
  },
  {
   "cell_type": "raw",
   "metadata": {},
   "source": [
    "Veamos el código del servidor: La función `respond` acepta como parámetro de\n",
    "entrada un *socket* y la dirección IP del otro extremo de la conexión. Pregunta\n",
    "entonces al usuario por un texto de entrada y simplemente lo envía como\n",
    "respuesta. Para poder usarla esta función, primero que crear un socket de tipo\n",
    "servidor, y decirle que se conecte el puerto 8401 en el ordenador local, donde\n",
    "se queda a la espera de que algun otro programa (nuestro cliente) se conecte \n",
    "a ese puerto. \n",
    "\n",
    "Cuando el cliente se conecte, se llama a la función `respond`, que pregunta\n",
    "al usuario por algun texto a enviar y lo usa como respuesta, y luego vuelve a quedarse\n",
    "a la espera. Hemos escrito nuestro primer servidor TCP.\n",
    "\n",
    "Lo importante a destacar aquí es que a la función `respond` solo le importan dos cosas en lo\n",
    "que respecta a la interfaz de los *sockets*: que tienen un método `send` y un\n",
    "método `close`. \n",
    "\n",
    "Vamos a escribir ahora nuesto cliente."
   ]
  },
  {
   "cell_type": "code",
   "execution_count": 16,
   "metadata": {},
   "outputs": [
    {
     "name": "stdout",
     "output_type": "stream",
     "text": [
      "#!/usr/bin/env python\r\n",
      "# coding: utf-8\r\n",
      "\r\n",
      "import socket\r\n",
      "\r\n",
      "\r\n",
      "client = socket.socket(socket.AF_INET, socket.SOCK_STREAM)\r\n",
      "client.connect(('localhost', 8401))\r\n",
      "response = client.recv(1024).decode('utf-8')\r\n",
      "print(f\"Received: {response}\".format(client.recv(1024)))\r\n",
      "client.close()"
     ]
    }
   ],
   "source": [
    "!cat socket-client.py"
   ]
  },
  {
   "cell_type": "markdown",
   "metadata": {},
   "source": [
    "Para usar estos programas:\n",
    "    \n",
    "❶ Arrancar el programa `socket-server.py`, ya sea en una terminal o abriendo en\n",
    "una pestaña nueva del navegador con [`socket-server.ipynb`](./socket-server.ipynb).\n",
    "\n",
    "❷ Arrancar el programa `socket-client.py`, ya sea en una terminal o abriendo en\n",
    "una pestaña nueva del navegador con [`socket-client.ipynb`](./socket-client.ipynb).\n",
    "\n",
    "❸ En la pestaña o terminal del servidor veremos que se pregunta al usuario\n",
    "por el texto de la respuesta; escribir algo y pulsar enter.\n",
    "\n",
    "❹ En la pestaña / terminal del cliente, veremos que hemos recibido una\n",
    "respuesta con el texto que metimos.\n",
    "\n",
    "Puedes ejecutar el cliente las veces que quieras. El cliente enviará los textos\n",
    "que se introduzcan en el servidor."
   ]
  },
  {
   "cell_type": "markdown",
   "metadata": {},
   "source": [
    "Ahora, revisando nuestro codigo servidor, vamos a añadir un par de decoradores para \n",
    "el socket. El primero sera un decorador de *Logging*. Este decorador simplemente\n",
    "imprime en la consola del servidor los datos enviados."
   ]
  },
  {
   "cell_type": "code",
   "execution_count": null,
   "metadata": {},
   "outputs": [],
   "source": [
    "class LogSocket:\n",
    "\n",
    "    def __init__(self, socket):\n",
    "        self.socket = socket\n",
    "\n",
    "    def send(self, data):\n",
    "        print(\"Sending {0} to {1}\".format(\n",
    "            data, self.socket.getpeername()[0]))\n",
    "        self.socket.send(data)\n",
    "\n",
    "    def close(self):\n",
    "        self.socket.close()"
   ]
  },
  {
   "cell_type": "markdown",
   "metadata": {},
   "source": [
    "El decorador mantiene la misma interfaz que el onjeto socket, asi que, a los\n",
    "efectos de la función `respond`, lo mismo le da usar un socket normal\n",
    "o nuestra versión decorada."
   ]
  },
  {
   "cell_type": "markdown",
   "metadata": {},
   "source": [
    "\n",
    "### Ejercicio: Modificar el código del servidor para que use nuestra nueva clase decorada"
   ]
  },
  {
   "cell_type": "code",
   "execution_count": 17,
   "metadata": {},
   "outputs": [
    {
     "name": "stdout",
     "output_type": "stream",
     "text": [
      "Enter a value: Hola, margarita\n",
      "Sending b\"Hello ('127.0.0.1', 62892) this is your response: Hola, margarita\" to 127.0.0.1\n"
     ]
    },
    {
     "ename": "KeyboardInterrupt",
     "evalue": "",
     "output_type": "error",
     "traceback": [
      "\u001b[0;31m---------------------------------------------------------------------------\u001b[0m",
      "\u001b[0;31mKeyboardInterrupt\u001b[0m                         Traceback (most recent call last)",
      "\u001b[0;32m<ipython-input-17-4f28b7c45638>\u001b[0m in \u001b[0;36m<module>\u001b[0;34m\u001b[0m\n\u001b[1;32m     27\u001b[0m \u001b[0;32mtry\u001b[0m\u001b[0;34m:\u001b[0m\u001b[0;34m\u001b[0m\u001b[0;34m\u001b[0m\u001b[0m\n\u001b[1;32m     28\u001b[0m     \u001b[0;32mwhile\u001b[0m \u001b[0;32mTrue\u001b[0m\u001b[0;34m:\u001b[0m\u001b[0;34m\u001b[0m\u001b[0;34m\u001b[0m\u001b[0m\n\u001b[0;32m---> 29\u001b[0;31m         \u001b[0mclient\u001b[0m\u001b[0;34m,\u001b[0m \u001b[0maddr\u001b[0m \u001b[0;34m=\u001b[0m \u001b[0mserver\u001b[0m\u001b[0;34m.\u001b[0m\u001b[0maccept\u001b[0m\u001b[0;34m(\u001b[0m\u001b[0;34m)\u001b[0m\u001b[0;34m\u001b[0m\u001b[0;34m\u001b[0m\u001b[0m\n\u001b[0m\u001b[1;32m     30\u001b[0m         \u001b[0mmust_exit\u001b[0m \u001b[0;34m=\u001b[0m \u001b[0mrespond\u001b[0m\u001b[0;34m(\u001b[0m\u001b[0mLogSocket\u001b[0m\u001b[0;34m(\u001b[0m\u001b[0mclient\u001b[0m\u001b[0;34m)\u001b[0m\u001b[0;34m,\u001b[0m \u001b[0maddr\u001b[0m\u001b[0;34m)\u001b[0m\u001b[0;34m\u001b[0m\u001b[0;34m\u001b[0m\u001b[0m\n\u001b[1;32m     31\u001b[0m         \u001b[0;32mif\u001b[0m \u001b[0mmust_exit\u001b[0m\u001b[0;34m:\u001b[0m\u001b[0;34m\u001b[0m\u001b[0;34m\u001b[0m\u001b[0m\n",
      "\u001b[0;32m/Library/Frameworks/Python.framework/Versions/3.7/lib/python3.7/socket.py\u001b[0m in \u001b[0;36maccept\u001b[0;34m(self)\u001b[0m\n\u001b[1;32m    210\u001b[0m         \u001b[0mFor\u001b[0m \u001b[0mIP\u001b[0m \u001b[0msockets\u001b[0m\u001b[0;34m,\u001b[0m \u001b[0mthe\u001b[0m \u001b[0maddress\u001b[0m \u001b[0minfo\u001b[0m \u001b[0;32mis\u001b[0m \u001b[0ma\u001b[0m \u001b[0mpair\u001b[0m \u001b[0;34m(\u001b[0m\u001b[0mhostaddr\u001b[0m\u001b[0;34m,\u001b[0m \u001b[0mport\u001b[0m\u001b[0;34m)\u001b[0m\u001b[0;34m.\u001b[0m\u001b[0;34m\u001b[0m\u001b[0;34m\u001b[0m\u001b[0m\n\u001b[1;32m    211\u001b[0m         \"\"\"\n\u001b[0;32m--> 212\u001b[0;31m         \u001b[0mfd\u001b[0m\u001b[0;34m,\u001b[0m \u001b[0maddr\u001b[0m \u001b[0;34m=\u001b[0m \u001b[0mself\u001b[0m\u001b[0;34m.\u001b[0m\u001b[0m_accept\u001b[0m\u001b[0;34m(\u001b[0m\u001b[0;34m)\u001b[0m\u001b[0;34m\u001b[0m\u001b[0;34m\u001b[0m\u001b[0m\n\u001b[0m\u001b[1;32m    213\u001b[0m         \u001b[0msock\u001b[0m \u001b[0;34m=\u001b[0m \u001b[0msocket\u001b[0m\u001b[0;34m(\u001b[0m\u001b[0mself\u001b[0m\u001b[0;34m.\u001b[0m\u001b[0mfamily\u001b[0m\u001b[0;34m,\u001b[0m \u001b[0mself\u001b[0m\u001b[0;34m.\u001b[0m\u001b[0mtype\u001b[0m\u001b[0;34m,\u001b[0m \u001b[0mself\u001b[0m\u001b[0;34m.\u001b[0m\u001b[0mproto\u001b[0m\u001b[0;34m,\u001b[0m \u001b[0mfileno\u001b[0m\u001b[0;34m=\u001b[0m\u001b[0mfd\u001b[0m\u001b[0;34m)\u001b[0m\u001b[0;34m\u001b[0m\u001b[0;34m\u001b[0m\u001b[0m\n\u001b[1;32m    214\u001b[0m         \u001b[0;31m# Issue #7995: if no default timeout is set and the listening\u001b[0m\u001b[0;34m\u001b[0m\u001b[0;34m\u001b[0m\u001b[0;34m\u001b[0m\u001b[0m\n",
      "\u001b[0;31mKeyboardInterrupt\u001b[0m: "
     ]
    }
   ],
   "source": [
    "import socket\n",
    "\n",
    "class LogSocket:\n",
    "\n",
    "    def __init__(self, socket):\n",
    "        self.socket = socket\n",
    "\n",
    "    def send(self, data):\n",
    "        print(\"Sending {0} to {1}\".format(\n",
    "            data, self.socket.getpeername()[0]))\n",
    "        self.socket.send(data)\n",
    "\n",
    "    def close(self):\n",
    "        self.socket.close()\n",
    "\n",
    "\n",
    "def respond(client, addr):\n",
    "    response = input(\"Enter a value: \")\n",
    "    message = f\"Hello {addr} this is your response: {response}\"\n",
    "    client.send(message.encode('utf8'))\n",
    "    client.close()\n",
    "    return response == 'exit'\n",
    "\n",
    "server = socket.socket(socket.AF_INET, socket.SOCK_STREAM)\n",
    "server.bind(('localhost', 8401))\n",
    "server.listen(1)\n",
    "try:\n",
    "    while True:\n",
    "        client, addr = server.accept()\n",
    "        must_exit = respond(LogSocket(client), addr)\n",
    "        if must_exit:\n",
    "            break\n",
    "finally:\n",
    "    server.close()\n",
    "        "
   ]
  },
  {
   "cell_type": "code",
   "execution_count": null,
   "metadata": {},
   "outputs": [],
   "source": []
  }
 ],
 "metadata": {
  "kernelspec": {
   "display_name": "Python 3",
   "language": "python",
   "name": "python3"
  },
  "language_info": {
   "codemirror_mode": {
    "name": "ipython",
    "version": 3
   },
   "file_extension": ".py",
   "mimetype": "text/x-python",
   "name": "python",
   "nbconvert_exporter": "python",
   "pygments_lexer": "ipython3",
   "version": "3.7.6"
  }
 },
 "nbformat": 4,
 "nbformat_minor": 4
}
