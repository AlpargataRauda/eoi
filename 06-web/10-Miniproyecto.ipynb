{
 "cells": [
  {
   "cell_type": "markdown",
   "metadata": {},
   "source": [
    "## 09-Miniproyecto\n",
    "\n",
    "Si realizas este miniproyecto, vale también para la parte de LIbrerias. Es decir, que \n",
    "para estos dos temas solo necesitas un único proyecto.\n"
   ]
  },
  {
   "cell_type": "markdown",
   "metadata": {},
   "source": [
    "### Gestión de facturas\n",
    "\n"
   ]
  },
  {
   "cell_type": "markdown",
   "metadata": {},
   "source": [
    "Implentar una nueva aplicacion de Django desde cero, para gestionar facturas. Para ello crearemos \n",
    "una nueva applicación con ``django-admin startproject facturas``:\n",
    "\n",
    "```bash\n",
    "    django-admin startproject facturas\n",
    "    cd facturas\n",
    "```"
   ]
  },
  {
   "cell_type": "markdown",
   "metadata": {},
   "source": [
    "Ya dentro de la aplicación, usaremos ``manage.py`` para crear una nueva ``app``, por ejemplo, ``factura``:\n",
    "\n",
    "```\n",
    "./manage.py startapp factura\n",
    "```"
   ]
  },
  {
   "cell_type": "markdown",
   "metadata": {},
   "source": [
    "#### Primera parte"
   ]
  },
  {
   "cell_type": "markdown",
   "metadata": {},
   "source": [
    "Para realizar la práctica, debes crear dos modelos (En el fichero ``factura/models.py``), un modelo para\n",
    "la factura en si (clase ``Factura``), donde guardaremos los datos de la cabecera, y otro modelo para\n",
    "las líneas de la factura (clase ``LineaFactura``), ya que normalmente las facturas tienen más\n",
    "de una línea, y por tanto debemos deflejar esa relacion N:1.\n",
    "\n",
    "En el modelo de la factura, hay que incluir al menos los siguientes atributos:\n",
    "\n",
    "- ``num``: Número de la factura\n",
    "- ``anio``: Año de la factura\n",
    "- ``fecha_emision``: Fecha\n",
    "- ``cliente_nombre``: Nombre del cliente\n",
    "- ``cliente_direccion``: Dirección del cliente\n",
    "\n",
    "En la línea de factura, necesitamos al menos:\n",
    "\n",
    "- ``nombre_producto``: Nombre del producto\n",
    "- ``precio_unitario``: Precio por unidad del producto\n",
    "- ``unidades``: Total de unidades servidas\n",
    "\n",
    "Recuerda que:\n",
    "\n",
    "- En Django las claves primaria solo pueden constar de un único campo. En el caso de la factura, la combinacion\n",
    "de número y año podría ser una clave primaria válida, pero al ser dos campos, no podemos usarla. En tus modelos\n",
    "puedes crear una clave primaria de forma explícita o no declarar ninguna y dejar que Django cree automáticamente\n",
    "una clave primaria, numérica y autoincremental, con el nombre de `id`, lo que prefieras.\n",
    "\n",
    "- La linea de factura necesita estar vinculada con la factura de la que forma parte, así que necesitarás\n",
    "un _foreign key_ en la linea, apuntando hacia la factura, de forma similar a como las tareas en el curso\n",
    "apuntaban a un proyecto.\n",
    "\n",
    "- Cuando usamos un campo ``ForeignKey`` es obligatorio definir el parametro ``on_delete``, con el\n",
    "que le indicamos que debe hacer el sistema para evitar la ruptura de la **integridad referencial** si\n",
    "se borrara la entidad referenciada; en este caso, que hacemos con las líneas de factura si se borra\n",
    "la factura a la que corresponden. En el curso vimos que habia varias opciones, entre ellas:\n",
    "\n",
    "  - ``models.PROTECT`` evitaba que se borrara la factura si hubiera todavía líneas referenciandolo (Es decir, que para borrar la factuara previamente habriamos de borrar todas las líneas que tuviera).\n",
    "  \n",
    "  - ``models.DELETE`` borraba todas las líneas de factura, si se borra la factura.\n",
    "  \n",
    "Ambos métodos son válidos a nivel de integridad, en los dos casos nunca terminamos con una linea de factura\n",
    "apuntando a una factura que ya no existe. ¿Cuál de los dos sistemas crees que se podría aplicar en este caso? Justifica la respuesta."
   ]
  },
  {
   "cell_type": "markdown",
   "metadata": {},
   "source": [
    "#### Segunda parte\n",
    "\n",
    "Una vez creados los modelos, añadelos al admin para que puedas crear una factura de prueba.\n",
    "\n",
    "Crea una vista  para ver la factura y vincula en el fichero ``urls.py`` el path ``/factura/<int:pk>`` a esa vista.\n",
    "    \n",
    "En la vista de las facturas deberas incluir, toda lala informacion de la factura, y además, para cada línea\n",
    "de factura deberias incluir la información de la línea: nombre del producto, precio unitario, unidades servidas, \n",
    "pero también el precio real (Es decir, el producto del precio unitario por el número de unidades).\n",
    "Ademas, al final de la factura deberias incluir la suma total de la factura (No es preciso tener en cuenta los\n",
    "calculos de impuestos, pero si quieres hacer el proyecto más interesante, añadele un tanto por ciento a la suma \n",
    "como si fuera el IVA para obtener el precio final).\n",
    "\n",
    "Recuerda que:\n",
    "    \n",
    "- El sistema de plantillas es deliberadamente sencillo. Si ves que se complica, cálcula los datos como \n",
    "el total de la factura en la vista\n",
    "\n",
    "- Las clases modelo son clases normales, asi que puedes definir sin problema un metodo ``precio_real`` en la\n",
    "  clase ``LineaFactura`` que devuelva el cálculo de precio unitario $\\times$ el número de unidades.\n",
    "\n",
    "\n",
    "    "
   ]
  },
  {
   "cell_type": "markdown",
   "metadata": {},
   "source": [
    "### Rúbrica de evaluación\n",
    "\n",
    "- Definición del modelo ``Factura``: 20%\n",
    "- Definición del modelo ``LineaFactura``: 20%\n",
    "- Mapeo de la URL a la vista: 10%\n",
    "- Definición de la vista: 10%\n",
    "- Definición de la plantilla o _template_: 10%\n",
    "- Cálculo y presentación del precio real de cada linea: 5%\n",
    "- Cálculo y presentación del precio final (suma de todos los precios): 5%\n",
    "- Cualquier mejora sobre la propuesta: 20%\n",
    "\n",
    "Ejemplos de posibles mejoras:\n",
    "\n",
    "- Usar algun sistema de framework CSS para mejorar la estética del resultado final\n",
    "\n",
    "- Definicion de etiquetas o filtros propios\n",
    "\n",
    "- Añadir alguna entidad, como por ejemplo el Cliente (Y sacar los datos del cliente de la\n",
    "  factura de forma que la factura referencie al cliente: Un cliente puede tener\n",
    "  varias facturas, pero una factura solo puede estar asociada a un unico cliente)\n",
    "\n",
    "- Similar, añadiendo un modelo ``Producto``. Sacar los datos del producto (En este\n",
    "  caso solo el nombre), referenciar en la clase ``LineaFactura`` a ``Producto``.\n",
    "  Fíjate que la relacion entre producto y linea de factura es N:N, un producto puede aparecer\n",
    "  en varias facturas y una factura puede tener varios productos. La tabla o relacion que permite\n",
    "  guardar esta vinculacion N:N es precisamente ``LineaFactura``.\n",
    "  \n",
    "- Añadir un campo de descuento en la linea de factura, de forma que el calculo del precio total de\n",
    "la línea aplique ese descuento en forma de porcentaje."
   ]
  },
  {
   "cell_type": "code",
   "execution_count": null,
   "metadata": {},
   "outputs": [],
   "source": []
  }
 ],
 "metadata": {
  "kernelspec": {
   "display_name": "Python 3",
   "language": "python",
   "name": "python3"
  },
  "language_info": {
   "codemirror_mode": {
    "name": "ipython",
    "version": 3
   },
   "file_extension": ".py",
   "mimetype": "text/x-python",
   "name": "python",
   "nbconvert_exporter": "python",
   "pygments_lexer": "ipython3",
   "version": "3.8.5"
  }
 },
 "nbformat": 4,
 "nbformat_minor": 4
}
