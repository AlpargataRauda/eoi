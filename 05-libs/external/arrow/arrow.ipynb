{
 "cells": [
  {
   "cell_type": "markdown",
   "metadata": {
    "slideshow": {
     "slide_type": "slide"
    }
   },
   "source": [
    "## La librería arrow\n",
    "\n",
    "La librería **arrow** nos facilita trabajar con fechas."
   ]
  },
  {
   "cell_type": "markdown",
   "metadata": {
    "slideshow": {
     "slide_type": "slide"
    }
   },
   "source": [
    "**Arrow** intenta que trabajar, modificar, formatear y convertir fechas sea más\n",
    "sencillo y amigable que con el paquete de la librería estándar `datetime`. \n",
    "\n",
    "Lo hace reimplementando y actualizando la clase datetime, cubriendo ciertos huecos en la\n",
    "funcionalidad y proporcionando una API más directa para muchas formas\n",
    "diferentes de crear fechas. A modo de resumen, intenta que se pueda\n",
    "trabajar con fechas con menos imports y menos código.\n",
    "\n",
    "El nombre, *arrow* (Flecha) viene de la expresión *fecha del tiempo*."
   ]
  },
  {
   "cell_type": "markdown",
   "metadata": {},
   "source": [
    "### Instalar arrow\n",
    "\n",
    "Se instala simplemente con pip:"
   ]
  },
  {
   "cell_type": "code",
   "execution_count": 1,
   "metadata": {},
   "outputs": [
    {
     "name": "stdout",
     "output_type": "stream",
     "text": [
      "Requirement already satisfied: arrow in /home/jileon/.virtualenvs/eoi/lib/python3.6/site-packages (0.15.5)\r\n",
      "Requirement already satisfied: python-dateutil in /home/jileon/.virtualenvs/eoi/lib/python3.6/site-packages (from arrow) (2.8.1)\r\n",
      "Requirement already satisfied: six>=1.5 in /home/jileon/.virtualenvs/eoi/lib/python3.6/site-packages (from python-dateutil->arrow) (1.14.0)\r\n"
     ]
    }
   ],
   "source": [
    "!pip install arrow"
   ]
  },
  {
   "cell_type": "markdown",
   "metadata": {
    "slideshow": {
     "slide_type": "slide"
    }
   },
   "source": [
    "### Ventajas de usar arrow\n",
    "\n",
    "Se puede trabajar perfectamente con fechas usando la librería estándar,\n",
    "pero lo que arrow intenta mejorarla en los siguientes aspectos:\n",
    "\n",
    "-   Demasiados módulos: datetime, time, calendar, dateutil, pytz, etc.\n",
    "\n",
    "-   Demasiados tipos: date, time, datetime, tzinfo, timedelta,\n",
    "    relativedelta, etc.\n",
    "    \n",
    "-   Trabajar con [husos\n",
    "    horarios](https://es.wikipedia.org/wiki/Huso_horario) (*timezone*) y\n",
    "    convertir de una zona horaria a otra resulta farragoso y pesado.\n",
    "    \n",
    "-   Las marcas de tiempo (*timestamp*) son abiertas o ingenuas (*naive*)\n",
    "    por defecto.\n",
    "    \n",
    "-   Existen ciertos huecos en la funcionalidad: Interpretar texto en\n",
    "    formato ISO 8601, convertir a valores más cercanos al humano.\n",
    "\n",
    "Veremos ejemplos de cada una de estas funcionalidad tal y como las\n",
    "resuelve `arrow`."
   ]
  },
  {
   "cell_type": "markdown",
   "metadata": {
    "slideshow": {
     "slide_type": "slide"
    }
   },
   "source": [
    "### Crear fechas\n",
    "\n",
    "Usando datetime no tenemos muchas opciones para crear fechas, podemos\n",
    "crearlas pasando los datos que necesitamos, o obtener la fecha de hoy con\n",
    "`datetime.data.today` o el *timestamp* de este momento, con `datetime.datetime.now`\n",
    "o `datetime.datetime.utcnow`. "
   ]
  },
  {
   "cell_type": "code",
   "execution_count": 2,
   "metadata": {
    "slideshow": {
     "slide_type": "slide"
    }
   },
   "outputs": [
    {
     "name": "stdout",
     "output_type": "stream",
     "text": [
      "2020-06-23,2020-06-23 12:00:00,2020-04-18,2020-04-18 19:15:50.991685\n"
     ]
    }
   ],
   "source": [
    "import datetime\n",
    "\n",
    "fecha = datetime.date(2020, 6, 23)  # 23/jun/2020\n",
    "timestamp = datetime.datetime(2020, 6, 23, 12, 0, 0)  # 23/jun/2020, a las 12:00:00\n",
    "\n",
    "hoy = datetime.date.today()\n",
    "ahora = datetime.datetime.now()\n",
    "print(fecha, timestamp, hoy, ahora, sep=\",\")"
   ]
  },
  {
   "cell_type": "markdown",
   "metadata": {
    "slideshow": {
     "slide_type": "slide"
    }
   },
   "source": [
    "Con `arrow` tenemos las mismas opciones, pero ademas podemos crear una\n",
    "fecha timestamp a partir del texto en formato ISO 8601. Arrow crea casi\n",
    "todos las variables con la funcion `get`. Si se llama a `get` sin\n",
    "parametros nos devolvera la fecha y gora actual, usando la zona horaria UTC:"
   ]
  },
  {
   "cell_type": "code",
   "execution_count": 16,
   "metadata": {
    "slideshow": {
     "slide_type": "slide"
    }
   },
   "outputs": [],
   "source": [
    "import arrow\n",
    "ts = arrow.get('2020-06-11T21:23:58.970460+07:00')\n",
    "d1 = arrow.get(2020, 3, 3)\n",
    "d2 = arrow.get('2020-03-03')\n",
    "assert d1 == d2"
   ]
  },
  {
   "cell_type": "markdown",
   "metadata": {
    "slideshow": {
     "slide_type": "slide"
    }
   },
   "source": [
    "Además, al contrario que `datetime`, las fechas y marcas temporales no\n",
    "son abiertas o *naive* por defecto, sino que tienen definido el huso\n",
    "horario al que corresponden."
   ]
  },
  {
   "cell_type": "code",
   "execution_count": 20,
   "metadata": {},
   "outputs": [
    {
     "name": "stdout",
     "output_type": "stream",
     "text": [
      "2020-04-18T19:01:05.373256+00:00 tzutc()\n"
     ]
    }
   ],
   "source": [
    "import arrow\n",
    "now = arrow.get()\n",
    "print(now, now.tzinfo)"
   ]
  },
  {
   "cell_type": "markdown",
   "metadata": {
    "slideshow": {
     "slide_type": "slide"
    }
   },
   "source": [
    "### Obtener una fecha/timestamp a partir de otra\n",
    "\n",
    "Los objetos `Arrow` tienen un método llamado `replace` para cambiar los\n",
    "valores de una fecha, y otro llamado `shift` que nos permite *desplazar*\n",
    "una fecha a lo largo del tiempo. Como los objetos tipo `Arrow` son\n",
    "inmutables, tanto `replace` como `shitf` nos devuelven un nuevo objeto\n",
    "en la posicion temporal deseada. \n",
    "\n",
    "El método acepta diferentes unidades de\n",
    "desplazamiento, y lo hace mediante parametro con nombre, como `days`,\n",
    "`months`, `minutes`,..."
   ]
  },
  {
   "cell_type": "markdown",
   "metadata": {
    "slideshow": {
     "slide_type": "slide"
    }
   },
   "source": [
    "**Ejercicio**: Calcular el número de días que faltan para la navidad "
   ]
  },
  {
   "cell_type": "markdown",
   "metadata": {
    "slideshow": {
     "slide_type": "fragment"
    }
   },
   "source": [
    "**Pista**: primero obten la fecha actual, luego crea una nueva fecha reemplazando el mes por 12 y el dia por 25. La diferencia entre las dos fechas te da el numero de dias hasta navidad"
   ]
  },
  {
   "cell_type": "code",
   "execution_count": 18,
   "metadata": {},
   "outputs": [
    {
     "name": "stdout",
     "output_type": "stream",
     "text": [
      "<class 'datetime.timedelta'>\n"
     ]
    }
   ],
   "source": [
    "today = arrow.get()\n",
    "navidad = today.replace(month=12, day=25)\n",
    "print(navidad - today)"
   ]
  },
  {
   "cell_type": "markdown",
   "metadata": {
    "slideshow": {
     "slide_type": "slide"
    }
   },
   "source": [
    "Ejercicio: Usando `arrow`, calcular el dia de la semana de la fecha\n",
    "correspondiente al día actual, pero dentro de 89 años, 3 meses y 9 días.\n",
    "\n",
    "Ver solución: :ref:arrow\\_01."
   ]
  },
  {
   "cell_type": "code",
   "execution_count": null,
   "metadata": {},
   "outputs": [],
   "source": [
    "**Ejercicio**: Calcular el numero total de viernes y 13 en el ano actual"
   ]
  },
  {
   "cell_type": "code",
   "execution_count": null,
   "metadata": {},
   "outputs": [],
   "source": []
  },
  {
   "cell_type": "code",
   "execution_count": 5,
   "metadata": {},
   "outputs": [
    {
     "name": "stdout",
     "output_type": "stream",
     "text": [
      "arrow.rst  requests.rst\r\n"
     ]
    }
   ],
   "source": [
    "!ls *.rst"
   ]
  },
  {
   "cell_type": "code",
   "execution_count": null,
   "metadata": {},
   "outputs": [],
   "source": []
  }
 ],
 "metadata": {
  "celltoolbar": "Slideshow",
  "kernelspec": {
   "display_name": "Python 3",
   "language": "python",
   "name": "python3"
  },
  "language_info": {
   "codemirror_mode": {
    "name": "ipython",
    "version": 3
   },
   "file_extension": ".py",
   "mimetype": "text/x-python",
   "name": "python",
   "nbconvert_exporter": "python",
   "pygments_lexer": "ipython3",
   "version": "3.6.9"
  }
 },
 "nbformat": 4,
 "nbformat_minor": 4
}
