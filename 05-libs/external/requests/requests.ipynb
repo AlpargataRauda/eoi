{
 "cells": [
  {
   "cell_type": "markdown",
   "metadata": {
    "slideshow": {
     "slide_type": "slide"
    }
   },
   "source": [
    "## La libreria requests\n",
    "\n",
    "Requests es una librería para HTTP escrita en Python, para seres humanos."
   ]
  },
  {
   "cell_type": "code",
   "execution_count": 104,
   "metadata": {},
   "outputs": [
    {
     "name": "stdout",
     "output_type": "stream",
     "text": [
      "The Zen of Python, by Tim Peters\n",
      "\n",
      "Beautiful is better than ugly.\n",
      "Explicit is better than implicit.\n",
      "Simple is better than complex.\n",
      "Complex is better than complicated.\n",
      "Flat is better than nested.\n",
      "Sparse is better than dense.\n",
      "Readability counts.\n",
      "Special cases aren't special enough to break the rules.\n",
      "Although practicality beats purity.\n",
      "Errors should never pass silently.\n",
      "Unless explicitly silenced.\n",
      "In the face of ambiguity, refuse the temptation to guess.\n",
      "There should be one-- and preferably only one --obvious way to do it.\n",
      "Although that way may not be obvious at first unless you're Dutch.\n",
      "Now is better than never.\n",
      "Although never is often better than *right* now.\n",
      "If the implementation is hard to explain, it's a bad idea.\n",
      "If the implementation is easy to explain, it may be a good idea.\n",
      "Namespaces are one honking great idea -- let's do more of those!\n"
     ]
    }
   ],
   "source": [
    "import this"
   ]
  },
  {
   "cell_type": "markdown",
   "metadata": {
    "slideshow": {
     "slide_type": "slide"
    }
   },
   "source": [
    "### Filosofía\n",
    "\n",
    "Requests fue desarrollado al estilo PEP 20.\n",
    "\n",
    "- Hermoso es mejor que feo.\n",
    "- Implícito es mejor que implícito.\n",
    "- Simple es mejor que complejo.\n",
    "- Complejo es mejor que complicado.\n",
    "- La legibilidad cuenta."
   ]
  },
  {
   "cell_type": "markdown",
   "metadata": {},
   "source": [
    "### Instalar requests"
   ]
  },
  {
   "cell_type": "code",
   "execution_count": 105,
   "metadata": {},
   "outputs": [
    {
     "name": "stdout",
     "output_type": "stream",
     "text": [
      "Defaulting to user installation because normal site-packages is not writeable\n",
      "Requirement already satisfied: requests in /usr/lib/python3/dist-packages (2.22.0)\n",
      "\u001b[33mWARNING: You are using pip version 20.2.3; however, version 20.2.4 is available.\n",
      "You should consider upgrading via the '/usr/bin/python3.8 -m pip install --upgrade pip' command.\u001b[0m\n",
      "Note: you may need to restart the kernel to use updated packages.\n"
     ]
    }
   ],
   "source": [
    "pip install requests"
   ]
  },
  {
   "cell_type": "code",
   "execution_count": 4,
   "metadata": {},
   "outputs": [],
   "source": [
    "import requests"
   ]
  },
  {
   "cell_type": "markdown",
   "metadata": {
    "slideshow": {
     "slide_type": "slide"
    }
   },
   "source": [
    "### Ejemplo de uso"
   ]
  },
  {
   "cell_type": "code",
   "execution_count": 107,
   "metadata": {
    "slideshow": {
     "slide_type": "slide"
    }
   },
   "outputs": [
    {
     "name": "stdout",
     "output_type": "stream",
     "text": [
      "200\n",
      "ISO-8859-1\n",
      " - Date: Fri, 23 Oct 2020 14:48:05 GMT\n",
      " - Expires: -1\n",
      " - Cache-Control: private, max-age=0\n",
      " - Content-Type: text/html; charset=ISO-8859-1\n",
      " - P3P: CP=\"This is not a P3P policy! See g.co/p3phelp for more info.\"\n",
      " - Content-Encoding: gzip\n",
      " - Server: gws\n",
      " - Content-Length: 6076\n",
      " - X-XSS-Protection: 0\n",
      " - X-Frame-Options: SAMEORIGIN\n",
      " - Set-Cookie: NID=204=QTw5WRVVfnkIwzc9x12gWst_JU5Fn-WfpYOAMI1Fv0x1qgcBMXUPIQFJ0pAgOX_cvKeFbV50UHm-k3xI-vYPKJ7wgSKmFA_lTGrU0cEybxrdx_Ev-_0ytA_GV64-1A__G2TAM6oISyXepBFcsewmsczTP1SeSQ42cE9C73u0MYE; expires=Sat, 24-Apr-2021 14:48:05 GMT; path=/; domain=.google.com; HttpOnly\n"
     ]
    },
    {
     "data": {
      "text/plain": [
       "'<!doctype html><html itemscope=\"\" itemtype=\"http://schema.org/WebPage\" lang=\"es\"><head><meta content=\"Google.es permite acceder a la información mundial en castellano, catalán, gallego, euskara e ingl'"
      ]
     },
     "execution_count": 107,
     "metadata": {},
     "output_type": "execute_result"
    }
   ],
   "source": [
    "import requests\n",
    "\n",
    "r = requests.get('http://google.com/')\n",
    "print(r.status_code)\n",
    "print(r.encoding)\n",
    "for name in r.headers:\n",
    "    print(f\" - {name}: {r.headers[name]}\")"
   ]
  },
  {
   "cell_type": "markdown",
   "metadata": {},
   "source": [
    "### Las propiedades status_code y ok\n",
    "\n"
   ]
  },
  {
   "cell_type": "markdown",
   "metadata": {
    "slideshow": {
     "slide_type": "slide"
    }
   },
   "source": [
    "En la propiedad `status_code` del objeto `r` que nos ha devuelto la llamada (que es una\n",
    "instancia de la clase `Response` definida en requests), podemos acceder al codigo\n",
    "de respuesta del servidor usando la propiedad `status_dode`. Este es el famoso \n",
    "Error **404** que obtenemos a veces en el navegador, si intentamos acceder a una\n",
    "página que no existe. El codigo para \"todo ha ido bien\" en **200**.\n",
    "\n",
    "Por tanto. podemos comprobar si la respueste es correcta accediendo al valor\n",
    "de `status_code` y ver si es un 200- Pero hay una forma aún más fácil, simplemente comprobar la\n",
    "propiedad `ok`, que es un booleano, de la respuesta. Si está asignada a `True`, la respuesta es\n",
    "correcta.\n"
   ]
  },
  {
   "cell_type": "code",
   "execution_count": null,
   "metadata": {},
   "outputs": [],
   "source": []
  },
  {
   "cell_type": "code",
   "execution_count": 108,
   "metadata": {},
   "outputs": [
    {
     "name": "stdout",
     "output_type": "stream",
     "text": [
      "True\n"
     ]
    }
   ],
   "source": [
    "import requests\n",
    "\n",
    "r = requests.get('https://es.wikipedia.org')\n",
    "print(r.ok)"
   ]
  },
  {
   "cell_type": "markdown",
   "metadata": {},
   "source": [
    "**Ejercicio**: Escribir un pequeño programa que compruebe que las siguientes páginas web estan\n",
    "    funcionando: `google.es`, `es.wikipedia.es` y `www.nasa.gov`:"
   ]
  },
  {
   "cell_type": "code",
   "execution_count": 117,
   "metadata": {},
   "outputs": [
    {
     "name": "stdout",
     "output_type": "stream",
     "text": [
      "http://marca.es True\n",
      "http://google.es/ True\n",
      "http://es.wikipedia.org/ True\n",
      "http://www.python.org/ True\n",
      "http://github.com/ True\n"
     ]
    }
   ],
   "source": [
    "import requests\n",
    "\n",
    "urls = [\n",
    "    'http://marca.es',\n",
    "    'http://google.es/',\n",
    "    'http://es.wikipedia.org/',\n",
    "    'http://www.python.org/',\n",
    "    'http://github.com/',\n",
    "]\n",
    "\n",
    "for url in urls:\n",
    "    print(url, requests.get(url).ok)"
   ]
  },
  {
   "cell_type": "markdown",
   "metadata": {},
   "source": [
    "**Post-Ejercicio**: Añade ahora una comprobación para `github.com`"
   ]
  },
  {
   "cell_type": "markdown",
   "metadata": {},
   "source": [
    "### Usar requests para obtener json\n",
    "\n",
    "Si la peticion que hacemos nos devuelve contenido formateado en `json`, disponemos de un método \n",
    "ya predefinido que nos devuelve los valores ya interpretados como variables python, es decir, no tenemos que utilizar\n",
    "el módulo `json`. Veamos un ejemplo con una API pública que ofrece el Banco Central Europeo para\n",
    "el cambio de divisas:"
   ]
  },
  {
   "cell_type": "code",
   "execution_count": 122,
   "metadata": {
    "slideshow": {
     "slide_type": "slide"
    }
   },
   "outputs": [
    {
     "name": "stdout",
     "output_type": "stream",
     "text": [
      "La respuesta es de tipo: application/json\n",
      "<class 'dict'>\n"
     ]
    },
    {
     "data": {
      "text/plain": [
       "{'CAD': 1.5563,\n",
       " 'HKD': 9.1885,\n",
       " 'ISK': 164.9,\n",
       " 'PHP': 57.388,\n",
       " 'DKK': 7.4407,\n",
       " 'HUF': 364.17,\n",
       " 'CZK': 27.222,\n",
       " 'AUD': 1.6578,\n",
       " 'RON': 4.874,\n",
       " 'SEK': 10.3618,\n",
       " 'IDR': 17410.24,\n",
       " 'INR': 87.3245,\n",
       " 'BRL': 6.6052,\n",
       " 'RUB': 90.6421,\n",
       " 'HRK': 7.5778,\n",
       " 'JPY': 124.17,\n",
       " 'THB': 37.056,\n",
       " 'CHF': 1.0715,\n",
       " 'SGD': 1.6089,\n",
       " 'PLN': 4.5823,\n",
       " 'BGN': 1.9558,\n",
       " 'TRY': 9.4418,\n",
       " 'CNY': 7.9157,\n",
       " 'NOK': 10.9178,\n",
       " 'NZD': 1.7703,\n",
       " 'ZAR': 19.1905,\n",
       " 'USD': 1.1856,\n",
       " 'MXN': 24.753,\n",
       " 'ILS': 4.0032,\n",
       " 'GBP': 0.90675,\n",
       " 'KRW': 1338.52,\n",
       " 'MYR': 4.9291}"
      ]
     },
     "execution_count": 122,
     "metadata": {},
     "output_type": "execute_result"
    }
   ],
   "source": [
    "import requests\n",
    "\n",
    "r = requests.get('https://api.exchangeratesapi.io/latest')\n",
    "\n",
    "data = r.json()\n",
    "print(\"La respuesta es de tipo:\", r.headers['content-type'])\n",
    "print(type(data))\n"
   ]
  },
  {
   "cell_type": "markdown",
   "metadata": {
    "slideshow": {
     "slide_type": "slide"
    }
   },
   "source": [
    "**Ejercicio**: Haz un pequeño script para imprimir por pantalla una lista de \n",
    "los tipos de cambio en el momento actual. Usa la API del Banco Central Europeo."
   ]
  },
  {
   "cell_type": "code",
   "execution_count": 125,
   "metadata": {},
   "outputs": [
    {
     "name": "stdout",
     "output_type": "stream",
     "text": [
      "Un euro al cambio son 1.5563 CAD\n",
      "Un euro al cambio son 9.1885 HKD\n",
      "Un euro al cambio son 164.9 ISK\n",
      "Un euro al cambio son 57.388 PHP\n",
      "Un euro al cambio son 7.4407 DKK\n",
      "Un euro al cambio son 364.17 HUF\n",
      "Un euro al cambio son 27.222 CZK\n",
      "Un euro al cambio son 1.6578 AUD\n",
      "Un euro al cambio son 4.874 RON\n",
      "Un euro al cambio son 10.3618 SEK\n",
      "Un euro al cambio son 17410.24 IDR\n",
      "Un euro al cambio son 87.3245 INR\n",
      "Un euro al cambio son 6.6052 BRL\n",
      "Un euro al cambio son 90.6421 RUB\n",
      "Un euro al cambio son 7.5778 HRK\n",
      "Un euro al cambio son 124.17 JPY\n",
      "Un euro al cambio son 37.056 THB\n",
      "Un euro al cambio son 1.0715 CHF\n",
      "Un euro al cambio son 1.6089 SGD\n",
      "Un euro al cambio son 4.5823 PLN\n",
      "Un euro al cambio son 1.9558 BGN\n",
      "Un euro al cambio son 9.4418 TRY\n",
      "Un euro al cambio son 7.9157 CNY\n",
      "Un euro al cambio son 10.9178 NOK\n",
      "Un euro al cambio son 1.7703 NZD\n",
      "Un euro al cambio son 19.1905 ZAR\n",
      "Un euro al cambio son 1.1856 USD\n",
      "Un euro al cambio son 24.753 MXN\n",
      "Un euro al cambio son 4.0032 ILS\n",
      "Un euro al cambio son 0.90675 GBP\n",
      "Un euro al cambio son 1338.52 KRW\n",
      "Un euro al cambio son 4.9291 MYR\n"
     ]
    }
   ],
   "source": [
    "import requests\n",
    "\n",
    "r = requests.get('https'+'://api.exchangeratesapi.io/latest')\n",
    "data = r.json()  # Los datos estan referidos al Euro\n",
    "rates = data['rates']\n",
    "\n",
    "for rate in rates:\n",
    "    print(f'Un euro al cambio son {rates[rate]} {rate}')"
   ]
  },
  {
   "cell_type": "markdown",
   "metadata": {},
   "source": [
    "**Post-Ejercicio**: Filtra los resultados para que solo se muestre el cambio a Libras esterlinas (`GBP`), Dolares USA (`USD`) y Coronas checkas (`CZK`) (Más información sobre los códigos de las divisas en la [Wikipedia sobre ISO 4217](https://es.wikipedia.org/wiki/ISO_4217))."
   ]
  },
  {
   "cell_type": "code",
   "execution_count": 127,
   "metadata": {},
   "outputs": [
    {
     "name": "stdout",
     "output_type": "stream",
     "text": [
      "Un euro al cambio son 27.222 CZK\n",
      "Un euro al cambio son 1.1856 USD\n",
      "Un euro al cambio son 0.90675 GBP\n"
     ]
    }
   ],
   "source": [
    "r = requests.get('https://api.exchangeratesapi.io/latest')\n",
    "data = r.json()  # Los datos estan referidos al Euro\n",
    "rates = data['rates']\n",
    "for rate in rates:\n",
    "    if rate in ['GBP', 'USD', 'CZK']:\n",
    "        print(f'Un euro al cambio son {rates[rate]} {rate}')"
   ]
  },
  {
   "cell_type": "markdown",
   "metadata": {},
   "source": [
    "### Otros tipos de peticiones"
   ]
  },
  {
   "cell_type": "markdown",
   "metadata": {
    "slideshow": {
     "slide_type": "slide"
    }
   },
   "source": [
    "La orden o petición `GET` es la más frecuente, pero puedes acceder a todos los\n",
    "verbos HTTP:\n",
    "\n",
    "- `requests.post(\"http://httpbin.org/post\")`\n",
    "\n",
    "- `requests.put(\"http://httpbin.org/put\")`\n",
    "\n",
    "- `requests.delete(\"http://httpbin.org/delete\")`\n",
    "\n",
    "- `requests.head(\"http://httpbin.org/get\")`\n",
    "\n",
    "- `requests.options(\"http://httpbin.org/get\")`"
   ]
  },
  {
   "cell_type": "markdown",
   "metadata": {
    "slideshow": {
     "slide_type": "slide"
    }
   },
   "source": [
    "**Ejercicio**: Cambia el código anterior, el que comprobaba que los servidores estuvieran activos comprobando la propiedad`ok` de las respuestas,  para que use el método\n",
    "`head` en vez de `get`. Va más rapida? Por qué? Devuelven todas los servidores el código `200`?"
   ]
  },
  {
   "cell_type": "code",
   "execution_count": 130,
   "metadata": {},
   "outputs": [
    {
     "name": "stdout",
     "output_type": "stream",
     "text": [
      "http://google.es True 200\n",
      "http://es.wikipedia.es/ True 200\n",
      "https://www.python.org/ True 200\n",
      "https://github.com/ True 200\n"
     ]
    }
   ],
   "source": [
    "import requests\n",
    "\n",
    "urls = [\n",
    "    'http://google.es',\n",
    "    'http://es.wikipedia.es/',\n",
    "    'https://www.python.org/',\n",
    "    'https://github.com/',\n",
    "]\n",
    "\n",
    "for url in urls:\n",
    "    resp = requests.get(url)\n",
    "    print(url, resp.ok, resp.status_code)"
   ]
  },
  {
   "cell_type": "markdown",
   "metadata": {
    "slideshow": {
     "slide_type": "slide"
    }
   },
   "source": [
    "### Pasar parámetros en URLs\n",
    "\n",
    "Con frecuencia, debes enviar algún tipo de información en el query string de la\n",
    "URL. Si estuvieses creando la URL a mano, esta información estaría en forma de\n",
    "pares llave/valor, añadidas despues del signo de interrogación en la URL, por ejemplo\n",
    "`httpbin.org/get?key=val`. "
   ]
  },
  {
   "cell_type": "markdown",
   "metadata": {
    "slideshow": {
     "slide_type": "slide"
    }
   },
   "source": [
    "Requests te permite proveer estos argumentos en forma\n",
    "de diccionario. Por ejemplo, si quisieras pasar las claves \n",
    "`key1` y `key2` con valores `value1` y `value2` a httpbin.org/get, usarías\n",
    "algo como esto:"
   ]
  },
  {
   "cell_type": "code",
   "execution_count": 133,
   "metadata": {
    "slideshow": {
     "slide_type": "slide"
    }
   },
   "outputs": [
    {
     "name": "stdout",
     "output_type": "stream",
     "text": [
      "True\n",
      "{\n",
      "  \"args\": {\n",
      "    \"key1\": \"value1\", \n",
      "    \"key2\": \"value2222\"\n",
      "  }, \n",
      "  \"headers\": {\n",
      "    \"Accept\": \"*/*\", \n",
      "    \"Accept-Encoding\": \"gzip, deflate\", \n",
      "    \"Host\": \"httpbin.org\", \n",
      "    \"User-Agent\": \"python-requests/2.22.0\", \n",
      "    \"X-Amzn-Trace-Id\": \"Root=1-5f92f73e-1f031a5f1db8f57c7584540c\"\n",
      "  }, \n",
      "  \"origin\": \"87.125.76.100\", \n",
      "  \"url\": \"http://httpbin.org/get?key1=value1&key2=value2222\"\n",
      "}\n",
      "\n"
     ]
    }
   ],
   "source": [
    "params = {'key1': 'value1', 'key2': 'value2222'}\n",
    "r = requests.get(\"http\"+\"://httpbin.org/get\", params=params)\n",
    "print(r.ok)\n",
    "print(r.text)"
   ]
  },
  {
   "cell_type": "markdown",
   "metadata": {
    "slideshow": {
     "slide_type": "slide"
    }
   },
   "source": [
    "Puedes ver que la URL ha sido codificada correctamente imprimiéndola:"
   ]
  },
  {
   "cell_type": "code",
   "execution_count": 134,
   "metadata": {
    "slideshow": {
     "slide_type": "slide"
    }
   },
   "outputs": [
    {
     "name": "stdout",
     "output_type": "stream",
     "text": [
      "http://httpbin.org/get?key1=value1&key2=value2222\n"
     ]
    }
   ],
   "source": [
    "print(r.url)"
   ]
  },
  {
   "cell_type": "markdown",
   "metadata": {
    "slideshow": {
     "slide_type": "slide"
    }
   },
   "source": [
    "Nota: cualquier llave del diccionario cuyo valor es `None` no será agregada \n",
    "al *query string* del URL."
   ]
  },
  {
   "cell_type": "markdown",
   "metadata": {},
   "source": [
    "### API's que requieren registro\n",
    "\n",
    "La mayor parte de las API, aun siendo publica, exigen un registro previo del cliente, para\n",
    "poder evitar abusos al sistema, como por ejemplo, ataques de denegaci'on de servicio.\n",
    "\n",
    "Normalmente, el registro se hace por correo electronico, al final del cual obtendremos\n",
    "lgun tipo de token o valor especial que sirve para identificarnos como usuarios de la\n",
    "API."
   ]
  },
  {
   "cell_type": "markdown",
   "metadata": {},
   "source": [
    "Por ejemplo, la API de [Football data](https://www.football-data.org/documentation/quickstart) nos da informacion actializada de varias ligas de futbol entre ellas la premier league y la Champions League. Esta API exige un registro previo, tras el cual podemos hacer uso de la misma. Para ello debemos añadir a la peticion una cabecera propia con la \n",
    "entrada `X-Auth-Token`:"
   ]
  },
  {
   "cell_type": "code",
   "execution_count": 76,
   "metadata": {
    "jupyter": {
     "source_hidden": true
    }
   },
   "outputs": [],
   "source": [
    "AUTH_TOKEN = 'db56f01f8a5842d39fbde97c52b4ece8'"
   ]
  },
  {
   "cell_type": "code",
   "execution_count": 143,
   "metadata": {},
   "outputs": [
    {
     "data": {
      "text/plain": [
       "'http://api.football-data.org/v2/competitions/'"
      ]
     },
     "execution_count": 143,
     "metadata": {},
     "output_type": "execute_result"
    }
   ],
   "source": [
    "import requests\n",
    "\n",
    "url = 'http'+'://api.football-data.org/v2/competitions/'\n",
    "# headers = {'X-Auth-Token': AUTH_TOKEN}\n",
    "headers = {}\n",
    "r = requests.get(url, headers=headers)\n",
    "url\n"
   ]
  },
  {
   "cell_type": "code",
   "execution_count": 140,
   "metadata": {},
   "outputs": [],
   "source": []
  },
  {
   "cell_type": "code",
   "execution_count": 140,
   "metadata": {},
   "outputs": [
    {
     "name": "stdout",
     "output_type": "stream",
     "text": [
      "WC Qualification (Africa)\n",
      "Primera B Nacional (Argentina)\n",
      "Superliga Argentina (Argentina)\n",
      "Supercopa Argentina (Argentina)\n",
      "WC Qualification (Asia)\n",
      "A League (Australia)\n",
      "FFA Cup (Australia)\n",
      "Erste Liga (Austria)\n",
      "Bundesliga (Austria)\n",
      "Playoffs 1/2 (Austria)\n",
      "...\n"
     ]
    }
   ],
   "source": [
    "response = r.json()\n",
    "counter = 0\n",
    "for competition in response['competitions']:\n",
    "    print(\"{} ({})\".format(\n",
    "        competition['name'],\n",
    "        competition['area']['name'],\n",
    "    ))\n",
    "    counter += 1\n",
    "    if counter >= 10:\n",
    "        print(\"...\")\n",
    "        break\n",
    "    "
   ]
  },
  {
   "cell_type": "markdown",
   "metadata": {},
   "source": [
    "**Ejercicio**: Filtrar para que solo se vean las de España (`Spain`):"
   ]
  },
  {
   "cell_type": "code",
   "execution_count": 91,
   "metadata": {},
   "outputs": [
    {
     "name": "stdout",
     "output_type": "stream",
     "text": [
      "WC Qualification (Africa)\n",
      "Primera B Nacional (Argentina)\n",
      "Superliga Argentina (Argentina)\n",
      "Supercopa Argentina (Argentina)\n",
      "WC Qualification (Asia)\n",
      "A League (Australia)\n",
      "FFA Cup (Australia)\n",
      "Erste Liga (Austria)\n",
      "Bundesliga (Austria)\n",
      "Playoffs 1/2 (Austria)\n",
      "ÖFB Cup (Austria)\n",
      "Coupe de Belgique (Belgium)\n",
      "Division 1B (Belgium)\n",
      "Jupiler Pro League (Belgium)\n",
      "Supercoupe de Belgique (Belgium)\n",
      "Playoffs II (Belgium)\n",
      "LFPB (Bolivia)\n",
      "Premier Liga (Bosnia and Herzegovina)\n",
      "Copa do Brasil (Brazil)\n",
      "Série D (Brazil)\n",
      "Série C (Brazil)\n",
      "Série B (Brazil)\n",
      "Série A (Brazil)\n",
      "Kupa na Bulgarija (Bulgaria)\n",
      "A PFG (Bulgaria)\n",
      "Canadian Championship (Canada)\n",
      "Primera División (Chile)\n",
      "Playoffs 1/2 (Chile)\n",
      "Supercopa de Chile (Chile)\n",
      "Chinese Super League (China PR)\n",
      "Liga Postobón (Colombia)\n",
      "Superliga de Colombia (Colombia)\n",
      "Prva Liga (Croatia)\n",
      "Synot Liga (Czech Republic)\n",
      "DBU Pokalen (Denmark)\n",
      "Superliga (Denmark)\n",
      "Play Offs 1/2 (Denmark)\n",
      "Copa Pilsener Serie A (Ecuador)\n",
      "Football League Cup (England)\n",
      "FA Community Shield (England)\n",
      "FA Cup (England)\n",
      "National League (England)\n",
      "League Two (England)\n",
      "League One (England)\n",
      "Championship (England)\n",
      "Premier League (England)\n",
      "Meistriliiga (Estonia)\n",
      "UEFA Europa League (Europe)\n",
      "UEFA Champions League (Europe)\n",
      "European Championship (Europe)\n",
      "UEFA Women's EURO (Europe)\n",
      "WC Qualification (Europe)\n",
      "Suomen Cup (Finland)\n",
      "Veikkausliiga (Finland)\n",
      "Coupe de la Ligue (France)\n",
      "Ligue 2 (France)\n",
      "Ligue 1 (France)\n",
      "Coupe de France (France)\n",
      "Trophée des Champions (France)\n",
      "Playoffs 1/2 (France)\n",
      "Playoffs 2/3 (France)\n",
      "DFB-Pokal (Germany)\n",
      "Regionalliga (Germany)\n",
      "3. Liga (Germany)\n",
      "2. Bundesliga (Germany)\n",
      "Bundesliga (Germany)\n",
      "Frauen Bundesliga (Germany)\n",
      "DFL Super Cup (Germany)\n",
      "Greek Cup (Greece)\n",
      "Super League (Greece)\n",
      "Magyar Kupa (Hungary)\n",
      "NB I (Hungary)\n",
      "Úrvalsdeild (Iceland)\n",
      "I-League (India)\n",
      "Ligat ha'Al (Israel)\n",
      "Supercoppa (Italy)\n",
      "Coppa Italia (Italy)\n",
      "Serie C (Italy)\n",
      "Serie B (Italy)\n",
      "Serie A (Italy)\n",
      "J.League Cup (Japan)\n",
      "J. League Division 2 (Japan)\n",
      "J. League (Japan)\n",
      "Super Cup (Japan)\n",
      "Virslīga (Latvia)\n",
      "A Lyga (Lithuania)\n",
      "Premier League (Malta)\n",
      "Copa MX (Mexico)\n",
      "SuperCopa MX (Mexico)\n",
      "Liga MX (Mexico)\n",
      "KNVB Beker (Netherlands)\n",
      "Jupiler League (Netherlands)\n",
      "Eredivisie (Netherlands)\n",
      "Johan Cruijff Schaal (Netherlands)\n",
      "League Cup (Northern Ireland)\n",
      "Premiership (Northern Ireland)\n",
      "Tippeligaen (Norway)\n",
      "1. divisjon (Norway)\n",
      "Playoffs 1/2 (Norway)\n",
      "WC Qualification (Oceania)\n",
      "Liga Panameña de Fútbol (Panama)\n",
      "Primera División (Peru)\n",
      "Puchar Polski (Poland)\n",
      "Superpuchar Polski (Poland)\n",
      "Taça de Portugal (Portugal)\n",
      "Liga2 Cabovisão (Portugal)\n",
      "Primeira Liga (Portugal)\n",
      "Supertaça Cândido de Oliveira (Portugal)\n",
      "Premier Division (Republic of Ireland)\n",
      "Liga II (Romania)\n",
      "Liga I (Romania)\n",
      "Supercupa României (Romania)\n",
      "Russian Cup (Russia)\n",
      "FNL (Russia)\n",
      "RFPL (Russia)\n",
      "Playoffs 1/2 (Russia)\n",
      "Russian Super Cup (Russia)\n",
      "Scottish Cup (Scotland)\n",
      "Championship (Scotland)\n",
      "Premier League (Scotland)\n",
      "Playoffs 2/3 (Scotland)\n",
      "ABSA Premiership (South Africa)\n",
      "Copa America (South America)\n",
      "Copa Sudamericana (South America)\n",
      "WC Qualification (South America)\n",
      "Copa del Rey (Spain)\n",
      "Segunda División (Spain)\n",
      "Primera Division (Spain)\n",
      "Supercopa de España (Spain)\n",
      "Superettan (Sweden)\n",
      "Allsvenskan (Sweden)\n",
      "Playoffs 2/3 (Sweden)\n",
      "Playoffs 1/2 (Sweden)\n",
      "Schweizer Pokal (Switzerland)\n",
      "Super League (Switzerland)\n",
      "1. Lig (Turkey)\n",
      "Süper Lig (Turkey)\n",
      "TFF Süper Kupa (Turkey)\n",
      "Kubok Ukrainy (Ukraine)\n",
      "Premier Liha (Ukraine)\n",
      "Superkubok Ukrainy (Ukraine)\n",
      "Playoffs 1/2 (Ukraine)\n",
      "MLS (United States)\n",
      "Primera División (Uruguay)\n",
      "Supercopa Uruguaya (Uruguay)\n",
      "Primera División (Venezuela)\n",
      "V-League (Vietnam)\n",
      "Welsh Premier League (Wales)\n",
      "FIFA World Cup (World)\n"
     ]
    }
   ],
   "source": [
    "import requests\n",
    "\n",
    "url = 'http://api.football-data.org/v2/competitions/'\n",
    "headers = {'X-Auth-Token': AUTH_TOKEN}\n",
    "r = requests.get(url, headers=headers)\n",
    "response = r.json()\n",
    "for competition in response['competitions']:\n",
    "    name = competition['name']\n",
    "    area = competition['area']\n",
    "    area_name = area['name']\n",
    "    if ...:  # Tu codigo aqui\n",
    "        print(f\"{name} ({area_name})\")"
   ]
  },
  {
   "cell_type": "markdown",
   "metadata": {},
   "source": [
    "**Post-Ejercicio**: Modificar para que muestre las ligas de España y Europa, usando una expresion regular"
   ]
  },
  {
   "cell_type": "code",
   "execution_count": 93,
   "metadata": {},
   "outputs": [
    {
     "name": "stdout",
     "output_type": "stream",
     "text": [
      "WC Qualification (Africa)\n",
      "Primera B Nacional (Argentina)\n",
      "Superliga Argentina (Argentina)\n",
      "Supercopa Argentina (Argentina)\n",
      "WC Qualification (Asia)\n",
      "A League (Australia)\n",
      "FFA Cup (Australia)\n",
      "Erste Liga (Austria)\n",
      "Bundesliga (Austria)\n",
      "Playoffs 1/2 (Austria)\n",
      "ÖFB Cup (Austria)\n",
      "Coupe de Belgique (Belgium)\n",
      "Division 1B (Belgium)\n",
      "Jupiler Pro League (Belgium)\n",
      "Supercoupe de Belgique (Belgium)\n",
      "Playoffs II (Belgium)\n",
      "LFPB (Bolivia)\n",
      "Premier Liga (Bosnia and Herzegovina)\n",
      "Copa do Brasil (Brazil)\n",
      "Série D (Brazil)\n",
      "Série C (Brazil)\n",
      "Série B (Brazil)\n",
      "Série A (Brazil)\n",
      "Kupa na Bulgarija (Bulgaria)\n",
      "A PFG (Bulgaria)\n",
      "Canadian Championship (Canada)\n",
      "Primera División (Chile)\n",
      "Playoffs 1/2 (Chile)\n",
      "Supercopa de Chile (Chile)\n",
      "Chinese Super League (China PR)\n",
      "Liga Postobón (Colombia)\n",
      "Superliga de Colombia (Colombia)\n",
      "Prva Liga (Croatia)\n",
      "Synot Liga (Czech Republic)\n",
      "DBU Pokalen (Denmark)\n",
      "Superliga (Denmark)\n",
      "Play Offs 1/2 (Denmark)\n",
      "Copa Pilsener Serie A (Ecuador)\n",
      "Football League Cup (England)\n",
      "FA Community Shield (England)\n",
      "FA Cup (England)\n",
      "National League (England)\n",
      "League Two (England)\n",
      "League One (England)\n",
      "Championship (England)\n",
      "Premier League (England)\n",
      "Meistriliiga (Estonia)\n",
      "UEFA Europa League (Europe)\n",
      "UEFA Champions League (Europe)\n",
      "European Championship (Europe)\n",
      "UEFA Women's EURO (Europe)\n",
      "WC Qualification (Europe)\n",
      "Suomen Cup (Finland)\n",
      "Veikkausliiga (Finland)\n",
      "Coupe de la Ligue (France)\n",
      "Ligue 2 (France)\n",
      "Ligue 1 (France)\n",
      "Trophée des Champions (France)\n",
      "Playoffs 1/2 (France)\n",
      "Coupe de France (France)\n",
      "Playoffs 2/3 (France)\n",
      "DFB-Pokal (Germany)\n",
      "Regionalliga (Germany)\n",
      "3. Liga (Germany)\n",
      "2. Bundesliga (Germany)\n",
      "Bundesliga (Germany)\n",
      "Frauen Bundesliga (Germany)\n",
      "DFL Super Cup (Germany)\n",
      "Greek Cup (Greece)\n",
      "Super League (Greece)\n",
      "Magyar Kupa (Hungary)\n",
      "NB I (Hungary)\n",
      "Úrvalsdeild (Iceland)\n",
      "I-League (India)\n",
      "Ligat ha'Al (Israel)\n",
      "Supercoppa (Italy)\n",
      "Coppa Italia (Italy)\n",
      "Serie C (Italy)\n",
      "Serie B (Italy)\n",
      "Serie A (Italy)\n",
      "J.League Cup (Japan)\n",
      "J. League Division 2 (Japan)\n",
      "J. League (Japan)\n",
      "Super Cup (Japan)\n",
      "Virslīga (Latvia)\n",
      "A Lyga (Lithuania)\n",
      "Premier League (Malta)\n",
      "Copa MX (Mexico)\n",
      "SuperCopa MX (Mexico)\n",
      "Liga MX (Mexico)\n",
      "KNVB Beker (Netherlands)\n",
      "Jupiler League (Netherlands)\n",
      "Eredivisie (Netherlands)\n",
      "Johan Cruijff Schaal (Netherlands)\n",
      "League Cup (Northern Ireland)\n",
      "Premiership (Northern Ireland)\n",
      "Tippeligaen (Norway)\n",
      "1. divisjon (Norway)\n",
      "Playoffs 1/2 (Norway)\n",
      "WC Qualification (Oceania)\n",
      "Liga Panameña de Fútbol (Panama)\n",
      "Primera División (Peru)\n",
      "Puchar Polski (Poland)\n",
      "Superpuchar Polski (Poland)\n",
      "Taça de Portugal (Portugal)\n",
      "Liga2 Cabovisão (Portugal)\n",
      "Primeira Liga (Portugal)\n",
      "Supertaça Cândido de Oliveira (Portugal)\n",
      "Premier Division (Republic of Ireland)\n",
      "Liga II (Romania)\n",
      "Liga I (Romania)\n",
      "Supercupa României (Romania)\n",
      "Russian Cup (Russia)\n",
      "FNL (Russia)\n",
      "RFPL (Russia)\n",
      "Playoffs 1/2 (Russia)\n",
      "Russian Super Cup (Russia)\n",
      "Scottish Cup (Scotland)\n",
      "Championship (Scotland)\n",
      "Premier League (Scotland)\n",
      "Playoffs 2/3 (Scotland)\n",
      "ABSA Premiership (South Africa)\n",
      "Copa America (South America)\n",
      "Copa Sudamericana (South America)\n",
      "WC Qualification (South America)\n",
      "Copa del Rey (Spain)\n",
      "Segunda División (Spain)\n",
      "Primera Division (Spain)\n",
      "Supercopa de España (Spain)\n",
      "Superettan (Sweden)\n",
      "Allsvenskan (Sweden)\n",
      "Playoffs 2/3 (Sweden)\n",
      "Playoffs 1/2 (Sweden)\n",
      "Schweizer Pokal (Switzerland)\n",
      "Super League (Switzerland)\n",
      "1. Lig (Turkey)\n",
      "Süper Lig (Turkey)\n",
      "TFF Süper Kupa (Turkey)\n",
      "Kubok Ukrainy (Ukraine)\n",
      "Premier Liha (Ukraine)\n",
      "Superkubok Ukrainy (Ukraine)\n",
      "Playoffs 1/2 (Ukraine)\n",
      "MLS (United States)\n",
      "Primera División (Uruguay)\n",
      "Supercopa Uruguaya (Uruguay)\n",
      "Primera División (Venezuela)\n",
      "V-League (Vietnam)\n",
      "Welsh Premier League (Wales)\n",
      "FIFA World Cup (World)\n"
     ]
    }
   ],
   "source": [
    "import re\n",
    "import requests\n",
    "\n",
    "\n",
    "pat_area = re.compile('Spain|Europe')\n",
    "\n",
    "url = 'http://api.football-data.org/v2/competitions/'\n",
    "headers = {'X-Auth-Token': AUTH_TOKEN}\n",
    "r = requests.get(url, headers=headers)\n",
    "response = r.json()\n",
    "for i, competition in enumerate(response['competitions']):\n",
    "    area = competition['area']\n",
    "    name = area['name']\n",
    "    if ...:  # Tu codigo aqui\n",
    "        print(\"{} ({})\".format(\n",
    "            competition['name'],\n",
    "            competition['area']['name'],\n",
    "        ))"
   ]
  },
  {
   "cell_type": "markdown",
   "metadata": {},
   "source": [
    "Veamos los siguientes partidos del Real Madrid: Aquí tenemos que añadir el token de seguridad y un argumento con \n",
    "el valor de status, ajustado a `scheduled`:"
   ]
  },
  {
   "cell_type": "code",
   "execution_count": 147,
   "metadata": {},
   "outputs": [
    {
     "name": "stdout",
     "output_type": "stream",
     "text": [
      "{'message': 'The resource you are looking for is restricted. Please pass a valid API token and check your subscription for permission.', 'errorCode': 403}\n"
     ]
    }
   ],
   "source": [
    "import requests\n",
    "\n",
    "url = 'https://api.football-data.org/v2/teams'\n",
    "params = {'status': 'SCHEDULED', 'plan': \"FREE\"}\n",
    "headers = {'X-Auth-Token': AUTH_TOKEN}\n",
    "r = requests.get(url, params=params, headers=headers)\n",
    "response = r.json()\n",
    "print(response)"
   ]
  },
  {
   "cell_type": "code",
   "execution_count": 103,
   "metadata": {
    "jupyter": {
     "source_hidden": true
    }
   },
   "outputs": [],
   "source": [
    "COMIC_VINE='ba110d2e84608065438c19db726fee15de7e4224'"
   ]
  },
  {
   "cell_type": "code",
   "execution_count": 146,
   "metadata": {},
   "outputs": [
    {
     "name": "stdout",
     "output_type": "stream",
     "text": [
      "<html>\n",
      "<body>\n",
      "\t<h1>Wordpress RSS Reader, Anonymous Bot or Scraper Blocked</h1>\n",
      "\t<p>\n",
      "\t\tSorry we do not allow WordPress plugins to scrape our site. They tend to be used maliciously to steal our content. We do not allow scraping of any kind.\n",
      "\t\tYou can load our RSS feeds using any other reader but you may not download our content.\n",
      "\t\t<a href='/feeds'>Click here more information on our feeds</a>\n",
      "\t</p>\n",
      "\t<p>\n",
      "\t\tOr you're running a bot that does not provide a unique user agent.\n",
      "\t\tPlease provide a UNIQUE user agent that describes you. Do not use a default user agent like \"PHP\", \"Java\", \"Ruby\", \"wget\", \"curl\" etc.\n",
      "\t\tYou MUST provide a UNIQUE user agent. ...and for God's sake don't impersonate another bot like Google Bot that will for sure\n",
      "\t\tget you permanently banned.\n",
      "\t</p>\n",
      "\t<p>\n",
      "\t\tOr.... maybe you're running an LG Podcast player written by a 10 year old. Either way, Please stop doing that.\n",
      "\t</p>\n",
      "\n",
      "</body>\n",
      "</html>\n",
      "<!-- This doesn't need to be styled -->\n",
      "\n"
     ]
    }
   ],
   "source": [
    "import requests\n",
    "\n",
    "url = 'http://comicvine.gamespot.com/api'\n",
    "params = {'status': 'SCHEDULED', 'plan': \"FREE\"}\n",
    "headers = {'X-Auth-Token': AUTH_TOKEN}\n",
    "r = requests.get(url, params=params, headers=headers)\n",
    "response = r.text\n",
    "print(response)"
   ]
  },
  {
   "cell_type": "markdown",
   "metadata": {
    "slideshow": {
     "slide_type": "slide"
    }
   },
   "source": [
    "### Contenido de respuesta\n",
    "\n",
    "Podemos leer el contenido de la respuesta del servidor. Usemos el listado de\n",
    "eventos de\n",
    "GitHub nuevamente:"
   ]
  },
  {
   "cell_type": "code",
   "execution_count": 44,
   "metadata": {
    "slideshow": {
     "slide_type": "slide"
    }
   },
   "outputs": [
    {
     "data": {
      "text/plain": [
       "'12115403054'"
      ]
     },
     "execution_count": 44,
     "metadata": {},
     "output_type": "execute_result"
    }
   ],
   "source": [
    "import requests\n",
    "r = requests.get('https://api.github.com/events')\n",
    "r.json()[2]['id']"
   ]
  },
  {
   "cell_type": "markdown",
   "metadata": {
    "slideshow": {
     "slide_type": "slide"
    }
   },
   "source": [
    "Requests automáticamente decodificará el contenido que viene del servidor. La\n",
    "mayoría de caracteres unicode serán decodificados correctamente.\n",
    "\n",
    "Cuando ejecutas una petición, Requests tratará de obtener la codificación de la\n",
    "respuesta basándose en las cabeceras HTTP. La codificación del texto que\n",
    "Requests encontró (o supuso), será utilizada cuando se acceda a `r.text`. Puedes\n",
    "conocer la codificación que `Requests` está utilizando, y cambiarla, usando la\n",
    "propiedad r.encoding:"
   ]
  },
  {
   "cell_type": "code",
   "execution_count": 4,
   "metadata": {
    "slideshow": {
     "slide_type": "slide"
    }
   },
   "outputs": [
    {
     "data": {
      "text/plain": [
       "'ISO-8859-1'"
      ]
     },
     "execution_count": 4,
     "metadata": {},
     "output_type": "execute_result"
    }
   ],
   "source": [
    "import requests\n",
    "\n",
    "r = requests.get('https://google.com/')\n",
    "r.encoding"
   ]
  },
  {
   "cell_type": "markdown",
   "metadata": {
    "slideshow": {
     "slide_type": "slide"
    }
   },
   "source": [
    "### Contenido de respuesta JSON\n",
    "\n",
    "Hay un decodificador de JSON incorporado en Requests:"
   ]
  },
  {
   "cell_type": "code",
   "execution_count": 39,
   "metadata": {
    "slideshow": {
     "slide_type": "slide"
    }
   },
   "outputs": [
    {
     "name": "stdout",
     "output_type": "stream",
     "text": [
      "{'id': '13949276526', 'type': 'CreateEvent', 'actor': {'id': 30885945, 'login': 'helloapple1', 'display_login': 'helloapple1', 'gravatar_id': '', 'url': 'https://api.github.com/users/helloapple1', 'avatar_url': 'https://avatars.githubusercontent.com/u/30885945?'}, 'repo': {'id': 306618897, 'name': 'helloapple1/double2', 'url': 'https://api.github.com/repos/helloapple1/double2'}, 'payload': {'ref': 'master', 'ref_type': 'branch', 'master_branch': 'master', 'description': None, 'pusher_type': 'user'}, 'public': True, 'created_at': '2020-10-23T11:51:45Z'}\n"
     ]
    }
   ],
   "source": [
    "import requests\n",
    "\n",
    "r = requests.get('https://api.github.com/events')\n",
    "print(r.json()[0])"
   ]
  },
  {
   "cell_type": "markdown",
   "metadata": {
    "slideshow": {
     "slide_type": "slide"
    }
   },
   "source": [
    "### Cabeceras personalizadas\n",
    "\n",
    "Si quieres agregar cabeceras HTTP a una petición, simplemente pasa un dict al\n",
    "parámetro headers.\n",
    "\n",
    "Por ejemplo, en el ejemplo anterior no especificamos la cabecera content-type:\n",
    "\n",
    "    import json\n",
    "    url = '...'\n",
    "    payload = {'some': 'data'}\n",
    "    headers = {'content-type': 'application/json'}\n",
    "    r = requests.post(url, data=json.dumps(payload), headers=headers)"
   ]
  },
  {
   "cell_type": "markdown",
   "metadata": {
    "slideshow": {
     "slide_type": "slide"
    }
   },
   "source": [
    "### Peticiones POST más complicadas\n",
    "\n",
    "Típicamente, quieres enviar información en forma de formulario, como un\n",
    "formulario HTML. Para hacerlo, pasa un diccionario al parámetro `data`. Este\n",
    "diccionario será codificado automáticamente como formulario al momento de\n",
    "realizar la petición:\n",
    "\n",
    "(Para este ejemplo, asegurate de tener un serivor local corriendo\n",
    "en otra terminal, con `python -m http.server`)."
   ]
  },
  {
   "cell_type": "code",
   "execution_count": 8,
   "metadata": {
    "slideshow": {
     "slide_type": "slide"
    }
   },
   "outputs": [],
   "source": [
    "payload = {'key1': 'value1', 'key2': 'value2'}\n",
    "r = requests.post(\"http://localhost:8000/post\", data=payload)"
   ]
  },
  {
   "cell_type": "markdown",
   "metadata": {
    "slideshow": {
     "slide_type": "slide"
    }
   },
   "source": [
    "### Cabeceras de respuesta\n",
    "\n",
    "Podemos ver las cabeceras de respuesta del servidor utilizando un diccionario:\n",
    "\n",
    "r.headers\n",
    "{\n",
    "    'status': '200 OK',\n",
    "    'content-encoding': 'gzip',\n",
    "    'transfer-encoding': 'chunked',\n",
    "    'connection': 'close',\n",
    "    'server': 'nginx/1.0.4',\n",
    "    'x-runtime': '148ms',\n",
    "    'etag': '\"e1ca502697e5c9317743dc078f67693f\"',\n",
    "    'content-type': 'application/json; charset=utf-8'\n",
    "}\n",
    "\n",
    "Este diccionario es especial: está hecho únicamente para las cabeceras HTTP. De\n",
    "acuerdo con el RFC 7230 , los nombres de las cabeceras HTTP no hacen distinción\n",
    "entre mayúsculas y minúsculas.\n",
    "\n",
    "Así que podemos acceder a las cabeceras utilizando letras mayúsculas o minúsculas:"
   ]
  },
  {
   "cell_type": "code",
   "execution_count": 10,
   "metadata": {
    "slideshow": {
     "slide_type": "slide"
    }
   },
   "outputs": [
    {
     "data": {
      "text/plain": [
       "'text/html;charset=utf-8'"
      ]
     },
     "execution_count": 10,
     "metadata": {},
     "output_type": "execute_result"
    }
   ],
   "source": [
    "r.headers['Content-Type']\n",
    "'application/json; charset=utf-8'\n",
    "r.headers.get('content-type')"
   ]
  },
  {
   "cell_type": "markdown",
   "metadata": {
    "slideshow": {
     "slide_type": "slide"
    }
   },
   "source": [
    "### Cookies\n",
    "\n",
    "Si una respuesta contiene Cookies, puedes acceder a ellas rápidamente:\n",
    "\n",
    "    url = 'http://example.com/some/cookie/setting/url'\n",
    "    r = requests.get(url)\n",
    "    r.cookies['example_cookie_name']"
   ]
  },
  {
   "cell_type": "markdown",
   "metadata": {
    "slideshow": {
     "slide_type": "slide"
    }
   },
   "source": [
    "Para enviar tus propias cookies al servidor, puedes utilizar el parámetro cookies:\n",
    "\n",
    "    url = 'http://httpbin.org/cookies'\n",
    "    cookies = dict(cookies_are='working')\n",
    "    r = requests.get(url, cookies=cookies)\n",
    "    r.text\n",
    " \n",
    "Devería debolver:\n",
    "\n",
    "    '{\"cookies\": {\"cookies_are\": \"working\"}}'"
   ]
  },
  {
   "cell_type": "markdown",
   "metadata": {
    "slideshow": {
     "slide_type": "slide"
    }
   },
   "source": [
    "### Historial y Redireccionamiento\n",
    "\n",
    "Requests realizará redireccionamiento para peticiones para todos los verbos,\n",
    "excepto `HEAD`."
   ]
  },
  {
   "cell_type": "markdown",
   "metadata": {
    "slideshow": {
     "slide_type": "slide"
    }
   },
   "source": [
    "GitHub redirecciona todas las peticiones `HTTP` hacia `HTTPS`. Podemos usar el\n",
    "método `history` de  la respuesta para rastrear las redirecciones. "
   ]
  },
  {
   "cell_type": "markdown",
   "metadata": {
    "slideshow": {
     "slide_type": "slide"
    }
   },
   "source": [
    "La lista `Response.history` contiene una lista de objetos tipo `Request` que fueron\n",
    "creados con el fín de completar la petición. La lista está ordenada desde la\n",
    "petición más antigua, hasta las más reciente."
   ]
  },
  {
   "cell_type": "markdown",
   "metadata": {
    "slideshow": {
     "slide_type": "slide"
    }
   },
   "source": [
    "Si estás utilizando GET u OPTIONS, puedes deshabilitar el redireccionamiento usando el parámetro allow_redirects:"
   ]
  },
  {
   "cell_type": "code",
   "execution_count": 36,
   "metadata": {
    "slideshow": {
     "slide_type": "slide"
    }
   },
   "outputs": [
    {
     "name": "stdout",
     "output_type": "stream",
     "text": [
      "200\n",
      "[<Response [301]>]\n"
     ]
    }
   ],
   "source": [
    "r = requests.get('http://github.com')\n",
    "print(r.status_code)\n",
    "print(r.history)"
   ]
  },
  {
   "cell_type": "markdown",
   "metadata": {
    "slideshow": {
     "slide_type": "slide"
    }
   },
   "source": [
    "Si estás utilizando HEAD, puedes habilitar el redireccionamento de la misma manera:"
   ]
  },
  {
   "cell_type": "code",
   "execution_count": 39,
   "metadata": {
    "slideshow": {
     "slide_type": "slide"
    }
   },
   "outputs": [
    {
     "name": "stdout",
     "output_type": "stream",
     "text": [
      "200 https://github.com/ [<Response [301]>]\n"
     ]
    }
   ],
   "source": [
    "r = requests.head('http://github.com', allow_redirects=True)\n",
    "print(r.status_code, r.url, r.history)"
   ]
  },
  {
   "cell_type": "markdown",
   "metadata": {
    "slideshow": {
     "slide_type": "slide"
    }
   },
   "source": [
    "**Ejercicio**: Arreglar el script para que realize la peticion HEAD pero con\n",
    "redireccionamiento"
   ]
  },
  {
   "cell_type": "markdown",
   "metadata": {
    "slideshow": {
     "slide_type": "slide"
    }
   },
   "source": [
    "### Timeouts\n",
    "\n",
    "Con el parámetro timeout puedes indicarle a Requests que deje de esperar por una\n",
    "respuesta luego de un número determinado de segundos."
   ]
  },
  {
   "cell_type": "markdown",
   "metadata": {
    "slideshow": {
     "slide_type": "slide"
    }
   },
   "source": [
    "`timeout` indica el tiempo máximo que se espera por la respuesta. Si no se produce \n",
    "la respuesta dentro de ese periodo se elevará una excepcion."
   ]
  },
  {
   "cell_type": "markdown",
   "metadata": {},
   "source": [
    "### La clase Session\n",
    "\n",
    "Los objetos de tipo Session permiten reusar y compartir determinados valores\n",
    " y *cookies* entre peticiones que se realizan con esa sesión. Tambien \n",
    "usae internamente las conexiones reutilizables definidas en la libreria urllib3.\n",
    "Este objeto esta pensado para ser usado cunaod se realizan muchas conexiones\n",
    "al mismo host, ya que en este caso, el hecho de reutilizar la conexión puede\n",
    "suponer un incfremento sigbnificativo de lrendimiento.\n",
    "\n",
    "Un objeto de tipo `Session` tiene todos los metodos definidos como funciones\n",
    "en requests.\n",
    "\n",
    "Veamos un ejemplo en el que vemos como las conexiones realizadas al mismo\n",
    "host comparten las cookies:"
   ]
  },
  {
   "cell_type": "code",
   "execution_count": 1,
   "metadata": {},
   "outputs": [
    {
     "name": "stdout",
     "output_type": "stream",
     "text": [
      "<RequestsCookieJar[]>\n"
     ]
    }
   ],
   "source": [
    "import requests\n",
    "\n",
    "s = requests.Session()\n",
    "primera = s.get('https://httpbin.org/cookies/set/sessioncookie/123456789')\n",
    "segunda = s.get('https://httpbin.org/cookies')\n",
    "\n",
    "print(segunda.cookies)"
   ]
  },
  {
   "cell_type": "markdown",
   "metadata": {},
   "source": [
    "### Soluciones\n",
    "\n",
    "Versión final del programa de chequeo de web, usando head y con el\n",
    "parametro `allow_redirecs`:"
   ]
  },
  {
   "cell_type": "code",
   "execution_count": 11,
   "metadata": {},
   "outputs": [],
   "source": [
    "import requests\n",
    "\n",
    "urls = [\n",
    "    'https://www.google.com/',\n",
    "    'http://github.com/',\n",
    "    'https://www.parcan.es/',\n",
    "]\n",
    "\n",
    "for url in urls:\n",
    "    r = requests.head(url, allow_redirects=True)\n",
    "    if r.status_code != 200:\n",
    "        print(f\"Error {r.status_code} al acceder a {url}\")"
   ]
  },
  {
   "cell_type": "code",
   "execution_count": null,
   "metadata": {},
   "outputs": [],
   "source": []
  }
 ],
 "metadata": {
  "celltoolbar": "Slideshow",
  "kernelspec": {
   "display_name": "Python 3",
   "language": "python",
   "name": "python3"
  },
  "language_info": {
   "codemirror_mode": {
    "name": "ipython",
    "version": 3
   },
   "file_extension": ".py",
   "mimetype": "text/x-python",
   "name": "python",
   "nbconvert_exporter": "python",
   "pygments_lexer": "ipython3",
   "version": "3.8.5"
  }
 },
 "nbformat": 4,
 "nbformat_minor": 4
}
