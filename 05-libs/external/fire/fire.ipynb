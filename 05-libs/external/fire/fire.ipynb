{
 "cells": [
  {
   "cell_type": "markdown",
   "metadata": {
    "slideshow": {
     "slide_type": "slide"
    }
   },
   "source": [
    "## La librería fire \n",
    "\n",
    "La librería **fire** nos permite generar automáticamente una interfaz de línea\n",
    "de comando a partir de cualquier objeto python."
   ]
  },
  {
   "cell_type": "markdown",
   "metadata": {
    "slideshow": {
     "slide_type": "slide"
    }
   },
   "source": [
    "### Instalación\n",
    "\n",
    "Podemos instalar la librería con Pip: "
   ]
  },
  {
   "cell_type": "code",
   "execution_count": 2,
   "metadata": {
    "scrolled": true,
    "slideshow": {
     "slide_type": "slide"
    }
   },
   "outputs": [
    {
     "name": "stdout",
     "output_type": "stream",
     "text": [
      "Collecting fire\n",
      "  Downloading fire-0.3.1.tar.gz (81 kB)\n",
      "\u001b[K     |████████████████████████████████| 81 kB 2.1 MB/s eta 0:00:01\n",
      "\u001b[?25hRequirement already satisfied: six in /home/jileon/.virtualenvs/eoi/lib/python3.6/site-packages (from fire) (1.14.0)\n",
      "Processing /home/jileon/.cache/pip/wheels/7c/06/54/bc84598ba1daf8f970247f550b175aaaee85f68b4b0c5ab2c6/termcolor-1.1.0-cp36-none-any.whl\n",
      "Building wheels for collected packages: fire\n",
      "  Building wheel for fire (setup.py) ... \u001b[?25ldone\n",
      "\u001b[?25h  Created wheel for fire: filename=fire-0.3.1-py2.py3-none-any.whl size=111005 sha256=71bd58eb4b9640e6b5e60b8b3614d2078831c28f8bfc9ee6ca18bc41f5aeb370\n",
      "  Stored in directory: /home/jileon/.cache/pip/wheels/3e/38/8f/e5bd4465e4b72c8e4d1530ac46e1a42e1d2495f8c93242d5f1\n",
      "Successfully built fire\n",
      "Installing collected packages: termcolor, fire\n",
      "Successfully installed fire-0.3.1 termcolor-1.1.0\n",
      "Note: you may need to restart the kernel to use updated packages.\n"
     ]
    }
   ],
   "source": [
    "pip install fire"
   ]
  },
  {
   "cell_type": "markdown",
   "metadata": {
    "slideshow": {
     "slide_type": "slide"
    }
   },
   "source": [
    "### Ejemplo de uso.\n",
    "\n",
    "Para usar fire necesitamos instanciar un objeto de la clase `Fire`. Para crear\n",
    "este objeto le podemos pasar como parámetro cualquier objeto de Python, como\n",
    "por ejemplo una función:"
   ]
  },
  {
   "cell_type": "code",
   "execution_count": null,
   "metadata": {
    "slideshow": {
     "slide_type": "slide"
    }
   },
   "outputs": [],
   "source": [
    "# %load 01-hello-world.py\n",
    "import fire\n",
    "\n",
    "def hello(name):\n",
    "    \"\"\"Saluda al nombre pasado como parámetro.\n",
    "    \"\"\"\n",
    "    return f\"Hello {name}!\"\n",
    "\n",
    "if __name__ == '__main__':\n",
    "    fire.Fire(hello)\n"
   ]
  },
  {
   "cell_type": "markdown",
   "metadata": {
    "slideshow": {
     "slide_type": "slide"
    }
   },
   "source": [
    "Ahora, __desde la línea de comandos__, podemos ejecutar:\n",
    "\n",
    "    python hello.py\n",
    "    \n",
    "    python hello.py hello john"
   ]
  },
  {
   "cell_type": "markdown",
   "metadata": {
    "slideshow": {
     "slide_type": "slide"
    }
   },
   "source": [
    "### Exponer multiples comandos\n",
    "\n",
    "En el ejemplo anterior solo podíamos acceder a una funcion desde la línea\n",
    "de comandos. Para poder hacer accesible más funciones tenemos varias opciones:"
   ]
  },
  {
   "cell_type": "markdown",
   "metadata": {
    "slideshow": {
     "slide_type": "slide"
    }
   },
   "source": [
    "#### Primera opción \n",
    "\n",
    "La forma mas simple de exponer múltiples comandos es escribir multiples\n",
    "funciones y luego instanciar Fire sin ningun parametro,"
   ]
  },
  {
   "cell_type": "code",
   "execution_count": 6,
   "metadata": {
    "slideshow": {
     "slide_type": "slide"
    }
   },
   "outputs": [
    {
     "name": "stderr",
     "output_type": "stream",
     "text": [
      "\u001b[1m\u001b[31mERROR: \u001b[0mCannot find key: -f\n",
      "Usage: ipykernel_launcher.py <group|command>\n",
      "  available groups:      In | Out | exit | quit | fire\n",
      "  available commands:    get_ipython | register_line_magic |\n",
      "                         register_cell_magic | register_line_cell_magic |\n",
      "                         HTML | Image | highlight | PythonLexer |\n",
      "                         get_lexer_by_name | HtmlFormatter | ImageFormatter |\n",
      "                         add | multiply\n",
      "\n",
      "For detailed information on this command, run:\n",
      "  ipykernel_launcher.py --help\n"
     ]
    },
    {
     "ename": "FireExit",
     "evalue": "2",
     "output_type": "error",
     "traceback": [
      "An exception has occurred, use %tb to see the full traceback.\n",
      "\u001b[0;31mFireExit\u001b[0m\u001b[0;31m:\u001b[0m 2\n"
     ]
    },
    {
     "name": "stderr",
     "output_type": "stream",
     "text": [
      "/home/jileon/.virtualenvs/eoi/lib/python3.6/site-packages/IPython/core/interactiveshell.py:3339: UserWarning: To exit: use 'exit', 'quit', or Ctrl-D.\n",
      "  warn(\"To exit: use 'exit', 'quit', or Ctrl-D.\", stacklevel=1)\n"
     ]
    }
   ],
   "source": [
    "# %load 02-simple-calc.py\n",
    "import fire\n",
    "\n",
    "def add(x, y):\n",
    "    return x + y\n",
    "\n",
    "def multiply(x, y):\n",
    "    return x * y\n",
    "\n",
    "if __name__ == '__main__':\n",
    "    fire.Fire()\n"
   ]
  },
  {
   "cell_type": "markdown",
   "metadata": {
    "slideshow": {
     "slide_type": "slide"
    }
   },
   "source": [
    "Observa que Fire ha interpretado correctamente los valores 10 y 20 como números\n",
    "y no como cadenas de textos. Explicaremos porque pasa esto más adelante.\n",
    "\n",
    "Version 2\n",
    "\n",
    "Podemos seleccionar las funciones que queremos exponer a la línea de comando,\n",
    "instanciando de la clase fire pasando como parámetro un diccionario con las\n",
    "funciones deseadas.\n",
    "\n",
    "Version 3\n",
    "\n",
    "La clase Fire también puede ser instanciada con un objeto o una clas. En\n",
    "ambos casos, todos los métodos definidos en la clase serán accesibles desde la\n",
    "línea de comandos.\n",
    "\n",
    "Ejemplo 4\n",
    "\n",
    "En general es preferible pasar como parámetro a la clase Fire otra clase, en\n",
    "vez de un objeto, porque esto nos permite usar argumentos de la línea de \n",
    "comandos para el constructor de la clase.\n",
    "\n",
    "Ejercicio:\n",
    "\n",
    "Hacer un pequeño programa para imprimir una tabla de multiplicación. El programa debe aceptar un argumento que seria el numero de la tabla que queremos imprimir.\n",
    "\n",
    "\n",
    "### Acceder a propiedades.\n",
    "\n",
    "Hasta ahora solo hemos accedido a funciones pero también podemos acceder a las\n",
    "propiedades de las clases.\n",
    "\n",
    "En el siguiente ejemplo  veremos un pequeño programa con el que podemos mostrar\n",
    "información de aeropuertos internacionales usando el código del aeropuerto.\n",
    "\n",
    "https://github.com/trendct-data/airports.py\n",
    "\n",
    "\n",
    "### Encadenando llamadas de funciones \n",
    "\n",
    "Podemos encadenar llamadas de una forma sencilla, todo lo que tenemos que hacer es escribir una clase cuyo métodos siempre devuelvan Self, como en el siguiente ejemplo:\n",
    "\n",
    "### Salidas personalizada\n",
    "\n",
    "En el ejemplo anterior hemos pintado en pantalla el resultado de nuestra\n",
    "órdenes encadenadas con el formato que definimos en el método `__str__`. \n",
    "\n",
    "Si se define un método `__str__` propios serán este método el que se usará para\n",
    "mostrar como salida. Si no se define, se usará la pantalla de ayuda.\n",
    "\n",
    "\n",
    "### Llamando a funciones y métodos\n",
    "\n",
    "Los argumentos para los constructores siempre deben pasarse por nombre y usar\n",
    "la sintaxis `--name=value`.\n",
    "\n",
    "Los argumentos para otros métodos o funciones se pueden pasar por posición o por nombre.\n",
    "\n",
    "Una cosa muy útil es que los guiones (`-`) y los subrayados (`_`)  son\n",
    "intercambiables tanto en los nombres de las funciones como en los argumentos de\n",
    "la línea de comandos. De igual manera el signo de `=` entre el nombre de la\n",
    "opción y el valor es opcional.\n",
    "\n",
    "\n",
    "### Interpretación de los argumentos.\n",
    "\n",
    "Los tipos de los argumentos vienen determinados por su valor y no por la\n",
    "asignatura de la funcion o metodo que se vaya a usar. Se puede pasar como\n",
    "argumento desde la línea de comandos cualquier valor literal que Python puede\n",
    "interpretar: números, cadenas de textos, tuplas, listas y diccionarios (\n",
    "dependiendo de la versión de Python que estes usando también conjuntos).\n",
    "\n",
    "También puedes usar colecciones anidadas siempre y cuando estas solo contengan\n",
    "literales.\n",
    "\n",
    "A modo de demostración, el siguiente programa nos dice de qué tipo Python es el\n",
    "argumento que le pasamos.\n",
    "\n",
    "Ejemplo el que toque.\n",
    "\n",
    "Nota para usuarios de Bash. Ten cuidado con las comillas. Si queremos pasar la\n",
    "cadena de textos `\"10\"` en vez del número entero `10` necesitamos escapar las\n",
    "comillas dos veces porque Bash hara su propia interpretación de la\n",
    "cadena con lo cual elimina las comillas exteriores.\n",
    "\n",
    "Las expresiones `True` y `False` se interpretan como valores booleanos. Otra\n",
    "forma de pasar valores booleanos a nuestro programa sería usar la sintaxis de\n",
    "doble guión en la forma `-- name` para ajustar el valor a `True` y `--noname`\n",
    "para ajustar el valor a `False`.\n",
    "\n",
    "\n",
    "Un *flag* que siempre puedes usar es `--help`, para mostrar explicaciones y\n",
    "formas de usos. `Fire` incorpora tus *docstrings* dentro de la ayuda que él\n",
    "genera automáticamente.\n",
    "\n",
    "Fire tiene varias opciones interesantes más, consúltalas en la página web\n",
    "https://github.com/google/python-fire si estás interesado."
   ]
  }
 ],
 "metadata": {
  "celltoolbar": "Slideshow",
  "kernelspec": {
   "display_name": "Python 3",
   "language": "python",
   "name": "python3"
  },
  "language_info": {
   "codemirror_mode": {
    "name": "ipython",
    "version": 3
   },
   "file_extension": ".py",
   "mimetype": "text/x-python",
   "name": "python",
   "nbconvert_exporter": "python",
   "pygments_lexer": "ipython3",
   "version": "3.6.9"
  }
 },
 "nbformat": 4,
 "nbformat_minor": 4
}
