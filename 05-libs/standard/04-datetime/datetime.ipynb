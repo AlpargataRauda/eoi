{
 "cells": [
  {
   "cell_type": "markdown",
   "metadata": {
    "slideshow": {
     "slide_type": "slide"
    }
   },
   "source": [
    "### La librería datetime\n",
    "\n",
    "El módulo `datetime` continua donde lo deja `time`. Proporciona clases\n",
    "para trabajar con fechas y tiempos, soportando por ejemplo aritmética de\n",
    "fechas. Dentro de este módulo podemos encontrar las siguientes clases:\n",
    "\n",
    "- `date` para trabajr con fechas\n",
    "- `time` para trabajar con horas\n",
    "- `datetime` para trabajar con fechas y horas, llamadas marcas temporales o _timestamp_\n",
    "- `timedelta` para trabajar con diferencias entre fechas\n",
    "- `timezone` y `tzinfo` para trabajar con zonas horarias\n",
    "\n",
    "Este módulo es bastante antiguo y no sigue la actual convención de usar ``CamelCase`` para los nombres de las clases. Además, es confuso en el caso de `datetime`, ya que módulo y clase comparten el mismo nombre.\n",
    "\n",
    "Para evitarnos teclear, a veces se suele importar directamente a nuestro espacio de nombres las clases que nos interesan:\n",
    "\n",
    "    from datetime import date, time, datetime, timedelta, timezone, tzinfo\n",
    "\n",
    "Notese que esta forma de importación presenta problemas, ya que al importar la clase `datetime` esto nos impide acceder al módulo original. Además, otro programador que no sea consciente de la forma de importacion puede querer utilizar `datetime` como si fuera el módulo, no la clase.\n",
    "\n",
    "En el resto de los ejemplos, usaremos `datetime` como módulo, aunque tecleemos más."
   ]
  },
  {
   "cell_type": "code",
   "execution_count": 17,
   "metadata": {},
   "outputs": [],
   "source": [
    "import datetime"
   ]
  },
  {
   "cell_type": "markdown",
   "metadata": {},
   "source": [
    "#### La clase `date`"
   ]
  },
  {
   "cell_type": "markdown",
   "metadata": {
    "slideshow": {
     "slide_type": "slide"
    }
   },
   "source": [
    "La clase `datetime.date` se usa para representar una fecha local. Asume que el Calendario Gregoriano siempre ha\n",
    "estado vigente (No es verdad). Tiene los atributos: `year`, `month` y `day`. La clase tiene un método estático para obtener la fecha actual, ``today``."
   ]
  },
  {
   "cell_type": "code",
   "execution_count": 2,
   "metadata": {
    "slideshow": {
     "slide_type": "slide"
    }
   },
   "outputs": [
    {
     "name": "stdout",
     "output_type": "stream",
     "text": [
      "2020-10-19\n"
     ]
    }
   ],
   "source": [
    "import datetime\n",
    "\n",
    "hoy = datetime.date.today()\n",
    "print(hoy)"
   ]
  },
  {
   "cell_type": "markdown",
   "metadata": {},
   "source": [
    "Si lo que queremos es crear una fecha determinada, usamos el constructor de la clase con los parámetros año, mes y dia, en ese orden:"
   ]
  },
  {
   "cell_type": "code",
   "execution_count": 3,
   "metadata": {},
   "outputs": [
    {
     "name": "stdout",
     "output_type": "stream",
     "text": [
      "2020-04-15\n"
     ]
    }
   ],
   "source": [
    "import datetime\n",
    "dt = datetime.date(2020, 4, 15)\n",
    "print(dt)"
   ]
  },
  {
   "cell_type": "markdown",
   "metadata": {
    "slideshow": {
     "slide_type": "slide"
    }
   },
   "source": [
    "Los objetos `date`, asi como todos los demas definidos en este modulo, son **inmutables**, es decir, no  pueden ser modificados."
   ]
  },
  {
   "cell_type": "markdown",
   "metadata": {},
   "source": [
    "**Ejercicio:** Intentar modificar una instancia de fecha `datetime.date`"
   ]
  },
  {
   "cell_type": "code",
   "execution_count": 21,
   "metadata": {},
   "outputs": [
    {
     "ename": "AttributeError",
     "evalue": "attribute 'year' of 'datetime.date' objects is not writable",
     "output_type": "error",
     "traceback": [
      "\u001b[0;31m---------------------------------------------------------------------------\u001b[0m",
      "\u001b[0;31mAttributeError\u001b[0m                            Traceback (most recent call last)",
      "\u001b[0;32m<ipython-input-21-3a67fff09734>\u001b[0m in \u001b[0;36m<module>\u001b[0;34m\u001b[0m\n\u001b[0;32m----> 1\u001b[0;31m \u001b[0mdt\u001b[0m\u001b[0;34m.\u001b[0m\u001b[0myear\u001b[0m \u001b[0;34m=\u001b[0m \u001b[0;36m2021\u001b[0m\u001b[0;34m\u001b[0m\u001b[0;34m\u001b[0m\u001b[0m\n\u001b[0m",
      "\u001b[0;31mAttributeError\u001b[0m: attribute 'year' of 'datetime.date' objects is not writable"
     ]
    }
   ],
   "source": [
    "dt.year = 2021"
   ]
  },
  {
   "cell_type": "markdown",
   "metadata": {
    "slideshow": {
     "slide_type": "slide"
    }
   },
   "source": [
    "¿Qué hacemos entonces para trabajar con ellos? Pues crear nuevos objetos a partir de los anteriores, por ejemplo usando el método `replace`, que crea una nueva fecha modificando el valor o valores que se le pasa como parámetro.\n",
    "\n",
    "El siguiente código obtiene la fecha del dia y mes actual, pero luego obtiene una nueva fecha reemplazando el año por 1982:"
   ]
  },
  {
   "cell_type": "code",
   "execution_count": 22,
   "metadata": {
    "slideshow": {
     "slide_type": "slide"
    }
   },
   "outputs": [
    {
     "name": "stdout",
     "output_type": "stream",
     "text": [
      "1982-10-19\n"
     ]
    }
   ],
   "source": [
    "import datetime\n",
    "\n",
    "hoy = datetime.date.today()\n",
    "en1982 = hoy.replace(year=1982)\n",
    "print(en1982)"
   ]
  },
  {
   "cell_type": "markdown",
   "metadata": {
    "slideshow": {
     "slide_type": "slide"
    }
   },
   "source": [
    "Otra forma de crear una fecha es a partir de una marca temporal tipo Unix (Segundos desde 1970), usando el metodo de clase `fromtimestamp`. Esto es interesante ya que muchas llamadas del sistema operativo nos devuelven fechas y marcas temporales en ese formato."
   ]
  },
  {
   "cell_type": "code",
   "execution_count": 27,
   "metadata": {},
   "outputs": [
    {
     "name": "stdout",
     "output_type": "stream",
     "text": [
      "2020-10-19\n"
     ]
    }
   ],
   "source": [
    "import datetime\n",
    "import time\n",
    "\n",
    "t = time.time()\n",
    "d = datetime.date.fromtimestamp(t)\n",
    "print(d)\n",
    "\n",
    "\n",
    "\n"
   ]
  },
  {
   "cell_type": "markdown",
   "metadata": {},
   "source": [
    "**Ejercicio**: Crear la marca temporal asignada a **0.0** segundos. Buscar en la Wikipedia por \"Tiempo Unix\". \n",
    "Comprobar que la fecha/hora obtenido coincide con lo esperado."
   ]
  },
  {
   "cell_type": "code",
   "execution_count": 28,
   "metadata": {},
   "outputs": [
    {
     "name": "stdout",
     "output_type": "stream",
     "text": [
      "1970-01-01\n"
     ]
    }
   ],
   "source": [
    "import datetime\n",
    "\n",
    "dt = datetime.date.fromtimestamp(0.0)\n",
    "print(dt)"
   ]
  },
  {
   "cell_type": "markdown",
   "metadata": {},
   "source": [
    "Otro método interesante es `weekday`, que nos revuelve un código numérico indicando el dia de la semana de la fecha, siendo `0` el lunes y `6` el domingo."
   ]
  },
  {
   "cell_type": "code",
   "execution_count": 29,
   "metadata": {},
   "outputs": [
    {
     "name": "stdout",
     "output_type": "stream",
     "text": [
      "0\n"
     ]
    }
   ],
   "source": [
    "import datetime\n",
    "\n",
    "hoy = datetime.date.today()\n",
    "print(hoy.weekday())"
   ]
  },
  {
   "cell_type": "markdown",
   "metadata": {},
   "source": [
    "**Ejercicio:** Si tuvieramos una máquina del tiempo y viajaramos al mismo mes y día que hoy, pero en 1982, ¿Qué día de la semana sería?"
   ]
  },
  {
   "cell_type": "code",
   "execution_count": 30,
   "metadata": {},
   "outputs": [
    {
     "name": "stdout",
     "output_type": "stream",
     "text": [
      "1\n"
     ]
    }
   ],
   "source": [
    "import datetime\n",
    "\n",
    "hoy = datetime.date.today()\n",
    "d = hoy.replace(year=1982)\n",
    "print(d.weekday())\n"
   ]
  },
  {
   "cell_type": "markdown",
   "metadata": {},
   "source": [
    "#### La clase `datetime.time`\n",
    "\n",
    "Se usa para representar Una marca de tiempo ideal, no sujeta a ninguna fecha en particular, y\n",
    "que asume que cada día tiene exactamente $24\\times60\\times60$ segundos (No es verdad). Tiene\n",
    "los atributos: `hour`, `minute`, `second`, `microsecond` y `tzinfo`.\n",
    "\n",
    "No es muy utilizada, ya que en la mayoria de los casos nos interesa la combinacvi'on de fecha y hora, no la hora sola, y esta combinación es justo la que nos da la siguiente clase, `datetime`."
   ]
  },
  {
   "cell_type": "markdown",
   "metadata": {},
   "source": [
    "#### La clase `datetime.datetime`"
   ]
  },
  {
   "cell_type": "markdown",
   "metadata": {
    "slideshow": {
     "slide_type": "slide"
    }
   },
   "source": [
    "La clase `datetime` sirve para trabajar con fechas y con marcas temporales o _timestamp_ (Fecha y hora). Es una  combinación de fecha y hora, con los atributos: `year`, `month`,`day`, `hour`, `minute`, `second`, `microsecond` y `tzinfo`\n",
    "\n",
    "Para trabajar con estos objetos hay que tener en cuenta que existen dos tipos distintos\n",
    "de fechas/horas o _timestamp_ que podemos obtener a partir de esta clase: **absolutas** o **ingenuas** (_naive_)."
   ]
  },
  {
   "cell_type": "markdown",
   "metadata": {
    "slideshow": {
     "slide_type": "slide"
    }
   },
   "source": [
    "Una fecha absoluta dispone de toda la información necesaria para poder\n",
    "determinar, sin ninguna ambigüedad, su valor. Y para saber eso tiene que estar al tanto de la [zona\n",
    "horaría](https://es.wikipedia.org/wiki/Huso_horario) en la que está y, lo que es más complicado, si está activo o no el horario\n",
    "de verano."
   ]
  },
  {
   "cell_type": "markdown",
   "metadata": {},
   "source": [
    "![Zonas horarias](./world_time_zones_map.png)"
   ]
  },
  {
   "cell_type": "markdown",
   "metadata": {
    "slideshow": {
     "slide_type": "slide"
    }
   },
   "source": [
    "El horario de verano es un acuerdo político, administrado por cada país,\n",
    "por lo que se suele describir como cambiante, difícil de entender y\n",
    "caótico."
   ]
  },
  {
   "cell_type": "markdown",
   "metadata": {
    "slideshow": {
     "slide_type": "slide"
    }
   },
   "source": [
    "La ventaja de una fecha/hora absoluta es que no está sujeta a\n",
    "interpretación. Con una fecha *naive*, por el contrario, no se puede\n",
    "saber con seguridad a no ser que dispongamos de algun sistema que nos\n",
    "indique también laa zona horaria o la ubicación geográfica para completar la información."
   ]
  },
  {
   "cell_type": "markdown",
   "metadata": {
    "slideshow": {
     "slide_type": "slide"
    }
   },
   "source": [
    "Una fecha ingenua está, por lo tanto, incompleta. Le falta información\n",
    "necesaria para que su valor sea indiscutible, lo que dificulta, por\n",
    "ejemplo, hacer comparaciones.\n",
    "\n",
    "Determinar si una fecha *naive* está referida al Tiempo Coordinado\n",
    "Universal (UTC), la fecha y hora local o la fecha y hora en alguna otra\n",
    "zona horaria depende por entero del programa, de la misma forma que es\n",
    "responsabilidad del programa determinar si un número representa metros,\n",
    "micras o litros."
   ]
  },
  {
   "cell_type": "markdown",
   "metadata": {
    "slideshow": {
     "slide_type": "slide"
    }
   },
   "source": [
    "Las fechas/tiempo locales son fáciles de entender y de usar, pero esa\n",
    "falta de información nos puede dar problemas. Con el metodo de clase `now` obtenemos la marca\n",
    "temporal del momento actual, y usando el constructor de la clase podemos definir el momento exacto pasandole\n",
    "los datos de año, mes, dia, hora, minuto, segundo y zona horaria."
   ]
  },
  {
   "cell_type": "code",
   "execution_count": 35,
   "metadata": {},
   "outputs": [
    {
     "name": "stdout",
     "output_type": "stream",
     "text": [
      "2020-10-19 16:24:32.814988\n"
     ]
    }
   ],
   "source": [
    "import datetime\n",
    "\n",
    "ahora = datetime.datetime.now()\n",
    "print(ahora)"
   ]
  },
  {
   "cell_type": "code",
   "execution_count": 36,
   "metadata": {
    "slideshow": {
     "slide_type": "slide"
    }
   },
   "outputs": [
    {
     "name": "stdout",
     "output_type": "stream",
     "text": [
      "2020-01-01 23:12:44\n"
     ]
    }
   ],
   "source": [
    "dt = datetime.datetime(2020, 1, 1, 23, 12, 44)\n",
    "print(dt)"
   ]
  },
  {
   "cell_type": "markdown",
   "metadata": {},
   "source": [
    "#### La clase `datetime.timedelta`\n",
    "\n",
    "Representa una duración: La diferencia entre dos objetos de tipo `date` o `datetime`.\n"
   ]
  },
  {
   "cell_type": "code",
   "execution_count": 38,
   "metadata": {
    "slideshow": {
     "slide_type": "slide"
    }
   },
   "outputs": [
    {
     "data": {
      "text/plain": [
       "datetime.timedelta(days=-108)"
      ]
     },
     "execution_count": 38,
     "metadata": {},
     "output_type": "execute_result"
    }
   ],
   "source": [
    "import datetime\n",
    "\n",
    "datetime.date(2020, 4, 15) - datetime.date(2020, 8, 1)\n"
   ]
  },
  {
   "cell_type": "markdown",
   "metadata": {},
   "source": [
    "**Ejercicio**: Dada la fecha de hoy, calcular la fecha para una cita dentro de 91 dias:"
   ]
  },
  {
   "cell_type": "code",
   "execution_count": 39,
   "metadata": {
    "slideshow": {
     "slide_type": "slide"
    }
   },
   "outputs": [
    {
     "name": "stdout",
     "output_type": "stream",
     "text": [
      "Su proxima cita sera el 2021-01-18\n"
     ]
    }
   ],
   "source": [
    "import datetime\n",
    "\n",
    "hoy = datetime.date.today()\n",
    "cita = hoy + datetime.timedelta(days=91)\n",
    "print(f\"Su proxima cita sera el {cita}\")"
   ]
  },
  {
   "cell_type": "markdown",
   "metadata": {},
   "source": [
    "Ejercicio: Cuantos dias vivio Elvis Presley?"
   ]
  },
  {
   "cell_type": "markdown",
   "metadata": {
    "slideshow": {
     "slide_type": "slide"
    }
   },
   "source": [
    "\n",
    "![Elvis presley](../img/elvis.jpg)\n",
    "\n",
    "### Elvis Aaron Presley\n",
    "\n",
    "(Tupelo, Misisipi; **8 de enero de 1935**, Memphis, Tennessee; **16 de agosto de 1977**) fue uno de los cantantes estadounidenses más populares del siglo XX considerado como un ícono cultural y conocido ampliamente bajo su nombre de pila, Elvis. Se hace referencia a él frecuentemente como «El Rey del Rock and Roll» o simplemente «El Rey». "
   ]
  },
  {
   "cell_type": "code",
   "execution_count": 40,
   "metadata": {
    "slideshow": {
     "slide_type": "slide"
    }
   },
   "outputs": [
    {
     "name": "stdout",
     "output_type": "stream",
     "text": [
      "15561 days, 0:00:00\n"
     ]
    }
   ],
   "source": [
    "born_day = datetime.date(1935, 1, 8)\n",
    "dead_in =  datetime.date(1977, 8, 16)\n",
    "print(dead_in - born_day)"
   ]
  },
  {
   "cell_type": "code",
   "execution_count": 52,
   "metadata": {
    "slideshow": {
     "slide_type": "slide"
    }
   },
   "outputs": [
    {
     "name": "stdout",
     "output_type": "stream",
     "text": [
      "Untitled.ipynb modificado por ultima vez el 2020-04-15T16:01:24.857377\n",
      "timeit.rst modificado por ultima vez el 2020-04-14T16:41:38.917434\n",
      "pdb.ipynb modificado por ultima vez el 2020-04-14T15:38:09.180365\n",
      "urllib.rst modificado por ultima vez el 2020-04-14T15:38:09.184365\n",
      "smtplib.rst modificado por ultima vez el 2020-04-14T15:38:09.180365\n",
      "files.backup modificado por ultima vez el 2020-04-15T17:28:46.028033\n",
      "xml.rst modificado por ultima vez el 2020-04-14T15:38:09.184365\n",
      "re.rst modificado por ultima vez el 2020-03-04T22:23:13.635833\n",
      "hashlib.rst modificado por ultima vez el 2020-04-14T15:38:09.176365\n",
      "sys.md modificado por ultima vez el 2020-04-14T15:51:28.696070\n",
      "zlib.ipynb modificado por ultima vez el 2020-04-15T15:38:36.752046\n",
      "zlib_sol_01.py modificado por ultima vez el 2020-04-12T11:36:59.041454\n",
      "img modificado por ultima vez el 2020-04-14T15:38:09.180365\n",
      ".ipynb_checkpoints modificado por ultima vez el 2020-04-15T18:25:34.666192\n",
      "lorem.txt modificado por ultima vez el 2020-04-12T11:36:59.041454\n",
      "difflib.rst modificado por ultima vez el 2020-04-14T15:38:09.176365\n",
      ".swp modificado por ultima vez el 2020-04-14T19:30:51.415606\n",
      "heapq.rst modificado por ultima vez el 2020-03-04T22:23:13.635833\n",
      "traceback.rst modificado por ultima vez el 2020-04-14T15:38:09.184365\n",
      "os.ipynb modificado por ultima vez el 2020-04-15T15:38:36.748046\n",
      "traceback.ipynb modificado por ultima vez el 2020-04-14T15:38:09.184365\n",
      "sqlite3.rst modificado por ultima vez el 2020-03-22T21:35:36.545922\n",
      "statistics.rst modificado por ultima vez el 2020-04-15T15:38:36.748046\n",
      "logging.ipynb modificado por ultima vez el 2020-04-14T15:38:09.180365\n",
      "base64.ipynb modificado por ultima vez el 2020-04-14T15:38:09.176365\n",
      "a modificado por ultima vez el 2020-04-14T16:50:14.328601\n",
      "os.rst modificado por ultima vez el 2020-03-04T22:23:13.635833\n",
      "file.txt.gz modificado por ultima vez el 2020-04-14T19:21:33.417206\n",
      "sys.rst modificado por ultima vez el 2020-04-14T15:38:09.180365\n",
      "timeit.ipynb modificado por ultima vez el 2020-04-14T15:38:09.184365\n",
      "logging.rst modificado por ultima vez el 2020-04-14T15:38:09.180365\n",
      "itertools.ipynb modificado por ultima vez el 2020-04-14T15:38:09.180365\n",
      "random.rst modificado por ultima vez el 2020-04-14T15:38:09.180365\n",
      "zipfile.ipynb modificado por ultima vez el 2020-04-15T17:30:14.467117\n",
      "curses.rst modificado por ultima vez el 2020-03-22T21:35:36.545922\n",
      "itertools.rst modificado por ultima vez el 2020-04-14T15:38:09.180365\n",
      "compression.ipynb modificado por ultima vez el 2020-04-14T15:38:09.176365\n",
      "curses modificado por ultima vez el 2020-03-22T21:35:36.545922\n",
      "sys.ipynb modificado por ultima vez el 2020-04-14T17:54:27.557778\n",
      "lorem.txt.gz modificado por ultima vez el 2020-04-14T19:44:37.495183\n",
      "argparse.rst modificado por ultima vez el 2020-04-14T15:38:09.172365\n",
      "pdb.rst modificado por ultima vez el 2020-04-14T15:38:09.180365\n",
      "argparse.ipynb modificado por ultima vez el 2020-04-14T15:38:09.172365\n",
      "datetime.rst modificado por ultima vez el 2020-04-14T15:38:09.176365\n",
      "http_server.rst modificado por ultima vez el 2020-04-14T15:38:09.176365\n",
      "notebooks.zip modificado por ultima vez el 2020-04-15T17:11:24.882584\n",
      "gzip.ipynb modificado por ultima vez el 2020-04-14T19:48:20.116919\n",
      "time.rst modificado por ultima vez el 2020-04-14T15:38:09.180365\n",
      "csv.rst modificado por ultima vez el 2020-04-14T15:38:09.176365\n",
      "Untitled1.ipynb modificado por ultima vez el 2020-04-15T18:59:36.037591\n",
      "time.ipynb modificado por ultima vez el 2020-04-15T18:21:53.528342\n",
      "base64.rst modificado por ultima vez el 2020-04-01T22:32:30.828802\n",
      "os.md modificado por ultima vez el 2020-04-14T15:41:20.198430\n",
      "collections.rst modificado por ultima vez el 2020-04-14T15:38:09.176365\n"
     ]
    }
   ],
   "source": [
    "import os\n",
    "import datetime\n",
    "\n",
    "for fn in os.listdir():\n",
    "    modificado = os.path.getmtime(fn)\n",
    "    modificado = datetime.datetime.fromtimestamp(modificado)\n",
    "    print (f\"{fn} modificado por ultima vez el {modificado.isoformat()}\")"
   ]
  }
 ],
 "metadata": {
  "celltoolbar": "Slideshow",
  "kernelspec": {
   "display_name": "Python 3",
   "language": "python",
   "name": "python3"
  },
  "language_info": {
   "codemirror_mode": {
    "name": "ipython",
    "version": 3
   },
   "file_extension": ".py",
   "mimetype": "text/x-python",
   "name": "python",
   "nbconvert_exporter": "python",
   "pygments_lexer": "ipython3",
   "version": "3.8.5"
  }
 },
 "nbformat": 4,
 "nbformat_minor": 4
}
