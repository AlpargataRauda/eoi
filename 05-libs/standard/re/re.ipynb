{
 "cells": [
  {
   "cell_type": "markdown",
   "metadata": {
    "slideshow": {
     "slide_type": "slide"
    }
   },
   "source": [
    "## La librería re - Expresiones regulares\n",
    "\n",
    "La librería **`re`** permite trabajar con expresiones regulares."
   ]
  },
  {
   "cell_type": "markdown",
   "metadata": {},
   "source": [
    "Vamos a realizar primero un ejercicio para entender la necesidad y utilidad de las expresiones \n",
    "regulares. Vamos a hacer una funcion que nos permita identificar si un texto representa un número\n",
    "de teléfono del tipo `999-999-9999`, como por ejemplo `354-472-5723`. "
   ]
  },
  {
   "cell_type": "code",
   "execution_count": 3,
   "metadata": {},
   "outputs": [
    {
     "name": "stdout",
     "output_type": "stream",
     "text": [
      "/usr 3.8.5 (default, Jul 28 2020, 12:59:40) \n",
      "[GCC 9.3.0]\n"
     ]
    }
   ],
   "source": [
    "import sys\n",
    "\n",
    "print(sys.base_prefix, sys.version)"
   ]
  },
  {
   "cell_type": "code",
   "execution_count": 2,
   "metadata": {},
   "outputs": [],
   "source": [
    "import ipytest\n",
    "ipytest.autoconfig()"
   ]
  },
  {
   "cell_type": "code",
   "execution_count": 3,
   "metadata": {},
   "outputs": [
    {
     "name": "stdout",
     "output_type": "stream",
     "text": [
      "FF                                                                                                                            [100%]\n",
      "============================================================= FAILURES ==============================================================\n",
      "______________________________________________________________ test_ok ______________________________________________________________\n",
      "\n",
      "    def test_ok():\n",
      ">       assert is_phone('354-472-4237') is True\n",
      "E       AssertionError: assert None is True\n",
      "E        +  where None = is_phone('354-472-4237')\n",
      "\n",
      "<ipython-input-3-17d950e7f031>:5: AssertionError\n",
      "_____________________________________________________________ test_bad ______________________________________________________________\n",
      "\n",
      "    def test_bad():\n",
      ">       assert is_phone('tururu') is False\n",
      "E       AssertionError: assert None is False\n",
      "E        +  where None = is_phone('tururu')\n",
      "\n",
      "<ipython-input-3-17d950e7f031>:8: AssertionError\n",
      "====================================================== short test summary info ======================================================\n",
      "FAILED tmpq76ly81c.py::test_ok - AssertionError: assert None is True\n",
      "FAILED tmpq76ly81c.py::test_bad - AssertionError: assert None is False\n"
     ]
    }
   ],
   "source": [
    "%%run_pytest[clean] -qq\n",
    "\n",
    "def is_phone(s):\n",
    "    pass\n",
    "\n",
    "def test_ok():\n",
    "    assert is_phone('354-472-4237') is True\n",
    "\n",
    "def test_bad():\n",
    "    assert is_phone('tururu') is False\n",
    "    assert is_phone('tururutururu') is False\n",
    "    assert is_phone('tur-rut-ruru') is False\n",
    "    assert is_phone('123-rut-ruru') is False\n",
    "    assert is_phone('123-456-ruru') is False\n",
    "    assert is_phone('tur-456-9876') is False"
   ]
  },
  {
   "cell_type": "markdown",
   "metadata": {},
   "source": [
    "Veamos una primera implementacion:"
   ]
  },
  {
   "cell_type": "code",
   "execution_count": 47,
   "metadata": {},
   "outputs": [
    {
     "name": "stdout",
     "output_type": "stream",
     "text": [
      "..                                                                                                                            [100%]\n"
     ]
    }
   ],
   "source": [
    "%%run_pytest[clean] -qq -v\n",
    "\n",
    "def is_phone(s):\n",
    "    if len(s) != 12:\n",
    "        return False\n",
    "    if not s[:3].isdigit():\n",
    "        return False\n",
    "    if s[3] != '-':\n",
    "        return False\n",
    "    if not s[4:7].isdigit():\n",
    "        return False\n",
    "    if s[7] != '-':\n",
    "        return False\n",
    "    if not s[8:].isdigit():\n",
    "        return False\n",
    "    return True\n",
    "\n",
    "\n",
    "def test_ok():\n",
    "    assert is_phone('354-472-4237') is True\n",
    "\n",
    "def test_bad():\n",
    "    assert is_phone('tururu') is False\n",
    "    assert is_phone('tururutururu') is False\n",
    "    assert is_phone('tur-rut-ruru') is False\n",
    "    assert is_phone('123-rut-ruru') is False\n",
    "    assert is_phone('123-456-ruru') is False\n",
    "    assert is_phone('tur-456-9876') is False\n",
    "    assert is_phone('123-fur-9876') is False"
   ]
  },
  {
   "cell_type": "markdown",
   "metadata": {},
   "source": [
    "Bien, todos los test pasas. Pero... ¿qué pasa ahora si queremos que se acepten dos formatos,\n",
    "tanto `354-472-4237` como `(354) 472-4237`? Vamos primero a añadir un test para este nuevo caso:"
   ]
  },
  {
   "cell_type": "code",
   "execution_count": 48,
   "metadata": {},
   "outputs": [
    {
     "name": "stdout",
     "output_type": "stream",
     "text": [
      "F                                                                                                                             [100%]\n",
      "============================================================= FAILURES ==============================================================\n",
      "________________________________________________________ test_ok_alt_format _________________________________________________________\n",
      "\n",
      "    def test_ok_alt_format():\n",
      ">       assert is_phone('(354) 472-4237') is True\n",
      "E       AssertionError: assert False is True\n",
      "E        +  where False = is_phone('(354) 472-4237')\n",
      "\n",
      "<ipython-input-48-a0b4b14b5e70>:2: AssertionError\n",
      "====================================================== short test summary info ======================================================\n",
      "FAILED tmpewhvc95q.py::test_ok_alt_format - AssertionError: assert False is True\n"
     ]
    }
   ],
   "source": [
    "%%run_pytest[clean] -qq -v\n",
    "\n",
    "def test_ok_alt_format():\n",
    "    assert is_phone('(354) 472-4237') is True"
   ]
  },
  {
   "cell_type": "markdown",
   "metadata": {},
   "source": [
    "Obviamente, falla. Vamos a inplementar una version mejorada que arregle este test."
   ]
  },
  {
   "cell_type": "code",
   "execution_count": 60,
   "metadata": {},
   "outputs": [
    {
     "data": {
      "text/plain": [
       "'4237'"
      ]
     },
     "execution_count": 60,
     "metadata": {},
     "output_type": "execute_result"
    }
   ],
   "source": [
    "'(354) 472-4237'[10:]"
   ]
  },
  {
   "cell_type": "code",
   "execution_count": 61,
   "metadata": {},
   "outputs": [
    {
     "name": "stdout",
     "output_type": "stream",
     "text": [
      "...                                                                                                                           [100%]\n"
     ]
    }
   ],
   "source": [
    "%%run_pytest[clean] -qq -v\n",
    "\n",
    "def is_phone(s):\n",
    "    if len(s) == 12:\n",
    "        if not s[:3].isdigit():\n",
    "            return False\n",
    "        if s[3] != '-':\n",
    "            return False\n",
    "        if not s[4:7].isdigit():\n",
    "            return False\n",
    "        if s[7] != '-':\n",
    "            return False\n",
    "        if not s[8:].isdigit():\n",
    "            return False\n",
    "        return True\n",
    "    elif len(s) == 14:\n",
    "        if s[0] != '(':\n",
    "            return False\n",
    "        if not s[1:4].isdigit():\n",
    "            return False\n",
    "        if s[4] != ')':\n",
    "            return False\n",
    "        if s[5] != ' ':\n",
    "            return False\n",
    "        if not s[6:9].isdigit():\n",
    "            return False\n",
    "        if s[9] != '-':\n",
    "            return False\n",
    "        if not s[10:].isdigit():\n",
    "            return False\n",
    "        return True\n",
    "    return False\n",
    "\n",
    "def test_ok():\n",
    "    assert is_phone('354-472-4237') is True\n",
    "    \n",
    "def test_ok_alt_format():\n",
    "    assert is_phone('(354) 472-4237') is True\n",
    "    \n",
    "def test_bad():\n",
    "    assert is_phone('tururu') is False\n",
    "    assert is_phone('tururutururu') is False\n",
    "    assert is_phone('tur-rut-ruru') is False\n",
    "    assert is_phone('123-rut-ruru') is False\n",
    "    assert is_phone('123-456-ruru') is False\n",
    "    assert is_phone('tur-456-9876') is False\n",
    "    assert is_phone('123-fur-9876') is False"
   ]
  },
  {
   "cell_type": "code",
   "execution_count": 8,
   "metadata": {},
   "outputs": [
    {
     "name": "stdout",
     "output_type": "stream",
     "text": [
      "...                                                                                                                           [100%]\n"
     ]
    }
   ],
   "source": [
    "%%run_pytest[clean] -qq -v\n",
    "\n",
    "def is_phone(s):\n",
    "    pat_telefono = re.compile(r'\\d{3}-\\d{3}-\\d{4}|\\(\\d{3}\\) \\d{3}-\\d{4}')\n",
    "    if pat_telefono.match(s):\n",
    "        return True\n",
    "    return False\n",
    "    \n",
    "\n",
    "def test_ok():\n",
    "    assert is_phone('354-472-4237') is True\n",
    "    \n",
    "def test_ok_alt_format():\n",
    "    assert is_phone('(354) 472-4237') is True\n",
    "    \n",
    "def test_bad():\n",
    "    assert is_phone('tururu') is False\n",
    "    assert is_phone('tururutururu') is False\n",
    "    assert is_phone('tur-rut-ruru') is False\n",
    "    assert is_phone('123-rut-ruru') is False\n",
    "    assert is_phone('123-456-ruru') is False\n",
    "    assert is_phone('tur-456-9876') is False\n",
    "    assert is_phone('123-fur-9876') is False"
   ]
  },
  {
   "cell_type": "markdown",
   "metadata": {},
   "source": [
    "Ya funciona con el nuevo formato. Pero es un montón de código, yno especialmente sencillo (demasiados if y niveles de anidamiento). Es verdad que se podria haber escrito de otra forma más corta, pero no mucho más. Veremos ahora qué son las expresiones regulares y como podemos usarlas para reimplementar todo el codigo de la funcion en apenas dos o tres líneas."
   ]
  },
  {
   "cell_type": "markdown",
   "metadata": {},
   "source": [
    "### Qué son las expresiones regulares"
   ]
  },
  {
   "cell_type": "markdown",
   "metadata": {
    "slideshow": {
     "slide_type": "slide"
    }
   },
   "source": [
    "Una **expresión regular** viene a definir un conjunto de cadenas de texto que\n",
    "cumplen un determinado patrón. Si una cadena de texto pertenece al conjunto de\n",
    "posibles cadenas definidas por la expresión, se dice que *casan* o que ha habido\n",
    "una coincidencia o *match*."
   ]
  },
  {
   "cell_type": "markdown",
   "metadata": {
    "slideshow": {
     "slide_type": "slide"
    }
   },
   "source": [
    "Existen múltiples implementaciones de expresiones regulares, cada una compartiendo\n",
    "un nucleo comun pero con extensiones o modificaciones para añadir capacidades más\n",
    "avanzadas.\n",
    "\n",
    "La sintaxis usada en el módulo `re` de python se basa en la usada por\n",
    "el lenguaje Perl, con unas pocas mejoras especificas de Python."
   ]
  },
  {
   "cell_type": "markdown",
   "metadata": {
    "slideshow": {
     "slide_type": "slide"
    }
   },
   "source": [
    "Las expresiones regulares se crean combinando expresiones regulares más\n",
    "pequeñas (o primitivas), y se especifican mediante una cadena de texto."
   ]
  },
  {
   "cell_type": "markdown",
   "metadata": {
    "slideshow": {
     "slide_type": "slide"
    }
   },
   "source": [
    "La cadena que define una expresión regular puede incluir caractereres\n",
    "__normales__ o __especiales__. "
   ]
  },
  {
   "cell_type": "markdown",
   "metadata": {
    "slideshow": {
     "slide_type": "slide"
    }
   },
   "source": [
    "Los caracteres normales solo casan consigo mismo. Por ejemplo, la expresión\n",
    "regular `a` solo casaría con una a."
   ]
  },
  {
   "cell_type": "markdown",
   "metadata": {
    "slideshow": {
     "slide_type": "slide"
    }
   },
   "source": [
    "Los especiales, como `|` o `.` tienen otros significados; o bien definen\n",
    "conjuntos de caracteres o modifican a las expresiones regulares adyacentes."
   ]
  },
  {
   "cell_type": "markdown",
   "metadata": {
    "slideshow": {
     "slide_type": "slide"
    }
   },
   "source": [
    "Antes de ver los caracteres especiales, veamos como usar las expresiones regulares. Primero tenemos que importar el modulo `re`:"
   ]
  },
  {
   "cell_type": "code",
   "execution_count": 35,
   "metadata": {},
   "outputs": [],
   "source": [
    "import re"
   ]
  },
  {
   "cell_type": "markdown",
   "metadata": {},
   "source": [
    "El siguiente ejemplo usa una expresión regular para encontrar números dentro de una\n",
    "cadena de texto. No hay que preocuparse ahora de lo que significa la expresión \n",
    "regular `\\d+`, eso lo explicaremos en el resto del tema. Ahora solo hay que entender\n",
    "como se usan.\n",
    "\n",
    "Primero, a partir del texto que describe el patron que queremos buscar, `\\d+` en este\n",
    "caso, l;lamando a la función `compile` del módulo `re`, se obtiene un objeto tipo\n",
    "_pattern_ (Patrón). Este objeto está especializado en identificar el patron que le\n",
    "hemos pasado. Los objetos _pattern_ tienen varios métodos útiles, vamos a\n",
    "usar `search`, que realiza una búsqueda del patrón en el texto indicado. Si\n",
    "no lo encuentra, devuelve `None`, pero si lo encuentra, devuelve un objeto\n",
    "de tipo `match`, que, entre otras cosas, nos indica donde\n",
    "exactamente dentro del texto se encuentra el subtexto que casa con el patrón:\n"
   ]
  },
  {
   "cell_type": "code",
   "execution_count": 64,
   "metadata": {},
   "outputs": [
    {
     "name": "stdout",
     "output_type": "stream",
     "text": [
      "Encontrado <re.Match object; span=(4, 7), match='100'>\n"
     ]
    }
   ],
   "source": [
    "import re \n",
    "\n",
    "patron = re.compile(r\"\\d+\")\n",
    "\n",
    "s = \"Con 100 cañones por banda...\"\n",
    "match = patron.search(s)\n",
    "if match:\n",
    "    print('Encontrado', match)\n",
    "else:\n",
    "    print('No encontrado')"
   ]
  },
  {
   "cell_type": "markdown",
   "metadata": {},
   "source": [
    "**Nota**: No es estríctamente obligatorio usar la función `compile`.\n",
    "Podemos usar una función `search`, definida en `re`, a la que le pasamos dos\n",
    "parámetros, el primero la cadena de texto que describe la expresión\n",
    "regular, y el segundo el texto a buscar. Internamente la función creara el objeto\n",
    "patron. Yo recoiendo compilar primero, porque es más eficiente y de esa forma podemos reutilizar  el patrón en diferentes sitios. Este seria el codigo del ejemplo usando la función `search` en vez del método `search`:"
   ]
  },
  {
   "cell_type": "code",
   "execution_count": 65,
   "metadata": {},
   "outputs": [
    {
     "name": "stdout",
     "output_type": "stream",
     "text": [
      "Encontrado <re.Match object; span=(4, 7), match='100'>\n"
     ]
    }
   ],
   "source": [
    "import re\n",
    "\n",
    "s = \"Con 100 cañones por banda...\"\n",
    "match = re.search(r\"\\d+\", s)\n",
    "if match:\n",
    "    print('Encontrado', match)\n",
    "else:\n",
    "    print('No encontrado')"
   ]
  },
  {
   "cell_type": "markdown",
   "metadata": {
    "slideshow": {
     "slide_type": "slide"
    }
   },
   "source": [
    "### Resultado de buscar patrones en un texto"
   ]
  },
  {
   "cell_type": "markdown",
   "metadata": {
    "slideshow": {
     "slide_type": "slide"
    }
   },
   "source": [
    "COmo se explica antes, el resultado de la función depende de si ha encontrado\n",
    "o no alguna ocurrencia del patrón en el texto. Si la encontró, se devuelve\n",
    "un objeto de tipo `Match` (que es un objeto que almacena la información de donde se ha encotrado). Si no lo encuentra, devuelve `None`."
   ]
  },
  {
   "cell_type": "markdown",
   "metadata": {
    "slideshow": {
     "slide_type": "slide"
    }
   },
   "source": [
    "Entra la información que podemos encontrar en este objeto `Match`, se incluye el texto\n",
    "que ha encontrado, la expresion regular usada y la localización, dentro del texto buscado, de\n",
    "esa coincidencia."
   ]
  },
  {
   "cell_type": "markdown",
   "metadata": {
    "slideshow": {
     "slide_type": "slide"
    }
   },
   "source": [
    "Veamos un ejemplo, usando como expresion regular `este`. Como en esta expresion solo hay caracteres\n",
    "normales, se interpreta como: \"Una `e`, seguida de una `s`, seguida de una `t`, seguida de una `e`:"
   ]
  },
  {
   "cell_type": "code",
   "execution_count": 87,
   "metadata": {
    "slideshow": {
     "slide_type": "slide"
    }
   },
   "outputs": [
    {
     "name": "stdout",
     "output_type": "stream",
     "text": [
      "Encontrado <este> entre las posiciones 9 y 13\n"
     ]
    }
   ],
   "source": [
    "import re\n",
    "\n",
    "pattern = re.compile(r'este')\n",
    "text = 'Contiene este texto el patrón?'\n",
    "match = pattern.search(text)\n",
    "if match:\n",
    "    print(\n",
    "        f\"Encontrado <{match.group(0)}>\"\n",
    "        f\" entre las posiciones {match.start()}\"\n",
    "        f\" y {match.end()}\"\n",
    "    )"
   ]
  },
  {
   "cell_type": "markdown",
   "metadata": {
    "slideshow": {
     "slide_type": "slide"
    }
   },
   "source": [
    "**Miniejercicio**: Modificar el código previo para que encuentr la palabra \"texto\""
   ]
  },
  {
   "cell_type": "markdown",
   "metadata": {
    "slideshow": {
     "slide_type": "slide"
    }
   },
   "source": [
    "En principio, nada que no pudieramos hacer usando el método `index` de las cadenas de texto. La potencia de las expresiones regulares viene de los caracteres especiales."
   ]
  },
  {
   "cell_type": "markdown",
   "metadata": {
    "slideshow": {
     "slide_type": "slide"
    }
   },
   "source": [
    "Algunos caracteres con significados especiales son:\n",
    "\n",
    "| Caracter | Casa con                                                        |\n",
    "|---------:|-----------------------------------------------------------------|\n",
    "| `.`      | Cualquier caracter                                              |\n",
    "| `^`      | El principio de una string                                      | \n",
    "| `$`      | El final de una string                                          |\n",
    "| `*`      | La expresión regular anterior, repetida 0 o más veces           |\n",
    "| `+`      | La expresión regular anterior, repetida 1 o más veces           |\n",
    "| `?`      | La expresión regular anterior, 0 o 1 vez                        |\n",
    "| `{n}`    | La expresión regular anterior, repetida n veces                 |\n",
    "| `{m,n}`  | La expresión regular anterior, repetida entre m y n veces       |\n",
    "| `\\`      | \"Escapa\" el significado del caracter a continuación             |\n",
    "| `|`      | Alernancia entre patrones: `A|B` casa con A o con B             |\n",
    "| `[...]`  | El conjunto de caracteres definido entre los corchetes          |"
   ]
  },
  {
   "cell_type": "markdown",
   "metadata": {},
   "source": [
    "Los veremos ahora con más detalle."
   ]
  },
  {
   "cell_type": "markdown",
   "metadata": {
    "slideshow": {
     "slide_type": "slide"
    }
   },
   "source": [
    "### El caracter especial punto `.` \n",
    "\n",
    "El punto es un caracter especial, por lo que tiene un significado diferente\n",
    "de \"debe ser un punto\". En una expresion regular, el carácter `.` significa\n",
    "\"cualquier caracter\", es decir, es un comodín, para caracteres. Pero atención, que \n",
    "solo _casa_ con un unico caracter. \n",
    "\n",
    "Por ejemplo, el patrón regular `est.` casaria con `este`, `esta`, `estx`, `est8`, `est@`, pero __no__ con `est`, porque espera un cuarto caracter, el que eea, pero no encuentra ninguno."
   ]
  },
  {
   "cell_type": "code",
   "execution_count": 89,
   "metadata": {
    "slideshow": {
     "slide_type": "slide"
    }
   },
   "outputs": [
    {
     "name": "stdout",
     "output_type": "stream",
     "text": [
      "Encontrado <texto> entre las posiciones 14 y 19\n"
     ]
    }
   ],
   "source": [
    "import re\n",
    "\n",
    "pattern = re.compile('te.to')\n",
    "text = 'Contiene este texto el patrón?'\n",
    "\n",
    "match = pattern.search(text)\n",
    "if match:\n",
    "    print(\n",
    "        f\"Encontrado <{match.group(0)}>\"\n",
    "        f\" entre las posiciones {match.start()}\"\n",
    "        f\" y {match.end()}\"\n",
    "    )"
   ]
  },
  {
   "cell_type": "markdown",
   "metadata": {
    "slideshow": {
     "slide_type": "slide"
    }
   },
   "source": [
    "**Miniejercicio**\n",
    "\n",
    "1) Cambiar la variable `text` del ejericio anterior por \"`Contiene este teZto el patrón?`\". Verificar que sigue encontrado el patrón.\n",
    "\n",
    "2) Cambiar la variable `text` por \"`Contiene este teZXto el patrón?`\". ¿Encuentra ahora el patrón? ¿Por qué?\n"
   ]
  },
  {
   "cell_type": "markdown",
   "metadata": {
    "slideshow": {
     "slide_type": "slide"
    }
   },
   "source": [
    "### El caracter especial Acento Circunflejo `^`\n",
    "\n",
    "El caracter especial `^` se interpreta como \"Al principio del texto\". Sirve para buscar textos que empiezan por la expresion regular que venga despues. \n",
    "\n",
    "Por ejemplo, el patrón regular \"`^Carthago`\" solo casaría con un texto que *empiece* con la palabra `Carthago`."
   ]
  },
  {
   "cell_type": "markdown",
   "metadata": {
    "slideshow": {
     "slide_type": "slide"
    }
   },
   "source": [
    "**Pregunta**: Tiene sentido que el caracter especial `^` se use en una expresión regular en otro sitio que no sea al principio? ¿Por qué?"
   ]
  },
  {
   "cell_type": "markdown",
   "metadata": {
    "slideshow": {
     "slide_type": "slide"
    }
   },
   "source": [
    "### El caracter especial Dolar `$`\n",
    "\n",
    "Ser'ia el inverso del anterior, este caracter especial se interpreta como \"Al final del texto\". Sirve para buscar textos que termina por la expresion regular que viene justo antes. \n",
    "\n",
    "Por ejemplo, el patrón regular \"`Delenda est$`\" solo casaría con un texto que __termine__ con las palabras `Delenda est`."
   ]
  },
  {
   "cell_type": "markdown",
   "metadata": {
    "slideshow": {
     "slide_type": "slide"
    }
   },
   "source": [
    "**Pregunta**: Tiene sentido que el caracter especial `$` se use en una expresión regular en otro sitio que no sea al final? ¿Por qué?"
   ]
  },
  {
   "cell_type": "markdown",
   "metadata": {
    "slideshow": {
     "slide_type": "slide"
    }
   },
   "source": [
    "### El caracter especial Asterisco `*`\n",
    "\n",
    "El caracter especial `*` debe interpretarse como \"El patron anterior, repetido 0 o más veces\". Por ejemplo, el\n",
    "patron `e*` casaria con la cadena vacia (Ninguna aparición del caracter `e`), con `e` (Una repetición del caracter 'e'), con `ee` (Dos repeticiones), `eee` (Tres repeticiones), etc."
   ]
  },
  {
   "cell_type": "markdown",
   "metadata": {
    "slideshow": {
     "slide_type": "slide"
    }
   },
   "source": [
    "Una combinacion muy habitual es el patrón `.*`. Esto se interpreta como \"Cero o más repeticiones de la expresion regular que esta justo antes, que en este caso es _cualquier caracter_\", o lo que es lo mismo, \"cualquier caracter, repetido 0 o más veces\". Aun más resumido: \"Todo\"."
   ]
  },
  {
   "cell_type": "code",
   "execution_count": 82,
   "metadata": {},
   "outputs": [
    {
     "data": {
      "text/plain": [
       "['<p>Hola mundo soy <b>pepe Garcia</b> tu amigo</p>']"
      ]
     },
     "execution_count": 82,
     "metadata": {},
     "output_type": "execute_result"
    }
   ],
   "source": [
    "p = re.compile(\"<.*>\")\n",
    "s = \"<p>Hola mundo soy <b>pepe Garcia</b> tu amigo</p>\"\n",
    "p.findall(s)\n",
    "\n"
   ]
  },
  {
   "cell_type": "markdown",
   "metadata": {
    "slideshow": {
     "slide_type": "slide"
    }
   },
   "source": [
    "Por ejemplo, la expresion regular \"`BEGIN .* END`\" sería: \"Todo lo que haya entre la palabra `BEGIN ` (en mayúsculas y con un espacio, ojo a eso) y \"` END`\". "
   ]
  },
  {
   "cell_type": "code",
   "execution_count": 91,
   "metadata": {
    "scrolled": true,
    "slideshow": {
     "slide_type": "slide"
    }
   },
   "outputs": [
    {
     "name": "stdout",
     "output_type": "stream",
     "text": [
      "Encontrado <BEGIN Cualquier cosa que pongamos aqui vale END> entre las posiciones 0 y 47\n"
     ]
    }
   ],
   "source": [
    "import re\n",
    "\n",
    "pattern = re.compile(r'BEGIN .* END')\n",
    "text = 'BEGIN Cualquier cosa que pongamos aqui vale END'\n",
    "\n",
    "match = pattern.search(text)\n",
    "if match:\n",
    "    print(\n",
    "        f\"Encontrado <{match.group(0)}>\"\n",
    "        f\" entre las posiciones {match.start()}\"\n",
    "        f\" y {match.end()}\"\n",
    "    )"
   ]
  },
  {
   "cell_type": "markdown",
   "metadata": {
    "slideshow": {
     "slide_type": "slide"
    }
   },
   "source": [
    "**Miniejercicio** Cambiar el texto entre BEGIN y END. Ver que cualquier cosa que ponemos vale"
   ]
  },
  {
   "cell_type": "markdown",
   "metadata": {},
   "source": [
    "COn este operador y con el siguiente se produce una ambigüedad, que veremos con\n",
    "un ejemplo. Supongamos que quiero todo el texto comprendido entre los caracteres `<` y ,`>`. La expresión regular sería `<.*>`, hasta aqui todo bien. Pero que pasa si buscamos ese patron en el siguiente texto:\n",
    "\n",
    "    Hola <empieza aqui pero termina en el primer > o en el último >\n",
    "    \n",
    "¿Debería devolver el fragmento de texto más pequeño:\n",
    "\n",
    "    `<empieza aqui pero termina en el primer >`\n",
    "    \n",
    "O el más grande?:\n",
    "\n",
    "    `<empieza aqui pero termina en el primer > o en el último >` \n",
    "    \n",
    "Despues de todo, ambos cumplen con lo expresado en la expresion regular: \"Un signo de menor que, luego lo que sea y al final un simbolo de mayor que\". Los informáticos odiamos la ambigüedad; en este caso se resuelve haciendo que por defecto, el buscador de la expresiñón regular intente darnos **la mayor cantidad posible de texto**. Esto se conoce como modo avaricioso o _Greedy_. Podemos indicar que queremos el comportamiento contrario, esto es, que nos de **la menos cantidad posible de texto** (o modo _non greedy_) añadiendo un caracter `?` despues del asterisco. Veamoslo en el siguiente ejemplo:"
   ]
  },
  {
   "cell_type": "code",
   "execution_count": 5,
   "metadata": {},
   "outputs": [
    {
     "name": "stdout",
     "output_type": "stream",
     "text": [
      "En modo greedy encontró: <empieza aqui pero termina en el primer > o en el último >\n",
      "En modo non-greedy encontró: <empieza aqui pero termina en el primer >\n"
     ]
    }
   ],
   "source": [
    "import re\n",
    "\n",
    "pat_greedy = re.compile(r'<.*>')\n",
    "pat_non_greedy = re.compile(r'<.*?>')\n",
    "\n",
    "text = 'Hola <empieza aqui pero termina en el primer > o en el último >'\n",
    "\n",
    "match = pat_greedy.search(text)\n",
    "if match:\n",
    "    print(f\"En modo greedy encontró: {match.group(0)}\")\n",
    "match = pat_non_greedy.search(text)\n",
    "if match:\n",
    "    print(f\"En modo non-greedy encontró: {match.group(0)}\")\n",
    "        "
   ]
  },
  {
   "cell_type": "markdown",
   "metadata": {
    "slideshow": {
     "slide_type": "slide"
    }
   },
   "source": [
    "### El caracter especial Suma o Más `+`\n",
    "\n",
    "Similar a `*`, el caracter especial `+` se interpreta como \"El patrón \n",
    "anterior, repetido **1** o más veces\". Por ejemplo, el\n",
    "patron `e+` **no** casaria con la cadena vacia (Ninguna aparición del caracter `e`, requerimos al menos una), pero si casaría con `e` (Una repetición de 'e'), con `ee` (Dos repeticiones), `eee` (Tres repeticiones), etc.\n",
    "\n",
    "Una combinacion muy habitual es el patrón `.+`. Esto se leeria como \"Una o mas repeticiones de la expresion regular que esta justo antes, que en este caso es _cualquier caracter_\", o lo que el lo mismo, \"cualquier caracter, repetido 1 o mas veces\". Aun más resumido: \"Todo, menos la cadena vacia\".\n",
    "\n",
    "De igual forma, por defecto se comporta en modo _greedy_ y se puede\n",
    "cambiar a _non greedy_ con el sufijo `?`."
   ]
  },
  {
   "cell_type": "markdown",
   "metadata": {
    "slideshow": {
     "slide_type": "slide"
    }
   },
   "source": [
    "### El caracter especial interrogación `?`\n",
    "\n",
    "El caracter especial `?` debe interpretarse como \"El patron anterior, **0** o **1** vez\". Por ejemplo, el patron `este?` casaria con la cadena `est` y con `este`. Otra forma de leerlo es \"opcionalmente, puede venir el patron anterior\"."
   ]
  },
  {
   "cell_type": "markdown",
   "metadata": {
    "slideshow": {
     "slide_type": "slide"
    }
   },
   "source": [
    "### Los caracteres especiales Corchetes `[` y `]`\n",
    "\n",
    "Estos caracteres se usan para definir un conjunto de caracteres, de forma que cualquiera de ellos\n",
    "se acepta como una ocurrencia. "
   ]
  },
  {
   "cell_type": "markdown",
   "metadata": {
    "slideshow": {
     "slide_type": "slide"
    }
   },
   "source": [
    "En un conjunto Los caracteres se pueden listar individualmente, como por\n",
    "ejemplo, `[abc]`, que casa con cualquiera de los caracteres `a`, `b` o `c`.\n",
    "\n",
    "Por ejemplo `[aeiuo]` es un patron que se interpretaria como\n",
    "\"cualquier vocal\". Otro uso muy frecuente sería `[0123456789]`, que se interpretarian como\n",
    "\"cualquier digito\"."
   ]
  },
  {
   "cell_type": "markdown",
   "metadata": {
    "slideshow": {
     "slide_type": "slide"
    }
   },
   "source": [
    "Se acepta tambien una forma abreviada que nos permite incluir un rango, usando el caracter `-`. Por ejemplo, el patrón anterior `[0123456789]` puede abreviarse como `[0-9]`. El patron `[0-9A-F]` casaria con\n",
    "cualquier digito y con las letras `A`, `B`, `C`, `D`, `E` y `F`. \n",
    "\n",
    "Los caracteres especiales pierden su significado\n",
    "dentro de los corchetes, por lo que no hace falta escaparlos."
   ]
  },
  {
   "cell_type": "markdown",
   "metadata": {
    "slideshow": {
     "slide_type": "slide"
    }
   },
   "source": [
    "Se puede definir el __complemento del conjunto__ incluyendo como primer\n",
    "caracter `^`. De esta forma, la expresión regular `[^59]` casa con\n",
    "cualquier caracter, excepto con los dígitos `5` y `9`."
   ]
  },
  {
   "cell_type": "markdown",
   "metadata": {
    "slideshow": {
     "slide_type": "slide"
    }
   },
   "source": [
    "### El caracter especial Barra Vertical o Tubería `|`\n",
    "\n",
    "Se usa en la forma `A|B`, donde A y B representan expresiones regulares, y se interpretan\n",
    "como una expresion regular que acepta cualquiera de las dos, es decir, que casará con cualquier texto que case con A o con B. Es muy habitual su uso con los grupos, que veremos más adelante.\n",
    "\n",
    "Se pueden encadenar, por ejemplo, el siguiente patron:\n",
    "\n",
    "    este|ese|aquel\n",
    "    \n",
    "casaria con cualquier de estas palabras."
   ]
  },
  {
   "cell_type": "code",
   "execution_count": null,
   "metadata": {},
   "outputs": [],
   "source": [
    "pat_psoe = re.compile('PSOE|Partido Socialista Obrero Español')"
   ]
  },
  {
   "cell_type": "markdown",
   "metadata": {
    "slideshow": {
     "slide_type": "slide"
    }
   },
   "source": [
    "### Los caracteres especiales Llaves `{` y `}`\n",
    "\n",
    "Estos caracteres nos permite definir el número de veces que se debe repetir la expresión regular precedente, o definir un rango de repeticiones válido."
   ]
  },
  {
   "cell_type": "markdown",
   "metadata": {
    "slideshow": {
     "slide_type": "slide"
    }
   },
   "source": [
    "Por ejemplo, `[0-9]{4}` se leeria \"Cualquier dígito, repetido 4 veces\", o esa que `3622` casa, pero ni `231` ni `56423` lo harían, porque le falta un dígito en el primer caso y sobra uno en el segundo.\n",
    "\n",
    "Si cambiaramos el patron a `[0-9]{3,4}` se leeria \"Cualquier dígito, repetido 3 o 4 veces\", o esa que `3622` casa, y `231` también (pero `75` no, le falta un digito)."
   ]
  },
  {
   "cell_type": "markdown",
   "metadata": {
    "slideshow": {
     "slide_type": "slide"
    }
   },
   "source": [
    "**Miniejercicio**: Modificar el patrón para que acepte 2, 3, o 4 dígitos. "
   ]
  },
  {
   "cell_type": "markdown",
   "metadata": {},
   "source": [
    "**Ejercicio**: Escribir el patron para encontrar posibles NIF: de 7 a 8 digitos seguidos de una letra muyuscula\n",
    "\n",
    "\n",
    "- \"43478329W\" Correcto\n",
    "- \"434783294W\"  Demasiados digitos\n",
    "- \"434783W\" Pocos digitos\n",
    "- \"43783294\"  Falta la letra\n",
    "- \"W33783294\"  Letra en lugar incorrecto\n",
    "\n"
   ]
  },
  {
   "cell_type": "markdown",
   "metadata": {
    "slideshow": {
     "slide_type": "slide"
    }
   },
   "source": [
    "### El caracter especial Barra Invertida `\\`\n",
    "\n",
    "El propósito de este caracter especial es doble: Si precede a otro caracter\n",
    "especial, entonces reconvierte a dicho caracter de especial a normal (Se dice que\n",
    "*escapa* el significado del caracter). Esto permite buscar caracteres como `*` o\n",
    "`?` de forma literal."
   ]
  },
  {
   "cell_type": "markdown",
   "metadata": {
    "slideshow": {
     "slide_type": "slide"
    }
   },
   "source": [
    "Por ejemplo, la expresión r\"`Doctor Who\\?`\" busca literalmente el texto `Doctor Who?`. Si no escapáramos la interrogación (Es decir, si se usara r\"`Doctor Who?`\"), se interpretaria como que la última `o` es opcional, y casaria, por ejemplo, con `Doctor Wh`, que no es lo que queremos."
   ]
  },
  {
   "cell_type": "markdown",
   "metadata": {
    "slideshow": {
     "slide_type": "slide"
    }
   },
   "source": [
    "El segundo uso es introducir una secuencia especial, que definiremos a continuación.\n",
    "\n",
    "**Importante**: Recordemos que Python también usa el caracter '\\' como su propia forma\n",
    "de escapar significados (por ejemplo `\\n` es la forma de representar un salto de línea). Asi\n",
    "que para incluir la barra invertida tendriamos que escribirla dos veces. Es por eso que\n",
    "siempre se recomiendo usar cadenas de texto \"_raw_\" (con una `r` antes de la primera comilla).\n",
    "\n",
    "**A recordar**: definir __siempre__ las expresiones regulares usando cadenas crudas (*raw*). Algunos verificadores de código o _linters_ incluso disparan una alerta si no se hace."
   ]
  },
  {
   "cell_type": "markdown",
   "metadata": {
    "slideshow": {
     "slide_type": "slide"
    }
   },
   "source": [
    "### Secuencias especiales\n",
    "\n",
    "Algunas de estas secuencias especiales accesible con `\\` son:\n",
    "\n",
    "- `\\b` coincide con una cadena vacia, pero solo al principio de una palabra\n",
    "\n",
    "- `\\B` coincide con una cadena vacia, pero solo si __no__ esta al principio de una palabra. Esto\n",
    "  significa qur r\"py\\B\" casará con \"python\", \"py3\", \"py2\", pero no con \"py\", \"py.\" o \"py!\". \n",
    "  `\\B` es el opuesto de `\\b`. Veremos esta pauta repetida en otras secuencias especiales.\n",
    "  "
   ]
  },
  {
   "cell_type": "markdown",
   "metadata": {
    "slideshow": {
     "slide_type": "slide"
    }
   },
   "source": [
    "  \n",
    "- `\\d`: casa con cualquier dígito. Equivalente a r\"[0-9]\"\n",
    "\n",
    "- `\\D`: casa con cualquier caracter que no sea un dígito. Equivale a r\"[^0-9]\""
   ]
  },
  {
   "cell_type": "markdown",
   "metadata": {
    "slideshow": {
     "slide_type": "slide"
    }
   },
   "source": [
    "  \n",
    "- `\\s`: Casa con espacios y equivalentes, como tabuladores, saltos de linea, etc.\n",
    "\n",
    "- `\\S`: Casa con cualquier cosa que no sean espacios. El opuesto de `\\s`"
   ]
  },
  {
   "cell_type": "markdown",
   "metadata": {
    "slideshow": {
     "slide_type": "slide"
    }
   },
   "source": [
    "- `\\w`: Caracteres que pueden ser partes de una palabra en cualquier lenguaje, asi\n",
    "  como los digitos del 0 al 9 y el caracter `_`. Equivale a r\"[a-zA-Z0-9_]\""
   ]
  },
  {
   "cell_type": "markdown",
   "metadata": {
    "slideshow": {
     "slide_type": "slide"
    }
   },
   "source": [
    "### Los caracteres especial Paréntesis `(` y `)` (Grupos)\n",
    "\n",
    "Sirven para indicar el principio y el fin de un grupo. No modifican la exptresion regular,\n",
    "en el sentido que esta sigue casando exactamente igual con parentesis o sin ellos, pero sirven para que podamos recuperar, despues de una coincidencia o *match*, los contenidos de estos grupos."
   ]
  },
  {
   "cell_type": "markdown",
   "metadata": {
    "slideshow": {
     "slide_type": "slide"
    }
   },
   "source": [
    "Por ejemplo, supongamos que queremos buscar por indicadores de tareas al estilo de Jira, que se forman\n",
    "con la estructura: Código de proyecto seguido de guión y seguido del numero de tarea. Algunos indicadores validos podrian ser \"ALPH-1244\" o \"BE-123\". Supongamos para simplificar que los codigos de proyecto son siempre\n",
    "letras mayúsculas, el patrón que detecta estos códigos podría ser:\n",
    "\n",
    "    [A-Z]+-\\d+\n",
    "    "
   ]
  },
  {
   "cell_type": "markdown",
   "metadata": {
    "slideshow": {
     "slide_type": "slide"
    }
   },
   "source": [
    "Comprobemos si funciona:"
   ]
  },
  {
   "cell_type": "code",
   "execution_count": 15,
   "metadata": {
    "slideshow": {
     "slide_type": "fragment"
    }
   },
   "outputs": [
    {
     "name": "stdout",
     "output_type": "stream",
     "text": [
      "Codigo ALPH-1244 es correcto\n",
      "Codigo BEMAC-123 es correcto\n",
      "Codigo MZGZ-1 es correcto\n",
      "Codigo COVID-12 es correcto\n"
     ]
    }
   ],
   "source": [
    "import re\n",
    "\n",
    "patron = re.compile(r\"[A-Z]+-\\d+\")\n",
    "for codigo in [\"ALPH-1244\", \"BEMAC-123\", \"MZGZ-1\", \"COVID-12\"]:\n",
    "    if patron.match(codigo):\n",
    "        print(f\"Codigo {codigo} es correcto\")"
   ]
  },
  {
   "cell_type": "markdown",
   "metadata": {
    "slideshow": {
     "slide_type": "slide"
    }
   },
   "source": [
    "Ahora, si quisieramos acceder al numero de tarea, la forma mas fácil\n",
    "es usar los parentesis para crear los grupos que nos interesan. \n",
    "\n",
    "Para ello, cambiamos el patron de:\n",
    "\n",
    "    [A-Z]+-\\d+\n",
    "    \n",
    "a:\n",
    "\n",
    "    [A-Z]+-(\\d+)\n"
   ]
  },
  {
   "cell_type": "markdown",
   "metadata": {
    "slideshow": {
     "slide_type": "slide"
    }
   },
   "source": [
    "Ahora, el patron se comporta exactamente igual que antes, pero los objetos *match* \n",
    "resultantes de una coincidencia permiten acceder a los grupos definidos con el método \n",
    "`group`, indicando el numero de orden de definición del grupo, siendo elg grupo 1 el primer\n",
    "grupo definido.\n",
    "\n",
    "Tambien se puede usar el grupo 0, y de hemos utilizado antes en los ejemplos. Este grupo cero esta definido siempre y consiste en la totalidad del texto que haya casado con el patrón. "
   ]
  },
  {
   "cell_type": "code",
   "execution_count": 22,
   "metadata": {
    "slideshow": {
     "slide_type": "slide"
    }
   },
   "outputs": [
    {
     "name": "stdout",
     "output_type": "stream",
     "text": [
      "ALPH-1244: Tarea número 1244 del proyecto ALPH\n",
      "BEMAC-123: Tarea número 123 del proyecto BEMAC\n",
      "MZGZ-1: Tarea número 1 del proyecto MZGZ\n",
      "COVID-12: Tarea número 12 del proyecto COVID\n"
     ]
    }
   ],
   "source": [
    "import re\n",
    "\n",
    "patron = re.compile(r\"([A-Z]+)-(\\d+)\")\n",
    "for codigo in [\"ALPH-1244\", \"BEMAC-123\", \"MZGZ-1\", \"COVID-12\"]:\n",
    "    m = patron.match(codigo)\n",
    "    if m:\n",
    "        proyecto, task_number = m.groups()\n",
    "        task_number = int(task_number)\n",
    "        print(f\"{m.group(0)}: Tarea número {task_number} del proyecto {proyecto}\")\n",
    "        "
   ]
  },
  {
   "cell_type": "markdown",
   "metadata": {
    "slideshow": {
     "slide_type": "slide"
    }
   },
   "source": [
    "**Miniejercicio**: modifica el código anterior para añadir otro grupo, esta\n",
    "vez para capturar el código del proyecto. Incluirlo en el listado."
   ]
  },
  {
   "cell_type": "markdown",
   "metadata": {},
   "source": [
    "### El método split\n",
    "\n",
    "Con este método podemos dividir una cadena de texto, usando una expresión\n",
    "regular para determinas los puntos de corte. Los separadores en si no se devuelven, pero podemos forzar a que se incluyan ssi loas agrupamos con paréntesis.\n",
    "\n",
    "El siguiente ejemplo muestra como podemos dividir un formato de fecha\n",
    "que utiliza como separador tanto la barra normal inclinada `/`, la barra invertida `\\`, la barra vertical `|` o el guión:\n"
   ]
  },
  {
   "cell_type": "code",
   "execution_count": 24,
   "metadata": {},
   "outputs": [
    {
     "name": "stdout",
     "output_type": "stream",
     "text": [
      "['2020', '10', '19']\n",
      "['2020', '10', '19']\n",
      "['2020', '10', '19']\n",
      "['2020', '10', '19']\n"
     ]
    }
   ],
   "source": [
    "import re\n",
    "\n",
    "pat_sep = re.compile(r\"[-\\\\|/]\")\n",
    "print(pat_sep.split(\"2020-10-19\"))\n",
    "print(pat_sep.split(\"2020/10/19\"))\n",
    "print(pat_sep.split(\"2020\\\\10\\\\19\"))\n",
    "print(pat_sep.split(\"2020|10|19\"))\n"
   ]
  },
  {
   "cell_type": "markdown",
   "metadata": {
    "slideshow": {
     "slide_type": "slide"
    }
   },
   "source": [
    "## Ejercicio: Expresiones regulares para encontrar matrículas de coche.\n",
    "\n",
    "Escribir una expresión regular para detectar matrículas de coches\n",
    "españolas.\n",
    "\n",
    "Según el siguiente texto, que describen en el sistema de matriculación\n",
    "vigente actualmente en España:\n",
    "\n",
    "> El 18 de septiembre del año 2000 entró en vigor el nuevo sistema de\n",
    "> matriculación en españa, introduciendo matrículas que constan de cuatro\n",
    "> dígitos y tres letras consonantes, suprimiéndose las cinco vocales y las\n",
    "> letras Ñ, Q, CH y LL. \\[...\\] Si el vehículo es histórico, y se ha\n",
    "> matriculado con una placa de nuevo formato, aparece primero una letra H\n",
    "> en la placa.\n",
    "\n",
    "El siguiente código lista las matrículas encontradas en el texto:"
   ]
  },
  {
   "cell_type": "code",
   "execution_count": 29,
   "metadata": {
    "slideshow": {
     "slide_type": "slide"
    }
   },
   "outputs": [
    {
     "name": "stdout",
     "output_type": "stream",
     "text": [
      "0765-BBC\n",
      "9866LPX\n"
     ]
    }
   ],
   "source": [
    "import re\n",
    "\n",
    "Texto = '''INSTRUIDO por accidente de circulación ocurrido a las 09:43\n",
    "entre la motocicleta HONDA 500, matrícula 0765-BBC  y la\n",
    "motocicleta HARLEY-DAVIDSON , matrícula 9866-LPX, en el punto\n",
    "kilométrico 3.5 de la carretera general del sur, término municipal de\n",
    "Arona, Tenerife, y bla, bla, bla...'''\n",
    "\n",
    "\n",
    "patron = re.compile(r\"H?\\d{4}-?[BCDFGHJKLMNPRSTVWXYZ]{3}\")\n",
    "for matricula in re.findall(patron, Texto):\n",
    "    print(matricula)\n"
   ]
  },
  {
   "cell_type": "markdown",
   "metadata": {
    "slideshow": {
     "slide_type": "slide"
    }
   },
   "source": [
    "**Solución** \n",
    "\n",
    "El patrón usado es el siguiente:\n",
    "\n",
    "    H?\\d{4}-?[BCDFGHJKLMNPRSTVWXYZ]{3}\n",
    "    \n",
    "Es verdad que visto así puede asustar un poco, pero solo es cosa de verlo por\n",
    "por partes:\n",
    "\n",
    "- `H?` : Una `H`. Pero como la sigue una interrogación, es opcional.\n",
    "    Recuerdese que `?` se interpreta como la expresión regular anterior\n",
    "    (en este caso la H), 0 o 1 vez.\n",
    "\n",
    "- `\\d{4}` : El conjunto de los caracteres del `0` al `9` (`[0-9]`), o\n",
    "    lo que es lo mismo, cualquier dígito, repetido 4 veces (`{4}`), es\n",
    "    decir, un número de cuatro dígitos.\n",
    "\n",
    "-  `-?` : Un guión, opcional, igual que la H para vehículos históricos\n",
    "    del principio\n",
    "\n",
    "-   `[BCDFGHJKLMNPRSTVWXYZ]`{3} : Cualquiera de los caracteres del\n",
    "    conjunto indicado (letras consonantes excepto la Ñ, Q, CH y LL)\n",
    "    repetido 3 veces.\n",
    "    "
   ]
  },
  {
   "cell_type": "markdown",
   "metadata": {
    "slideshow": {
     "slide_type": "slide"
    }
   },
   "source": [
    "Un trupo que podemos usar con las expresiones para que a la hora de escribirlas y leerlas\n",
    "sean más sencillas es usar un parametro opcional a la hora de compilar, con el que podemos indicarle que, en el texto que define la expresion regular, se ignoren los espacios (a no ser que se escapen) y los saltos de linea, y que incluso podemos comentar la expresion regular con el caracter `#`, todo lo que escribamos a partir de este caracter y hasta el final de la linea será ignorado y no formara parte del patrón. \n",
    "\n",
    "Así, usando la constante `re.VERBOSE` como segundo parámetro, podemos escribir la expresión regular del ejercicio anterior como:"
   ]
  },
  {
   "cell_type": "code",
   "execution_count": 30,
   "metadata": {
    "slideshow": {
     "slide_type": "slide"
    }
   },
   "outputs": [],
   "source": [
    "import re \n",
    "\n",
    "pat_matricula = re.compile(\"\"\"\n",
    "    H?  # La letra H, opcional, se reserva para vehículos históricos\n",
    "    \\d{4}  # Los cuatro dígitos de la matrícula\n",
    "    -?  # Un guión, opcional. Es decir, aceptamos 0765-BBC o 0765BBC\n",
    "    [BCDFGHJKLMNPRSTVWXYZ]{3}  # Las cuatro letras, del conjunto de posibles\n",
    "    \"\"\", re.VERBOSE)\n",
    "\n",
    "assert pat_matricula.match(\"0765-BBC\")\n",
    "assert pat_matricula.match(\"9866-LPX\")\n",
    "assert pat_matricula.match(\"probóscide\") is None\n"
   ]
  },
  {
   "cell_type": "markdown",
   "metadata": {},
   "source": [
    "### El método sub\n",
    "\n",
    "Muchas veces, de lo que se trata es de buscar una texto que siga un patron y reemplazarlo por otro texto. Los opjetos `Pattern` tienen un método para realizar estos cambios de forma sencilla y potente. Em método `sub` necesita al menos dos parámetros, el primero es aquello que queremos poner como sustitucion de lo encontrado por el patrón, y luego el texto sobre el que ejecutar la transformación. Devuelve el texto tranformado.\n",
    "\n",
    "Por ejemplo, el siguiente código reemplaza todas las vocales por asteriscos"
   ]
  },
  {
   "cell_type": "code",
   "execution_count": 35,
   "metadata": {},
   "outputs": [
    {
     "name": "stdout",
     "output_type": "stream",
     "text": [
      "_l l_m_r d_ c_l_ _n_ll_d_ (L_m_r c_tt_) _s _n gr_n pr_s_m__\n"
     ]
    }
   ],
   "source": [
    "import re\n",
    "\n",
    "pat = re.compile(r\"[aeiouáéíúóú]\", re.IGNORECASE)\n",
    "texto = \"El lémur de cola Anillada (Lemur catta) es un gran prosimio\"\n",
    "\n",
    "print(pat.sub(\"_\", texto))"
   ]
  },
  {
   "cell_type": "markdown",
   "metadata": {},
   "source": [
    "Con lo que es muy fácil cambiar un texto a modo burleta:"
   ]
  },
  {
   "cell_type": "code",
   "execution_count": 43,
   "metadata": {},
   "outputs": [
    {
     "name": "stdout",
     "output_type": "stream",
     "text": [
      "Ta hu decho mol vaces qua nu mu remudos\n"
     ]
    }
   ],
   "source": [
    "import re\n",
    "import random\n",
    "\n",
    "pat = re.compile(r\"[aeiou]\")\n",
    "texto = \"Te he dicho mil veces que no me remedes\"\n",
    "\n",
    "def upper(match):\n",
    "    return random.choice('aeiou')\n",
    "\n",
    "print(pat.sub(upper, texto))"
   ]
  },
  {
   "cell_type": "markdown",
   "metadata": {},
   "source": [
    "Si el primer parámetro es un texto, se substituye sin más. Pero podemos\n",
    "hacer cambios aun más potentes, si en vez de pasar un texto, pasamos una función.\n",
    "Esa función debera aceptar un parámetro, que será el objeto _Match_ o\n",
    "coincidencia encotrada, y en base a el hacer el cambio oportuno.\n",
    "\n",
    "Por ejemplo, el  siguiente ejemplo busca números en coma flotante y\n",
    "los reemplaza por la fracción equivalente, usando la clase `Fraction` que vimos\n",
    "del módulo `fractions`:"
   ]
  },
  {
   "cell_type": "code",
   "execution_count": 46,
   "metadata": {},
   "outputs": [
    {
     "data": {
      "text/plain": [
       "Fraction(1, 4)"
      ]
     },
     "execution_count": 46,
     "metadata": {},
     "output_type": "execute_result"
    }
   ],
   "source": [
    "from fractions import Fraction\n",
    "\n",
    "Fraction(0.25)"
   ]
  },
  {
   "cell_type": "code",
   "execution_count": 53,
   "metadata": {},
   "outputs": [
    {
     "name": "stdout",
     "output_type": "stream",
     "text": [
      "La suma de 1/4 y 1/4 da como resultado 1/2\n"
     ]
    }
   ],
   "source": [
    "import re\n",
    "from fractions import Fraction\n",
    "\n",
    "pat_decimal = re.compile('\\d+\\.\\d+')\n",
    "\n",
    "def as_fracciones(match):\n",
    "    num = float(match.group(0))\n",
    "    f = Fraction(num)\n",
    "    if f.denominator == 1:\n",
    "        return str(f.numerator)\n",
    "    else:\n",
    "        return f\"{f.numerator}/{f.denominator}\"\n",
    "\n",
    "text = f\"La suma de 0.25 y 0.25 da como resultado {0.25+0.25}\"\n",
    "print(pat_decimal.sub(as_fracciones, text))"
   ]
  },
  {
   "cell_type": "markdown",
   "metadata": {},
   "source": [
    "Podemos, por tanto, realizar cambios dinámicos, basándonos en los textos encontrado o en cualquier otro dato. En el siguiente ejemplo, más complejo, se estraen y numeran las notas que encuentre un texto, suponiendo que todas las notas siguen el format `NOTA: <lo que sea>.`:"
   ]
  },
  {
   "cell_type": "code",
   "execution_count": 54,
   "metadata": {},
   "outputs": [
    {
     "name": "stdout",
     "output_type": "stream",
     "text": [
      "\n",
      "Indiana es uno de los cincuenta estados de los Estados Unidos (Véase Nota #1). Su capital es \n",
      "Indianápolis (Véase Nota #2). Limita al norte con el lago \n",
      "y el estado de Míchigan, al sur con Kentucky, al este con Ohio y\n",
      "con Illinois por el oeste (Véase Nota #3). La \n",
      "palabra Indiana significa «tierras de los indios».\n",
      "\n",
      "- Nota 1: Localizado en la región del medio oeste (midwest) del país\n",
      "- Nota 2: Su población es de 829 718 hab\n",
      "- Nota 3: Cubierta en su mayor parte por llanuras\n"
     ]
    }
   ],
   "source": [
    "import re\n",
    "\n",
    "pat_nota = re.compile('NOTA: (.+?)\\.', re.DOTALL|re.MULTILINE)\n",
    "\n",
    "counter = 0\n",
    "notas = []\n",
    "def numera_notas(match):\n",
    "    global counter, notas\n",
    "    counter += 1\n",
    "    texto_nota = match.group(1).replace('\\n', ' ').capitalize()\n",
    "    notas.append(texto_nota)\n",
    "    return f\"(Véase Nota #{counter}).\"\n",
    "\n",
    "text = \"\"\"\n",
    "Indiana es uno de los cincuenta estados de los Estados Unidos NOTA: localizado\n",
    "en la región del Medio Oeste (Midwest) del país. Su capital es \n",
    "Indianápolis NOTA: su población es de 829 718 hab. Limita al norte con el lago \n",
    "y el estado de Míchigan, al sur con Kentucky, al este con Ohio y\n",
    "con Illinois por el oeste NOTA: cubierta en su mayor parte por llanuras. La \n",
    "palabra Indiana significa «tierras de los indios».\n",
    "\"\"\"\n",
    "print(pat_nota.sub(numera_notas, text))\n",
    "for num, nota in enumerate(notas, start=1):\n",
    "    print(f\"- Nota {num}: {nota}\")"
   ]
  },
  {
   "cell_type": "markdown",
   "metadata": {},
   "source": [
    "**Ejercicio**: Buscar en la [documentación oficial de Python del módulo `re`](https://docs.python.org/es/3/library/re.html#re.MULTILINE) el significado \n",
    "de las opciones `DOTALL` y `MULTILINE`."
   ]
  },
  {
   "cell_type": "markdown",
   "metadata": {},
   "source": [
    "**Pregunta**  ¿Qué hace el siguiente programa?"
   ]
  },
  {
   "cell_type": "code",
   "execution_count": 56,
   "metadata": {},
   "outputs": [
    {
     "name": "stdout",
     "output_type": "stream",
     "text": [
      "arrow.ipynb\n",
      "arrow-checkpoint.ipynb\n",
      "compression.ipynb\n",
      "argparse.ipynb\n",
      "argparse-checkpoint.ipynb\n",
      "base64-checkpoint.ipynb\n",
      "argparse-checkpoint.ipynb\n",
      "collections-checkpoint.ipynb\n",
      "compression-checkpoint.ipynb\n",
      "csv-checkpoint.ipynb\n",
      "collections.ipynb\n",
      "collections-checkpoint.ipynb\n",
      "base64.ipynb\n",
      "base64-checkpoint.ipynb\n",
      "csv.ipynb\n",
      "csv-checkpoint.ipynb\n"
     ]
    }
   ],
   "source": [
    "import os\n",
    "import re\n",
    "\n",
    "pat_notebook = re.compile(\"^[abc].*\\.ipynb$\")\n",
    "for (dir_path, directories, files) in os.walk(\"../..\"):\n",
    "    for fn in files:\n",
    "        if pat_notebook.search(fn):\n",
    "            print(fn)\n",
    "    "
   ]
  },
  {
   "cell_type": "markdown",
   "metadata": {},
   "source": [
    "Hay más cosas que podemos hacer con el módulo `re`, consulta la [documentación oficial sobre el módulo re](https://docs.python.org/es/3/library/re.html)."
   ]
  },
  {
   "cell_type": "code",
   "execution_count": null,
   "metadata": {},
   "outputs": [],
   "source": []
  }
 ],
 "metadata": {
  "celltoolbar": "Slideshow",
  "kernelspec": {
   "display_name": "Python 3",
   "language": "python",
   "name": "python3"
  },
  "language_info": {
   "codemirror_mode": {
    "name": "ipython",
    "version": 3
   },
   "file_extension": ".py",
   "mimetype": "text/x-python",
   "name": "python",
   "nbconvert_exporter": "python",
   "pygments_lexer": "ipython3",
   "version": "3.8.5"
  }
 },
 "nbformat": 4,
 "nbformat_minor": 4
}
