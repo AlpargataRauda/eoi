{
 "cells": [
  {
   "cell_type": "markdown",
   "metadata": {
    "slideshow": {
     "slide_type": "slide"
    }
   },
   "source": [
    "El módulo base64\n",
    "================\n",
    "\n",
    "El proposito de este módulo es proporcionar un sistema que permita\n",
    "codificar y decodificar información binaria usando __solo caracteres ASCII\n",
    "imprimibles__."
   ]
  },
  {
   "cell_type": "markdown",
   "metadata": {
    "slideshow": {
     "slide_type": "slide"
    }
   },
   "source": [
    "De esta forma se pueden trasmitir contenidos binarios a\n",
    "traves de sistemas que solo permitan texto, como sistemas\n",
    "de correo electronico, ser parte de los contenidos de una URL dentro de\n",
    "una peticion POST en la web, e incluso impresos en papel."
   ]
  },
  {
   "cell_type": "markdown",
   "metadata": {
    "slideshow": {
     "slide_type": "slide"
    }
   },
   "source": [
    "Se incluyen diversos sistemas, todos ellos definidos en el [RFC\n",
    "3548](https://tools.ietf.org/html/rfc3548.html), conocidos como\n",
    "**Base16**, **Base32** y **Base64** (Este último es de largo el más\n",
    "utilizado por ser el más eficiente).\n",
    "\n",
    "También se implementan en esta\n",
    "librería los estándares de facto **Ascii85** y **Base85**, más raramente\n",
    "usados."
   ]
  },
  {
   "cell_type": "markdown",
   "metadata": {
    "slideshow": {
     "slide_type": "slide"
    }
   },
   "source": [
    "Codificar/Decodificar en base64\n",
    "-------------------------------\n",
    "\n",
    "En base64 se usan un subconjunto de ASCII de 65 caracteres, todos ellos\n",
    "imprimibles. Para la codificación se usan 64 de los caracteres,\n",
    "mientras que el caracter extra, `=`, se usa para un proposito especial\n",
    "que veremos más adelante."
   ]
  },
  {
   "cell_type": "markdown",
   "metadata": {
    "slideshow": {
     "slide_type": "slide"
    }
   },
   "source": [
    "Tabla de codificación para base64\n",
    "\n",
    "|     | $+0$  | $+8$  | $+16$ | $+24$ | $+32$ | $+40$ | $+48$ | $+56$ | \n",
    "|-----|:-----:|:-----:|:-----:|:-----:|:-----:|:-----:|:-----:|:-----:|\n",
    "| $0$ | A     | I     | Q     | Y     | g     | o     | w     | 4     |\n",
    "| $1$ | B     | J     | R     | Z     | h     | p     | x     | 5     |\n",
    "| $2$ | C     | K     | S     | a     | i     | q     | y     | 6     |\n",
    "| $3$ | D     | L     | T     | b     | j     | r     | z     | 7     |\n",
    "| $4$ | E     | M     | U     | c     | k     | s     | 0     | 8     |\n",
    "| $5$ | F     | N     | V     | d     | l     | t     | 1     | 9     |\n",
    "| $6$ | G     | O     | W     | e     | m     | u     | 2     | +     |\n",
    "| $7$ | H     | P     | X     | f     | n     | v     | 3     | /     |"
   ]
  },
  {
   "cell_type": "markdown",
   "metadata": {
    "slideshow": {
     "slide_type": "slide"
    }
   },
   "source": [
    "Cada uno de estos 64 símbolos nos permite ahora representar 6 bits ($2^6 = 64$ ). En este esquema `A`\n",
    "vale `0` y `p`, `41`."
   ]
  },
  {
   "cell_type": "markdown",
   "metadata": {
    "slideshow": {
     "slide_type": "slide"
    }
   },
   "source": [
    "__Pregunta__: ¿Cuánto vale en este esquema la __zeta minúscula__? ¿Y la __U mayúscula__?"
   ]
  },
  {
   "cell_type": "markdown",
   "metadata": {
    "slideshow": {
     "slide_type": "slide"
    }
   },
   "source": [
    "Si usamos dos símbolos, tenemos 12 bits ($2^{6+6} = 2^{12} = 4096)$. Al\n",
    "añadir un tercer símbolo, tenemos 16 bits. Un cuarto símbolo nos pone en 24 bits. Y 24 bits son \n",
    "exactamente 3 bytes.\n",
    "\n",
    "Para codificar en base 64, podemos usar 4 caracteres de nuestros alfabeto para representar 3 bytes."
   ]
  },
  {
   "cell_type": "markdown",
   "metadata": {
    "slideshow": {
     "slide_type": "slide"
    }
   },
   "source": [
    "Veamos un ejemplo, supongamos que desea codificar tres bytes, `42`, `231` y `92`. Si\n",
    "pasamos estos valores a binario:\n",
    "\n",
    "| Decimal |    | Binario    |\n",
    "|---------|:--:|------------|\n",
    "| `42`    | ≋  | `00101010` | \n",
    "| `231`   | ≋  | `11100111` |\n",
    "| `92`    | ≋  | `01011100` |"
   ]
  },
  {
   "cell_type": "markdown",
   "metadata": {
    "slideshow": {
     "slide_type": "slide"
    }
   },
   "source": [
    "concatenamos los tres secuencias de bits nos da:\n",
    "    \n",
    "> `001010101110011101011100`"
   ]
  },
  {
   "cell_type": "markdown",
   "metadata": {
    "slideshow": {
     "slide_type": "slide"
    }
   },
   "source": [
    "Estos 24 bits pueden ser agrupados ahora en grupos de 6 bits\n",
    "\n",
    "> `001010` | `101110` | `011101` | `011100`"
   ]
  },
  {
   "cell_type": "markdown",
   "metadata": {
    "slideshow": {
     "slide_type": "slide"
    }
   },
   "source": [
    "Cada uno de estos grupos de 6 bits puede ser codificado ahora con un\n",
    "símbolo de nuestro vocabulario:\n",
    "    \n",
    "- `001010` ≋ `10` ≋ `K`\n",
    "- `101110` ≋ `46` ≋ `u`\n",
    "- `011101` ≋ `29` ≋ `d`\n",
    "- `011100` ≋ `28` ≋ `c`\n"
   ]
  },
  {
   "cell_type": "markdown",
   "metadata": {
    "slideshow": {
     "slide_type": "slide"
    }
   },
   "source": [
    "Así que la representación en base64 de los bytes `42`, `231` y `92` sería __`Kudc`__."
   ]
  },
  {
   "cell_type": "markdown",
   "metadata": {
    "slideshow": {
     "slide_type": "slide"
    }
   },
   "source": [
    "### Ejercicio\n",
    "\n",
    "Calcular la \"sobrecarga\" que pagamos por\n",
    "tener nuestro contenido binario en forma imprimible."
   ]
  },
  {
   "cell_type": "markdown",
   "metadata": {
    "slideshow": {
     "slide_type": "slide"
    }
   },
   "source": [
    "- Pista: Cada\n",
    "3 bytes de información necesitan 4 símbolos, que al final van a necesitar un byte cada uno."
   ]
  },
  {
   "cell_type": "markdown",
   "metadata": {
    "slideshow": {
     "slide_type": "fragment"
    }
   },
   "source": [
    "- Pista2: Por tanto si 3 bytes se codifican con 4 bytes, entonces 100 bytes\n",
    "se codifican con $100 \\cdot 4 / 3 = 133.33\\overline{3}...$. La sobrecarga\n",
    "sera, por tanto de ..."
   ]
  },
  {
   "cell_type": "markdown",
   "metadata": {
    "slideshow": {
     "slide_type": "slide"
    }
   },
   "source": [
    "Solución: La sobrecarga será aproximadamente de un 33.33%. Es decir, que si un fichero binario ocupa\n",
    "__8 Mbytes__, el fichero en base64 ocupará unos __10.6 Mbytes__."
   ]
  },
  {
   "cell_type": "markdown",
   "metadata": {
    "slideshow": {
     "slide_type": "slide"
    }
   },
   "source": [
    "¿Qué pasa si el número de bytes a codificar no es un múltiplo exacto\n",
    "de tres?\n",
    "\n",
    "Para eso se añaden bits a cero hasta llegar al siguiente\n",
    "múltiplo de 3, y luego se usa el caracter especial `=`, (que al principio\n",
    "comentamos que tenía un significado especial) al final de la cadena\n",
    "como caracter de \"relleno\"."
   ]
  },
  {
   "cell_type": "markdown",
   "metadata": {
    "slideshow": {
     "slide_type": "slide"
    }
   },
   "source": [
    "De esa forma siempre se tienen grupos de \n",
    "4 caracteres, que decodifican a 3 bytes, y usando el número de caracteres\n",
    "`=` al final se puede descartar los bytes de relleno. Siempre serán uno o \n",
    "dos bytes los que se van a descartar. ¿Por qué?"
   ]
  },
  {
   "cell_type": "markdown",
   "metadata": {
    "slideshow": {
     "slide_type": "slide"
    }
   },
   "source": [
    "## Funciones de base64\n",
    "\n",
    "Hay dos interfaces disponibles. La interfaz moderna permite codificar\n",
    "variables que ya están en formato de bytes. Esto es:\n",
    "\n",
    "-   Objetos de tipo `byte`\n",
    "-   Objetos de tipo `bytearray`\n",
    "-   Objetos de tipo `array.array`\n",
    "-   Objetos de tipo `memoryview`\n",
    "-   Cualquier objeto que soporte el [protocolo Buffer]{.title-ref} y que\n",
    "    pueda exportar un buffer de bytes tipo `C`."
   ]
  },
  {
   "cell_type": "markdown",
   "metadata": {
    "slideshow": {
     "slide_type": "slide"
    }
   },
   "source": [
    "La interfaz antigua solo permitia codificar\n",
    "ficheros y solo soportaba el protocolo Base64. En esta introducción solo\n",
    "veremos la interfaz moderna."
   ]
  },
  {
   "cell_type": "markdown",
   "metadata": {
    "slideshow": {
     "slide_type": "slide"
    }
   },
   "source": [
    "Las dos funciones más importantes de este módulo son **b64encode** y\n",
    "**b64decode**. Vamos a verlas con un poco más de detalle:"
   ]
  },
  {
   "cell_type": "markdown",
   "metadata": {
    "slideshow": {
     "slide_type": "slide"
    }
   },
   "source": [
    "### base64.b64encode\n",
    "\n",
    "__`b64encode(s, altchars=None)`__: Esta función nos permite codificar en\n",
    "base 64 cualquier contenido binario que le pasemos como primer\n",
    "argumento. Devuelve una cadena de *bytes* ASCII, imprimible.\n",
    "\n",
    "Acepta un parámetro opcional que nos permite alterar parte de la\n",
    "tabla de codificación, de forma que no se usen ni el caracter `+` ni\n",
    "el caracter `/` en la salida (en vez de eso, se usan `-` y `_`)."
   ]
  },
  {
   "cell_type": "markdown",
   "metadata": {
    "slideshow": {
     "slide_type": "slide"
    }
   },
   "source": [
    "    \n",
    "La razón de este cambio es poder incluir cadenas codificadas dentro de\n",
    "una __URL__, donde tanto el caracter `+` como el `/` tienen un\n",
    "significado propio, o evitar conflictos con el sistema de ficheros,\n",
    "donde `/` también tiene un significado propio.\n",
    "\n",
    "Esta codificación\n",
    "(Que, técnicamante, no es base64 *puro*) se denomina Codificacion\n",
    "Base64 usando alfabeto seguro para URL y sistemas de ficheros (*Base\n",
    "64 Encoding with URL and Filename Safe Alphabet*)"
   ]
  },
  {
   "cell_type": "markdown",
   "metadata": {
    "slideshow": {
     "slide_type": "slide"
    }
   },
   "source": [
    "#### Ejercicio: Usar base64.b64endoce\n",
    "\n",
    "Codificar la cadena de bytes \"`Hola, mundo!`\""
   ]
  },
  {
   "cell_type": "code",
   "execution_count": 10,
   "metadata": {
    "scrolled": true,
    "slideshow": {
     "slide_type": "slide"
    }
   },
   "outputs": [
    {
     "name": "stdout",
     "output_type": "stream",
     "text": [
      "b'SG9sYSwgbXVuZG8h'\n"
     ]
    }
   ],
   "source": [
    "import base64\n",
    "\n",
    "texto = b\"Hola, mundo!\"\n",
    "print(base64.b64encode(texto))\n"
   ]
  },
  {
   "cell_type": "markdown",
   "metadata": {
    "slideshow": {
     "slide_type": "slide"
    }
   },
   "source": [
    "### base64.b64decode\n",
    "\n",
    "__`b64decode(s, altchars=None, validate=False)`__: Esta función es la\n",
    "inversa de la anterior, es decir, acepta una cadena de bytes\n",
    "codificadad en base64 y nos devuelte el objeto binario inicial.\n",
    "\n",
    "El segundo parámetro es identico al de b64encode, permite usar la\n",
    "codificacion alternativa para URLs y sistemas de ficheros."
   ]
  },
  {
   "cell_type": "markdown",
   "metadata": {
    "slideshow": {
     "slide_type": "slide"
    }
   },
   "source": [
    "Si la codificación tuviera el error de no estar bien alineada (es decir,\n",
    "que la longitud del texto no sea múltiplo de 4, como explicamos antes)\n",
    "la función eleva la excepción `binascii.Error`."
   ]
  },
  {
   "cell_type": "markdown",
   "metadata": {
    "slideshow": {
     "slide_type": "slide"
    }
   },
   "source": [
    "Por ultimo, el tercer parámetro, `validate`, por defecto puesto a\n",
    "`False`, comprueba si los caracteres usados corresponden con la\n",
    "tabla de valores permitidos por base64. Con el valor `False`\n",
    "asignado por defecto, cualquiera de esos valores es simplemente\n",
    "descartado. Sin embargo, si se establece a `True`, la aparicion de\n",
    "cualquier caracter no permitido daría lugar a una excepción\n",
    "`binascii.Error`."
   ]
  },
  {
   "cell_type": "markdown",
   "metadata": {
    "slideshow": {
     "slide_type": "slide"
    }
   },
   "source": [
    "#### Ejercicio: Usar b64decode para comprobar el ejemplo de codificación.\n",
    "\n",
    "Al principio vimos un ejemplo donde codificamos los bytes `42`, `231` y `92` para obtener la secuencia `Kudc`. Usa la función `b64decode` para comprobar que\n",
    "nuestro cálculos eran correctos."
   ]
  },
  {
   "cell_type": "code",
   "execution_count": 18,
   "metadata": {
    "slideshow": {
     "slide_type": "slide"
    }
   },
   "outputs": [
    {
     "data": {
      "text/plain": [
       "92"
      ]
     },
     "execution_count": 18,
     "metadata": {},
     "output_type": "execute_result"
    }
   ],
   "source": [
    "import base64\n",
    "\n",
    "c = base64.b64decode(b'Kudc')\n",
    "##for b in base64.b64decode(b'Kudc'):\n",
    "##    print(b)\n",
    "c[2]"
   ]
  },
  {
   "cell_type": "markdown",
   "metadata": {
    "slideshow": {
     "slide_type": "slide"
    }
   },
   "source": [
    "#### Ejercicio: Decodificar, usando el protocolo base64 puro, el siguiente\n",
    "texto:\n",
    "\n",
    "    QklFTiBIRUNITywgTUFRVUlOQSE="
   ]
  },
  {
   "cell_type": "code",
   "execution_count": 12,
   "metadata": {
    "slideshow": {
     "slide_type": "notes"
    }
   },
   "outputs": [
    {
     "name": "stdout",
     "output_type": "stream",
     "text": [
      "b'BIEN HECHO, MAQUINA!'\n"
     ]
    }
   ],
   "source": [
    "import base64\n",
    "print(base64.b64decode(b\"QklFTiBIRUNITywgTUFRVUlOQSE=\"))"
   ]
  },
  {
   "cell_type": "markdown",
   "metadata": {
    "slideshow": {
     "slide_type": "slide"
    }
   },
   "source": [
    "Notas: Obsérvese que al hablar de codificar o decodificar podría\n",
    "interpretarse que estamos ante algún tipo de sistema de cifrado, pero\n",
    "**no** es este el caso.\n",
    "\n",
    "Cualquier contenido codificado con base64 o\n",
    "cualquiera de los otros algoritmos implementados en este módulo no\n",
    "necesita ninguna clave para obtener los contenidos originales."
   ]
  },
  {
   "cell_type": "markdown",
   "metadata": {
    "slideshow": {
     "slide_type": "slide"
    }
   },
   "source": [
    "En suma,\n",
    "es solo otra forma de codificar una información, y __de ningnna manera una\n",
    "forma de cifrarla o encriptarla__. Todo contenido codificado en base64 (o\n",
    "sus primos) es, a todos los efectos, pública."
   ]
  },
  {
   "cell_type": "markdown",
   "metadata": {
    "slideshow": {
     "slide_type": "slide"
    }
   },
   "source": [
    "Otras funciones útiles en este múdulo son las siguientes:\n",
    "\n",
    "- `standard_b64encode(s)`: Utiliza la codificación original. Es equivalente a llamar\n",
    "  a `base64.b64encode` especificando altchars=None, pero deja más patente la\n",
    "  intención del programador.\n",
    "\n",
    "- `base64.standard_b64decode(s)`: Igual que el anterior, pero para la decodificación. De igual\n",
    "  manera usar este formula deja más clara la intención asi como el protocolo usudo."
   ]
  },
  {
   "cell_type": "markdown",
   "metadata": {
    "slideshow": {
     "slide_type": "slide"
    }
   },
   "source": [
    "- `base64.urlsafe_b64encode(s)`: Utiliza la codificación *safe for URL and filenames*. Es\n",
    "  equivalente a llamar a `base64.b64encode` especificando altchars=\"-_\", pero deja más\n",
    "  patente la intención del programador.\n",
    "\n",
    "- `base64.urlsafe_b64decode(s)`: Equivalente a la anterior, pero para decodificar."
   ]
  },
  {
   "cell_type": "markdown",
   "metadata": {
    "slideshow": {
     "slide_type": "slide"
    }
   },
   "source": [
    "#### Miniproyecto: Incluir una imagen codificada con base64 en este notebook"
   ]
  },
  {
   "cell_type": "markdown",
   "metadata": {
    "slideshow": {
     "slide_type": "slide"
    }
   },
   "source": [
    "En HTML, la forma normal de incluir una imagen es user al atributo `src`\n",
    "para indicar la URL de una imagen que queremos incluir en nuestra página\n",
    "web. Por ejemplo, podemos usar la utilidad `HTML` de jupyter para que la\n",
    "salida de la ejecución de una celda sea interpretado como Html.\n",
    "\n",
    "Veamos un ejemplo:"
   ]
  },
  {
   "cell_type": "code",
   "execution_count": 13,
   "metadata": {
    "slideshow": {
     "slide_type": "slide"
    }
   },
   "outputs": [
    {
     "data": {
      "text/html": [
       "<p><img src=\"./img/bulb.png\"></p>"
      ],
      "text/plain": [
       "<IPython.core.display.HTML object>"
      ]
     },
     "execution_count": 13,
     "metadata": {},
     "output_type": "execute_result"
    }
   ],
   "source": [
    "from IPython.core.display import HTML\n",
    "\n",
    "HTML(f'<p><img src=\"./img/bulb.png\"></p>')"
   ]
  },
  {
   "cell_type": "markdown",
   "metadata": {
    "slideshow": {
     "slide_type": "slide"
    }
   },
   "source": [
    "Pero existe otra forma, no tan conocida de incluir una imagen *embebida*\n",
    "dentro del documento, es decir, que está dentro del documento y no necesita\n",
    "acceder a un recurso externo. Para eso se usa, como atributo `src`, en vez\n",
    "de una url, el contenido usando la siguiente expresión:\n",
    "\n",
    "    data:<tipo mime describiendo el formato>;<codificacion>, <datos>\n",
    "    "
   ]
  },
  {
   "cell_type": "markdown",
   "metadata": {
    "slideshow": {
     "slide_type": "slide"
    }
   },
   "source": [
    "Como los datos son binarios, hay que indicar que tipo de fichero es (No puedes\n",
    "basarte en la extensión del fichero, `.gif`, `.png`, etc. porque no hay fichero), así\n",
    "como la codificación usada (base64 no es la única codificación posible).\n",
    "    \n",
    "Por ejemplo, para codificar un fichero en formato png, codificado en\n",
    "base 64, usariamos:\n",
    "\n",
    "    data:image/png;base64, GDAdx4...\n",
    "    "
   ]
  },
  {
   "cell_type": "markdown",
   "metadata": {
    "slideshow": {
     "slide_type": "slide"
    }
   },
   "source": [
    "Dentro del fichero `./img/imagen.b64.txt` hay una imagen en formato\n",
    "[webp](https://es.wikipedia.org/wiki/WebP) (El tipo MIME es `image/webp`)\n",
    "codificado en base64. Dentro del archivo solo hay\n",
    "caracteres imprimibles (Compruébalo si quieres).\n",
    "\n",
    "Usando `IPython.core.display.HTML`, escribir un *tag* o etigueta `img`\n",
    "que incluya la imagen codificada. Recuerda que hay que usar un\n",
    "formato especial en el atributo `src` para que lo reconozca como\n",
    "datos embebidos; para este caso:\n",
    "\n",
    "    data:image/webp;base64, <aqui va el contenido del archivo>"
   ]
  },
  {
   "cell_type": "code",
   "execution_count": 26,
   "metadata": {
    "slideshow": {
     "slide_type": "slide"
    }
   },
   "outputs": [
    {
     "data": {
      "text/html": [
       "<img src=\"data:image/webp;base64, b'UklGRsBwAQBXRUJQVlA4WAoAAAASAAAA3wEAXAEAQU5JTQYAAAD/////AABBTk1GBB4AAA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\\n3TMHML8HgGQPwAAAAA==\\n'\">"
      ],
      "text/plain": [
       "<IPython.core.display.HTML object>"
      ]
     },
     "execution_count": 26,
     "metadata": {},
     "output_type": "execute_result"
    }
   ],
   "source": [
    "from IPython.core.display import HTML\n",
    "import base64\n",
    "\n",
    "with open('img/imagen.b64.txt', 'rb') as f:\n",
    "    data = f.read()\n",
    "    with open(\"totoro.webp\", \"wb\") as salida:\n",
    "        salida.write(base64.b64decode(data))\n",
    "        \n",
    "\n",
    "\n",
    "HTML(f'<img src=\"data:image/webp;base64, {data}\">')\n"
   ]
  },
  {
   "cell_type": "code",
   "execution_count": 27,
   "metadata": {},
   "outputs": [
    {
     "name": "stdout",
     "output_type": "stream",
     "text": [
      "totoro.webp\r\n"
     ]
    }
   ],
   "source": [
    "!ls *.webp\n"
   ]
  },
  {
   "cell_type": "code",
   "execution_count": null,
   "metadata": {},
   "outputs": [],
   "source": []
  }
 ],
 "metadata": {
  "celltoolbar": "Slideshow",
  "kernelspec": {
   "display_name": "Python 3",
   "language": "python",
   "name": "python3"
  },
  "language_info": {
   "codemirror_mode": {
    "name": "ipython",
    "version": 3
   },
   "file_extension": ".py",
   "mimetype": "text/x-python",
   "name": "python",
   "nbconvert_exporter": "python",
   "pygments_lexer": "ipython3",
   "version": "3.6.9"
  }
 },
 "nbformat": 4,
 "nbformat_minor": 4
}
