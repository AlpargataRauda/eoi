{
 "cells": [
  {
   "cell_type": "markdown",
   "metadata": {
    "slideshow": {
     "slide_type": "slide"
    }
   },
   "source": [
    "El módulo base64\n",
    "================\n",
    "\n",
    "El proposito de este módulo es proporcionar un sistema que permita\n",
    "codificar y decodificar información binaria usando __solo caracteres ASCII\n",
    "imprimibles__."
   ]
  },
  {
   "cell_type": "markdown",
   "metadata": {
    "slideshow": {
     "slide_type": "slide"
    }
   },
   "source": [
    "De esta forma se pueden trasmitir contenidos binarios a\n",
    "traves de sistemas que solo permitan texto, como sistemas\n",
    "de correo electronico, ser parte de los contenidos de una URL dentro de\n",
    "una peticion POST en la web, e incluso impresos en papel."
   ]
  },
  {
   "cell_type": "markdown",
   "metadata": {
    "slideshow": {
     "slide_type": "slide"
    }
   },
   "source": [
    "Se incluyen diversos sistemas, todos ellos definidos en el [RFC\n",
    "3548](https://tools.ietf.org/html/rfc3548.html), conocidos como\n",
    "**Base16**, **Base32** y **Base64** (Este último es de largo el más\n",
    "utilizado por ser el más eficiente).\n",
    "\n",
    "También se implementan en esta\n",
    "librería los estándares de facto **Ascii85** y **Base85**, más raramente\n",
    "usados."
   ]
  },
  {
   "cell_type": "markdown",
   "metadata": {
    "slideshow": {
     "slide_type": "slide"
    }
   },
   "source": [
    "Codificar/Decodificar en base64\n",
    "-------------------------------\n",
    "\n",
    "En base64 se usan un subconjunto de ASCII de 65 caracteres, todos ellos\n",
    "imprimibles. Para la codificación se usan 64 de los caracteres,\n",
    "mientras que el caracter extra, `=`, se usa para un proposito especial\n",
    "que veremos más adelante."
   ]
  },
  {
   "cell_type": "markdown",
   "metadata": {
    "slideshow": {
     "slide_type": "slide"
    }
   },
   "source": [
    "Tabla de codificación para base64\n",
    "\n",
    "|     | $+0$  | $+8$  | $+16$ | $+24$ | $+32$ | $+40$ | $+48$ | $+56$ | \n",
    "|-----|:-----:|:-----:|:-----:|:-----:|:-----:|:-----:|:-----:|:-----:|\n",
    "| $0$ | A     | I     | Q     | Y     | g     | o     | w     | 4     |\n",
    "| $1$ | B     | J     | R     | Z     | h     | p     | x     | 5     |\n",
    "| $2$ | C     | K     | S     | a     | i     | q     | y     | 6     |\n",
    "| $3$ | D     | L     | T     | b     | j     | r     | z     | 7     |\n",
    "| $4$ | E     | M     | U     | c     | k     | s     | 0     | 8     |\n",
    "| $5$ | F     | N     | V     | d     | l     | t     | 1     | 9     |\n",
    "| $6$ | G     | O     | W     | e     | m     | u     | 2     | +     |\n",
    "| $7$ | H     | P     | X     | f     | n     | v     | 3     | /     |"
   ]
  },
  {
   "cell_type": "markdown",
   "metadata": {
    "slideshow": {
     "slide_type": "slide"
    }
   },
   "source": [
    "Cada uno de estos 64 símbolos nos permite ahora representar 6 bits ($2^6 = 64$ ). En este esquema `A`\n",
    "vale `0` y `p`, `41`."
   ]
  },
  {
   "cell_type": "markdown",
   "metadata": {
    "slideshow": {
     "slide_type": "slide"
    }
   },
   "source": [
    "__Pregunta__: ¿Cuánto vale en este esquema la __zeta minúscula__? ¿Y la __U mayúscula__?"
   ]
  },
  {
   "cell_type": "markdown",
   "metadata": {
    "slideshow": {
     "slide_type": "slide"
    }
   },
   "source": [
    "Si usamos dos símbolos, tenemos 12 bits ($2^{6+6} = 2^{12} = 4096)$. Al\n",
    "añadir un tercer símbolo, tenemos 16 bits. Un cuarto símbolo nos pone en 24 bits. Y 24 bits son \n",
    "exactamente 3 bytes.\n",
    "\n",
    "Para codificar en base 64, podemos usar 4 caracteres de nuestros alfabeto para representar 3 bytes."
   ]
  },
  {
   "cell_type": "markdown",
   "metadata": {
    "slideshow": {
     "slide_type": "slide"
    }
   },
   "source": [
    "Veamos un ejemplo, supongamos que desea codificar tres bytes, `42`, `231` y `92`. Si\n",
    "pasamos estos valores a binario:\n",
    "\n",
    "| Decimal |    | Binario    |\n",
    "|---------|:--:|------------|\n",
    "| `42`    | ≋  | `00101010` | \n",
    "| `231`   | ≋  | `11100111` |\n",
    "| `92`    | ≋  | `01011100` |"
   ]
  },
  {
   "cell_type": "markdown",
   "metadata": {
    "slideshow": {
     "slide_type": "slide"
    }
   },
   "source": [
    "concatenamos los tres secuencias de bits nos da:\n",
    "    \n",
    "> `001010101110011101011100`"
   ]
  },
  {
   "cell_type": "markdown",
   "metadata": {
    "slideshow": {
     "slide_type": "slide"
    }
   },
   "source": [
    "Estos 24 bits pueden ser agrupados ahora en grupos de 6 bits\n",
    "\n",
    "> `001010` | `101110` | `011101` | `011100`"
   ]
  },
  {
   "cell_type": "markdown",
   "metadata": {
    "slideshow": {
     "slide_type": "slide"
    }
   },
   "source": [
    "Cada uno de estos grupos de 6 bits puede ser codificado ahora con un\n",
    "símbolo de nuestro vocabulario:\n",
    "    \n",
    "- `001010` ≋ `10` ≋ `K`\n",
    "- `101110` ≋ `46` ≋ `u`\n",
    "- `011101` ≋ `29` ≋ `d`\n",
    "- `011100` ≋ `28` ≋ `c`\n"
   ]
  },
  {
   "cell_type": "markdown",
   "metadata": {
    "slideshow": {
     "slide_type": "slide"
    }
   },
   "source": [
    "Así que la representación en base64 de los bytes `42`, `231` y `92` sería __`Kudc`__."
   ]
  },
  {
   "cell_type": "markdown",
   "metadata": {
    "slideshow": {
     "slide_type": "slide"
    }
   },
   "source": [
    "### Ejercicio\n",
    "\n",
    "Calcular la \"sobrecarga\" que pagamos por\n",
    "tener nuestro contenido binario en forma imprimible."
   ]
  },
  {
   "cell_type": "markdown",
   "metadata": {
    "slideshow": {
     "slide_type": "slide"
    }
   },
   "source": [
    "- Pista: Cada\n",
    "3 bytes de información necesitan 4 símbolos, que al final van a necesitar un byte cada uno."
   ]
  },
  {
   "cell_type": "markdown",
   "metadata": {
    "slideshow": {
     "slide_type": "fragment"
    }
   },
   "source": [
    "- Pista2: Por tanto si 3 bytes se codifican con 4 bytes, entonces 100 bytes\n",
    "se codifican con $100 \\cdot 4 / 3 = 133.33\\overline{3}...$. La sobrecarga\n",
    "sera, por tanto de ..."
   ]
  },
  {
   "cell_type": "markdown",
   "metadata": {
    "slideshow": {
     "slide_type": "slide"
    }
   },
   "source": [
    "Solución: La sobrecarga será aproximadamente de un 33.33%. Es decir, que si un fichero binario ocupa\n",
    "__8 Mbytes__, el fichero en base64 ocupará unos __10.6 Mbytes__."
   ]
  },
  {
   "cell_type": "markdown",
   "metadata": {
    "slideshow": {
     "slide_type": "slide"
    }
   },
   "source": [
    "¿Qué pasa si el número de bytes a codificar no es un múltiplo exacto\n",
    "de tres?\n",
    "\n",
    "Para eso se añaden bits a cero hasta llegar al siguiente\n",
    "múltiplo de 3, y luego se usa el caracter especial `=`, (que al principio\n",
    "comentamos que tenía un significado especial) al final de la cadena\n",
    "como caracter de \"relleno\"."
   ]
  },
  {
   "cell_type": "markdown",
   "metadata": {
    "slideshow": {
     "slide_type": "slide"
    }
   },
   "source": [
    "De esa forma siempre se tienen grupos de \n",
    "4 caracteres, que decodifican a 3 bytes, y usando el número de caracteres\n",
    "`=` al final se puede descartar los bytes de relleno. Siempre serán uno o \n",
    "dos bytes los que se van a descartar. ¿Por qué?"
   ]
  },
  {
   "cell_type": "markdown",
   "metadata": {
    "slideshow": {
     "slide_type": "slide"
    }
   },
   "source": [
    "## Funciones de base64\n",
    "\n",
    "Hay dos interfaces disponibles. La interfaz moderna permite codificar\n",
    "variables que ya están en formato de bytes. Esto es:\n",
    "\n",
    "-   Objetos de tipo `byte`\n",
    "-   Objetos de tipo `bytearray`\n",
    "-   Objetos de tipo `array.array`\n",
    "-   Objetos de tipo `memoryview`\n",
    "-   Cualquier objeto que soporte el [protocolo Buffer]{.title-ref} y que\n",
    "    pueda exportar un buffer de bytes tipo `C`."
   ]
  },
  {
   "cell_type": "markdown",
   "metadata": {
    "slideshow": {
     "slide_type": "slide"
    }
   },
   "source": [
    "La interfaz antigua solo permitia codificar\n",
    "ficheros y solo soportaba el protocolo Base64. En esta introducción solo\n",
    "veremos la interfaz moderna."
   ]
  },
  {
   "cell_type": "markdown",
   "metadata": {
    "slideshow": {
     "slide_type": "slide"
    }
   },
   "source": [
    "Las dos funciones más importantes de este módulo son **b64encode** y\n",
    "**b64decode**. Vamos a verlas con un poco más de detalle:"
   ]
  },
  {
   "cell_type": "markdown",
   "metadata": {
    "slideshow": {
     "slide_type": "slide"
    }
   },
   "source": [
    "### base64.b64encode\n",
    "\n",
    "__`b64encode(s, altchars=None)`__: Esta función nos permite codificar en\n",
    "base 64 cualquier contenido binario que le pasemos como primer\n",
    "argumento. Devuelve una cadena de *bytes* ASCII, imprimible.\n",
    "\n",
    "Acepta un parámetro opcional que nos permite alterar parte de la\n",
    "tabla de codificación, de forma que no se usen ni el caracter `+` ni\n",
    "el caracter `/` en la salida (en vez de eso, se usan `-` y `_`)."
   ]
  },
  {
   "cell_type": "markdown",
   "metadata": {
    "slideshow": {
     "slide_type": "slide"
    }
   },
   "source": [
    "    \n",
    "La razón de este cambio es poder incluir cadenas codificadas dentro de\n",
    "una __URL__, donde tanto el caracter `+` como el `/` tienen un\n",
    "significado propio, o evitar conflictos con el sistema de ficheros,\n",
    "donde `/` también tiene un significado propio.\n",
    "\n",
    "Esta codificación\n",
    "(Que, técnicamante, no es base64 *puro*) se denomina Codificacion\n",
    "Base64 usando alfabeto seguro para URL y sistemas de ficheros (*Base\n",
    "64 Encoding with URL and Filename Safe Alphabet*)"
   ]
  },
  {
   "cell_type": "markdown",
   "metadata": {
    "slideshow": {
     "slide_type": "slide"
    }
   },
   "source": [
    "#### Ejercicio: Usar base64.b64 endoce\n",
    "\n",
    "Codificar la cadena de bytes \"`Hola, mundo!`\""
   ]
  },
  {
   "cell_type": "code",
   "execution_count": null,
   "metadata": {
    "slideshow": {
     "slide_type": "notes"
    }
   },
   "outputs": [],
   "source": [
    "import base64\n",
    "\n",
    "texto = b\"Hola, mundo!\"\n",
    "print(base64.b64encode(texto))"
   ]
  },
  {
   "cell_type": "markdown",
   "metadata": {
    "slideshow": {
     "slide_type": "slide"
    }
   },
   "source": [
    "### base64.b64decode\n",
    "\n",
    "__`b64decode(s, altchars=None, validate=False)`__: Esta función es la\n",
    "inversa de la anterior, es decir, acepta una cadena de bytes\n",
    "codificadad en base64 y nos devuelte el objeto binario inicial.\n",
    "\n",
    "El segundo parámetro es identico al de b64encode, permite usar la\n",
    "codificacion alternativa para URLs y sistemas de ficheros."
   ]
  },
  {
   "cell_type": "markdown",
   "metadata": {
    "slideshow": {
     "slide_type": "slide"
    }
   },
   "source": [
    "Si la codificación tuviera el error de no estar bien alineada (es decir,\n",
    "que la longitud del texto no sea múltiplo de 4, como explicamos antes)\n",
    "la función eleva la excepción `binascii.Error`."
   ]
  },
  {
   "cell_type": "markdown",
   "metadata": {
    "slideshow": {
     "slide_type": "slide"
    }
   },
   "source": [
    "Por ultimo, el tercer parámetro, `validate`, por defecto puesto a\n",
    "`False`, comprueba si los caracteres usados corresponden con la\n",
    "tabla de valores permitidos por base64. Con el valor `False`\n",
    "asignado por defecto, cualquiera de esos valores es simplemente\n",
    "descartado. Sin embargo, si se establece a `True`, la aparicion de\n",
    "cualquier caracter no permitido daría lugar a una excepción\n",
    "`binascii.Error`."
   ]
  },
  {
   "cell_type": "markdown",
   "metadata": {
    "slideshow": {
     "slide_type": "slide"
    }
   },
   "source": [
    "#### Ejercicio: Usar b64decode para comprobar el ejemplo de codificación.\n",
    "\n",
    "Al principio vimos un ejemplo donde codificamos los bytes `42`, `231` y `92` para obtener la secuencia `Kudc`. Usa la función `b64decode` para comprobar que\n",
    "nuestro cálculos eran correctos."
   ]
  },
  {
   "cell_type": "code",
   "execution_count": null,
   "metadata": {
    "slideshow": {
     "slide_type": "notes"
    }
   },
   "outputs": [],
   "source": [
    "import base64\n",
    "\n",
    "for b in base64.b64decode(b'Kudc'):\n",
    "    print(b)\n"
   ]
  },
  {
   "cell_type": "markdown",
   "metadata": {
    "slideshow": {
     "slide_type": "slide"
    }
   },
   "source": [
    "#### Ejercicio: Decodificar, usando el protocolo base64 puro, el siguiente\n",
    "texto:\n",
    "\n",
    "    QklFTiBIRUNITywgTUFRVUlOQSE="
   ]
  },
  {
   "cell_type": "code",
   "execution_count": null,
   "metadata": {
    "slideshow": {
     "slide_type": "notes"
    }
   },
   "outputs": [],
   "source": [
    "import base64\n",
    "print(base64.b64decode(b\"QklFTiBIRUNITywgTUFRVUlOQSE=\"))"
   ]
  },
  {
   "cell_type": "markdown",
   "metadata": {
    "slideshow": {
     "slide_type": "slide"
    }
   },
   "source": [
    "Notas: Obsérvese que al hablar de codificar o decodificar podría\n",
    "interpretarse que estamos ante algún tipo de sistema de cifrado, pero\n",
    "**no** es este el caso.\n",
    "\n",
    "Cualquier contenido codificado con base64 o\n",
    "cualquiera de los otros algoritmos implementados en este módulo no\n",
    "necesita ninguna clave para obtener los contenidos originales."
   ]
  },
  {
   "cell_type": "markdown",
   "metadata": {
    "slideshow": {
     "slide_type": "slide"
    }
   },
   "source": [
    "En suma,\n",
    "es solo otra forma de codificar una información, y __de ningnna manera una\n",
    "forma de cifrarla o encriptarla__. Todo contenido codificado en base64 (o\n",
    "sus primos) es, a todos los efectos, pública."
   ]
  },
  {
   "cell_type": "markdown",
   "metadata": {
    "slideshow": {
     "slide_type": "slide"
    }
   },
   "source": [
    "Otras funciones útiles en este múdulo son las siguientes:\n",
    "\n",
    "- `standard_b64encode(s)`: Utiliza la codificación original. Es equivalente a llamar\n",
    "  a `base64.b64encode` especificando altchars=None, pero deja más patente la\n",
    "  intención del programador.\n",
    "\n",
    "- `base64.standard_b64decode(s)`: Igual que el anterior, pero para la decodificación. De igual\n",
    "  manera usar este formula deja más clara la intención asi como el protocolo usudo."
   ]
  },
  {
   "cell_type": "markdown",
   "metadata": {
    "slideshow": {
     "slide_type": "slide"
    }
   },
   "source": [
    "- `base64.urlsafe_b64encode(s)`: Utiliza la codificación *safe for URL and filenames*. Es\n",
    "  equivalente a llamar a `base64.b64encode` especificando altchars=\"-_\", pero deja más\n",
    "  patente la intención del programador.\n",
    "\n",
    "- `base64.urlsafe_b64decode(s)`: Equivalente a la anterior, pero para decodificar."
   ]
  },
  {
   "cell_type": "markdown",
   "metadata": {
    "slideshow": {
     "slide_type": "slide"
    }
   },
   "source": [
    "#### Miniproyecto: Incluir una imagen codificada con base64 en este notebook"
   ]
  },
  {
   "cell_type": "markdown",
   "metadata": {
    "slideshow": {
     "slide_type": "slide"
    }
   },
   "source": [
    "En HTML, la forma normal de incluir una imagen es user al atributo `src`\n",
    "para indicar la URL de una imagen que queremos incluir en nuestra página\n",
    "web. Por ejemplo, podemos usar la utilidad `HTML` de jupyter para que la\n",
    "salida de la ejecución de una celda sea interpretado como Html.\n",
    "\n",
    "Veamos un ejemplo:"
   ]
  },
  {
   "cell_type": "code",
   "execution_count": null,
   "metadata": {
    "slideshow": {
     "slide_type": "slide"
    }
   },
   "outputs": [],
   "source": [
    "from IPython.core.display import HTML\n",
    "\n",
    "HTML(f'<p><img src=\"./img/bulb.png\"></p>')"
   ]
  },
  {
   "cell_type": "markdown",
   "metadata": {
    "slideshow": {
     "slide_type": "slide"
    }
   },
   "source": [
    "Pero existe otra forma, no tan conocida de incluir una imagen *embebida*\n",
    "dentro del documento, es decir, que está dentro del documento y no necesita\n",
    "acceder a un recurso externo. Para eso se usa, como atributo `src`, en vez\n",
    "de una url, el contenido usando la siguiente expresión:\n",
    "\n",
    "    data:<tipo mime describiendo el formato>;<codificacion>, <datos>\n",
    "    "
   ]
  },
  {
   "cell_type": "markdown",
   "metadata": {
    "slideshow": {
     "slide_type": "slide"
    }
   },
   "source": [
    "Como los datos son binarios, hay que indicar que tipo de fichero es (No puedes\n",
    "basarte en la extensión del fichero, `.gif`, `.png`, etc. porque no hay fichero), así\n",
    "como la codificación usada (base64 no es la única codificación posible).\n",
    "    \n",
    "Por ejemplo, para codificar un fichero en formato png, codificado en\n",
    "base 64, usariamos:\n",
    "\n",
    "    data:image/png;base64, GDAdx4...\n",
    "    "
   ]
  },
  {
   "cell_type": "markdown",
   "metadata": {
    "slideshow": {
     "slide_type": "slide"
    }
   },
   "source": [
    "Dentro del fichero `./img/imagen.b64.txt` hay una imagen en formato\n",
    "[webp](https://es.wikipedia.org/wiki/WebP) (El tipo MIME es `image/webp`)\n",
    "codificado en base64. Dentro del archivo solo hay\n",
    "caracteres imprimibles (Compruébalo si quieres).\n",
    "\n",
    "Usando `IPython.core.display.HTML`, escribir un *tag* o etigueta `img`\n",
    "que incluya la imagen codificada. Recuerda que hay que usar un\n",
    "formato especial en el atributo `src` para que lo reconozca como\n",
    "datos embebidos; para este caso:\n",
    "\n",
    "    data:image/webp;base64, <aqui va el contenido del archivo>"
   ]
  },
  {
   "cell_type": "code",
   "execution_count": null,
   "metadata": {},
   "outputs": [],
   "source": [
    "!head -c 100  ../img/imagen.b64.txt\n"
   ]
  },
  {
   "cell_type": "code",
   "execution_count": null,
   "metadata": {},
   "outputs": [],
   "source": [
    "# %load ../img/imagen.b64.txt"
   ]
  },
  {
   "cell_type": "code",
   "execution_count": null,
   "metadata": {
    "slideshow": {
     "slide_type": "notes"
    }
   },
   "outputs": [],
   "source": [
    "from IPython.core.display import HTML\n",
    "\n",
    "with open('../img/imagen.b64.txt', 'r') as f:\n",
    "    data = f.read()\n",
    "\n",
    "\n",
    "HTML('<img src=\"data:image/webp;base64, {pega aqui}\">')"
   ]
  },
  {
   "cell_type": "code",
   "execution_count": null,
   "metadata": {},
   "outputs": [],
   "source": []
  }
 ],
 "metadata": {
  "celltoolbar": "Slideshow",
  "kernelspec": {
   "display_name": "Python 3",
   "language": "python",
   "name": "python3"
  },
  "language_info": {
   "codemirror_mode": {
    "name": "ipython",
    "version": 3
   },
   "file_extension": ".py",
   "mimetype": "text/x-python",
   "name": "python",
   "nbconvert_exporter": "python",
   "pygments_lexer": "ipython3",
   "version": "3.6.9"
  }
 },
 "nbformat": 4,
 "nbformat_minor": 4
}
