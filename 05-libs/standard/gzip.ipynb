{
 "cells": [
  {
   "cell_type": "markdown",
   "metadata": {
    "slideshow": {
     "slide_type": "slide"
    }
   },
   "source": [
    "# La librería gzip"
   ]
  },
  {
   "cell_type": "markdown",
   "metadata": {
    "slideshow": {
     "slide_type": "slide"
    }
   },
   "source": [
    "Aunque la capadidad de almacenamiento en los ordenadores sigue incrementándose, también\n",
    "lo hace la cantidad de detos que queremos almacenar. Para solucionar esto se inventaron\n",
    "hace tiempo varios __algoritmos de compresión__, que nos permiten almacenar\n",
    "la misma cantidad de información en menos espacio, teniendo que usar, eso si,un poco\n",
    "más de tiempo para acceder o modificxar la informacion."
   ]
  },
  {
   "cell_type": "markdown",
   "metadata": {
    "slideshow": {
     "slide_type": "slide"
    }
   },
   "source": [
    "En python, Los módulos `zlib` y `gzip` nos permiten acceder a estos dos algoritmos de compresión\n",
    "clásicos, mientras que el modulo `bzip2` usa un formato y algoritmo algo mås reciente.\n",
    "\n",
    "Siempre trabajamos con un flujo de *bytes*, es decir, que podemos comprimir información en cualquier formato que nos interese, porque los algoritmos no se preocupan por el formato, solo \"ven\" secuencias de bytes."
   ]
  },
  {
   "cell_type": "markdown",
   "metadata": {
    "slideshow": {
     "slide_type": "slide"
    }
   },
   "source": [
    "Los tres módulos incluyen también funciones para trabajar, de forma transpareente, con ficheros\n",
    "comprimidos.\n",
    "\n",
    "Ademas de las funciones de compresión, habitualmente se usa también el\n",
    "concepto de __archivado__, esto es, incluir varios archivos dentro de otro, normalmente\n",
    "para copias de seguridad o  trasmision. "
   ]
  },
  {
   "cell_type": "markdown",
   "metadata": {
    "slideshow": {
     "slide_type": "slide"
    }
   },
   "source": [
    "Estos dos conceptos, compresión y archivado no son lo mismo."
   ]
  },
  {
   "cell_type": "markdown",
   "metadata": {
    "slideshow": {
     "slide_type": "fragment"
    }
   },
   "source": [
    "- puedes tener un fichero comprimido, sin archivado (es decir, que solo\n",
    "esta comprimido un unico fichero)"
   ]
  },
  {
   "cell_type": "markdown",
   "metadata": {
    "slideshow": {
     "slide_type": "fragment"
    }
   },
   "source": [
    "- O se puede tener un archivador sin usar compresión."
   ]
  },
  {
   "cell_type": "markdown",
   "metadata": {
    "slideshow": {
     "slide_type": "fragment"
    }
   },
   "source": [
    "- Pero normalmente estas dos funcionalidades suelen ir juntas."
   ]
  },
  {
   "cell_type": "markdown",
   "metadata": {
    "slideshow": {
     "slide_type": "slide"
    }
   },
   "source": [
    "Nota: En la librería estándar hay módulos para trabajar con otros formatos\n",
    "de compresión/archivado, como `tarfile` para trabajar con ficheros *.tar*, usados\n",
    "frecuentemente en sistemas tipo Unix, o `zipfile`\n",
    "para manipular archivos *.zip*, un formato muy popular en los entornos Windows\n",
    "desde los tiempos del MS/DOS (Ambos sistemas pueden encontrarse ya en cualquier entorno,\n",
    "no obstante). En este curso no veremos estos módulos, pero\n",
    "es importante que sepan que están ahí, en caso de que los necesiten.\n"
   ]
  },
  {
   "cell_type": "markdown",
   "metadata": {
    "slideshow": {
     "slide_type": "slide"
    }
   },
   "source": [
    "## El módulo zlib"
   ]
  },
  {
   "cell_type": "markdown",
   "metadata": {
    "slideshow": {
     "slide_type": "slide"
    }
   },
   "source": [
    "Como siempre, para poder usarlo tenemos que importarlo:"
   ]
  },
  {
   "cell_type": "code",
   "execution_count": 4,
   "metadata": {
    "slideshow": {
     "slide_type": "fragment"
    }
   },
   "outputs": [],
   "source": [
    "import zlib"
   ]
  },
  {
   "cell_type": "markdown",
   "metadata": {
    "slideshow": {
     "slide_type": "slide"
    }
   },
   "source": [
    "Podemos comprimir y descomprimir directamente contenidos en memoria. En el caso\n",
    "de `zlib`, usamos los métodos __`compress`__ y __`decompress`__. Vamos a verlo ejecutando\n",
    "el siguiente ejemplo."
   ]
  },
  {
   "cell_type": "code",
   "execution_count": 21,
   "metadata": {
    "slideshow": {
     "slide_type": "slide"
    }
   },
   "outputs": [
    {
     "name": "stdout",
     "output_type": "stream",
     "text": [
      "El mensaje origina ocupa 72 bytes\n",
      "El mensaje comprimido ocupa 76 bytes\n"
     ]
    }
   ],
   "source": [
    "import zlib\n",
    "\n",
    "message = \"Hola, me llamo Íñigo Montoya. Tu mataste a mi padre. Preparate a morir\".encode(\"utf-8\")\n",
    "print(f\"El mensaje origina ocupa {len(message)} bytes\")\n",
    "compressed = zlib.compress(message)\n",
    "print(f\"El mensaje comprimido ocupa {len(compressed)} bytes\")"
   ]
  },
  {
   "cell_type": "markdown",
   "metadata": {
    "slideshow": {
     "slide_type": "slide"
    }
   },
   "source": [
    "Ejercicio: ¿Notan algo raro en el ejemplo anterior?"
   ]
  },
  {
   "cell_type": "markdown",
   "metadata": {},
   "source": [
    "![El mensaje comprimido ocupa más que el mensaje sin descomprimir](./img/emosido.jpg)"
   ]
  },
  {
   "cell_type": "markdown",
   "metadata": {},
   "source": [
    "Efectivamene ¡El mensaje comprimido ocupa más que el mensaje sin descomprimir! Justo\n",
    "lo contrario de lo que deberia pasar! Esto es por varias razones:\n",
    "\n",
    "- Los algoritmos de compresión trabajan mejor cuanto mas repeticiones de símbolos haya (trabajan\n",
    "    reduciendo la redundancia)\n",
    "\n",
    "- Cuanto más contenido, mejor compresión (Más probabilidad de encontrar redundacia)"
   ]
  },
  {
   "cell_type": "markdown",
   "metadata": {},
   "source": [
    "Vamos a ver que tal funciona con una supuesta secuencia de genes (Solo cuatro\n",
    "símbolos, `G`, `A`, `T` y `C`):"
   ]
  },
  {
   "cell_type": "code",
   "execution_count": 34,
   "metadata": {},
   "outputs": [
    {
     "name": "stdout",
     "output_type": "stream",
     "text": [
      "El mensaje original ocupa 72 bytes\n",
      "El mensaje comprimido ocupa 49 bytes\n"
     ]
    }
   ],
   "source": [
    "import zlib\n",
    "\n",
    "message = b\"GGAAATGGTAGGGCTAGATGCCCCTTAGCTCATGCGCTGCGCTCATCAAACCTAGGTTATTAGCACTAACAT\"\n",
    "print(f\"El mensaje original ocupa {len(message)} bytes\")\n",
    "compressed = zlib.compress(message)\n",
    "print(f\"El mensaje comprimido ocupa {len(compressed)} bytes\")"
   ]
  },
  {
   "cell_type": "markdown",
   "metadata": {
    "slideshow": {
     "slide_type": "slide"
    }
   },
   "source": [
    "### Ejercicio: Descomprimir un mensaje\n",
    "\n",
    "Hemo recibido el siguiente mensaje, comprimido con `zlib`:"
   ]
  },
  {
   "cell_type": "code",
   "execution_count": 40,
   "metadata": {
    "slideshow": {
     "slide_type": "fragment"
    }
   },
   "outputs": [],
   "source": [
    "message = b'x\\x9c\\xf3\\xc9WH\\xce\\xcf+NM/\\xcd,.IU\\x04\\x00,\\xcc\\x05\\xa6'"
   ]
  },
  {
   "cell_type": "markdown",
   "metadata": {
    "slideshow": {
     "slide_type": "fragment"
    }
   },
   "source": [
    "Usa la función `decompress` del modulo `zip`."
   ]
  },
  {
   "cell_type": "code",
   "execution_count": 42,
   "metadata": {
    "slideshow": {
     "slide_type": "subslide"
    }
   },
   "outputs": [],
   "source": [
    "import zlib\n",
    "\n",
    "message = b'x\\x9c\\xf3\\xc9WH\\xce\\xcf+NM/\\xcd,.IU\\x04\\x00,\\xcc\\x05\\xa6'\n"
   ]
  },
  {
   "cell_type": "markdown",
   "metadata": {
    "slideshow": {
     "slide_type": "slide"
    }
   },
   "source": [
    "### Compresion/Decompresión incremental\n",
    "\n",
    "El problema de comprimir en memoria es que nos limita, porque\n",
    "necesitamos mantener a la vez los datos comprimidos\n",
    "y sin descomprimir.\n",
    "\n",
    "Para solucionar esto tenemos las clases `Compress`\n",
    "y `Decompress`, que nos permiten trabajar con los datos de forma\n",
    "incremental y con datos demasiado grandes para caber en memoria.\n",
    "\n"
   ]
  },
  {
   "cell_type": "code",
   "execution_count": 43,
   "metadata": {},
   "outputs": [
    {
     "ename": "SyntaxError",
     "evalue": "invalid syntax (<ipython-input-43-64087c225153>, line 13)",
     "output_type": "error",
     "traceback": [
      "\u001b[0;36m  File \u001b[0;32m\"<ipython-input-43-64087c225153>\"\u001b[0;36m, line \u001b[0;32m13\u001b[0m\n\u001b[0;31m    print 'Compressed: %s' % binascii.hexlify(compressed)\u001b[0m\n\u001b[0m                         ^\u001b[0m\n\u001b[0;31mSyntaxError\u001b[0m\u001b[0;31m:\u001b[0m invalid syntax\n"
     ]
    }
   ],
   "source": [
    "import zlib\n",
    "import binascii\n",
    "\n",
    "compressor = zlib.compressobj(1)\n",
    "\n",
    "with open('lorem.txt', 'r') as input:\n",
    "    while True:\n",
    "        block = input.read(64)\n",
    "        if not block:\n",
    "            break\n",
    "        compressed = compressor.compress(block)\n",
    "        if compressed:\n",
    "            print 'Compressed: %s' % binascii.hexlify(compressed)\n",
    "        else:\n",
    "            print 'buffering...'\n",
    "    remaining = compressor.flush()\n",
    "    print 'Flushed: %s' % binascii.hexlify(remaining)"
   ]
  },
  {
   "cell_type": "markdown",
   "metadata": {},
   "source": [
    "This example reads small blocks of data from a plain-text file and passes it to compress(). The compressor maintains an internal buffer of compressed data. Since the compression algorithm depends on checksums and minimum block sizes, the compressor may not be ready to return data each time it receives more input. If it does not have an entire compressed block ready, it returns an empty string. When all the data is fed in, the flush() method forces the co"
   ]
  }
 ],
 "metadata": {
  "celltoolbar": "Slideshow",
  "kernelspec": {
   "display_name": "Python 3",
   "language": "python",
   "name": "python3"
  },
  "language_info": {
   "codemirror_mode": {
    "name": "ipython",
    "version": 3
   },
   "file_extension": ".py",
   "mimetype": "text/x-python",
   "name": "python",
   "nbconvert_exporter": "python",
   "pygments_lexer": "ipython3",
   "version": "3.7.6"
  }
 },
 "nbformat": 4,
 "nbformat_minor": 4
}
