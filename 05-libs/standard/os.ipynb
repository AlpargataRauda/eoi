{
 "cells": [
  {
   "cell_type": "markdown",
   "metadata": {
    "slideshow": {
     "slide_type": "slide"
    }
   },
   "source": [
    "## librería os: Llamadas al sistema operativo\n",
    "\n",
    "\n",
    "El módulo __`os`__ da acceso a llamadas del sistema operativo sobre el que se\n",
    "está ejecutando el intérprete de Python."
   ]
  },
  {
   "cell_type": "markdown",
   "metadata": {
    "slideshow": {
     "slide_type": "slide"
    }
   },
   "source": [
    "A nivel de diseño, las llamadas\n",
    "que funcionana en todos los sistemas usan y devuelven la misma interfaz,\n",
    "independiente del S.O. Por ejemplo, la función stat siempre devuelve\n",
    "información sobre un fichero con el mismo formato, independientemente de\n",
    "la plataforma aunque, obviamente, las llamadas realizadas al sistema\n",
    "operativo sean diferentes."
   ]
  },
  {
   "cell_type": "markdown",
   "metadata": {
    "slideshow": {
     "slide_type": "slide"
    }
   },
   "source": [
    "Las funciones que solo están disponibles para un determinado sistema\n",
    "operativo estan en submódulos aparte."
   ]
  },
  {
   "cell_type": "markdown",
   "metadata": {
    "slideshow": {
     "slide_type": "slide"
    }
   },
   "source": [
    "El submodulo `os.path` (cargado automáticamente) incluye funciones de\n",
    "ayuda para trabajar con rutas de archivos."
   ]
  },
  {
   "cell_type": "markdown",
   "metadata": {
    "slideshow": {
     "slide_type": "slide"
    }
   },
   "source": [
    "Algunas de las funciones y atributos de este módulo son:"
   ]
  },
  {
   "cell_type": "markdown",
   "metadata": {
    "slideshow": {
     "slide_type": "slide"
    }
   },
   "source": [
    "-   `os.name` : El nombre del sistema operativo sobre el que se está\n",
    "    ejecutando Python. Algunos valores posibles son posix, nt y java. Si\n",
    "    se desea más información de este tipo, véase también `sys.platform`\n",
    "    y `os.uname`"
   ]
  },
  {
   "cell_type": "markdown",
   "metadata": {
    "slideshow": {
     "slide_type": "slide"
    }
   },
   "source": [
    "Ejercicio: Importar `os` y ejecutar `os.name()`"
   ]
  },
  {
   "cell_type": "markdown",
   "metadata": {
    "slideshow": {
     "slide_type": "slide"
    }
   },
   "source": [
    "-   `os.environ` : Un diccionario que contiene las variables de entorno\n",
    "    definidas en el sistema operativa. Los valores se obtiene la primera\n",
    "    vez que se importa el módulo, por lo que no reflejaran los cambios\n",
    "    hechos después."
   ]
  },
  {
   "cell_type": "markdown",
   "metadata": {
    "slideshow": {
     "slide_type": "slide"
    }
   },
   "source": [
    "-   `os.path.getsize(path)` : Devuelve el tamaño, en bytes, del fichero\n",
    "    cuya ruta se la pasa como parámetro."
   ]
  },
  {
   "cell_type": "markdown",
   "metadata": {
    "slideshow": {
     "slide_type": "slide"
    }
   },
   "source": [
    "-   `os.path.getmtime(path)` : Devuelve el tiempo de la ultima\n",
    "    modificación del archivo. El valor es en tiempo unix: el número de\n",
    "    segundos desde la medianoche UTC del 1 de enero de 1970. Vease el\n",
    "    módulo `time`."
   ]
  },
  {
   "cell_type": "markdown",
   "metadata": {
    "slideshow": {
     "slide_type": "slide"
    }
   },
   "source": [
    "-   `os.path.splitext(path)`: Devuelve una tupla de dos elementos (root,\n",
    "    ext). En la primera posición va la ruta completa del fichero, sin\n",
    "    extensión, y en la segunda va la extension, de forma que `path` ==\n",
    "    `root + ext`."
   ]
  },
  {
   "cell_type": "markdown",
   "metadata": {
    "slideshow": {
     "slide_type": "slide"
    }
   },
   "source": [
    "-   `os.walk(top, topdown=True, onerror=None, followlinks=False)` :\n",
    "    Devuelve un iterador que nos permite examinar todo un sistema de\n",
    "    archivos. Para cada directorio y subdirectorio en la raíz (indicada\n",
    "    por `top`), incluyendo la propia raíz, el iterador devuelte una\n",
    "    tupla de tres elementos (normalmente llamados `dirpath`, `dirnames`\n",
    "    y `filenames`); `dirpath` es una cadena de texto, la ruta del\n",
    "    directorio, `dirnames` es una lista con los nombres de los\n",
    "    subdirectorios dentro de `dirpath` (excluyendo los nombres\n",
    "    especiales . y ..) y `filenames` es una lista de nombres de los\n",
    "    ficheros que **no** son un directorio en `dirpath`. En cualquier\n",
    "    momento podemos tener una ruta absoluta a un archivo `f` en\n",
    "    `filenames` haciendo `os.path.join(top, dirpath, f)`."
   ]
  },
  {
   "cell_type": "markdown",
   "metadata": {
    "slideshow": {
     "slide_type": "slide"
    }
   },
   "source": [
    "**Ejercicio**: Hacer un script que calcule cuanto ocupan todos los ficheros de tipo Python en un \n",
    "determinado directorio, incluyendo sus subdirectorios, si los hubiera. Listar\n",
    "los nombres absolutos, es decir, incluyendo la ruta desde la raíz,al final\n",
    "el espacio total que ocupan en disco."
   ]
  }
 ],
 "metadata": {
  "celltoolbar": "Slideshow",
  "kernelspec": {
   "display_name": "Python 3",
   "language": "python",
   "name": "python3"
  },
  "language_info": {
   "codemirror_mode": {
    "name": "ipython",
    "version": 3
   },
   "file_extension": ".py",
   "mimetype": "text/x-python",
   "name": "python",
   "nbconvert_exporter": "python",
   "pygments_lexer": "ipython3",
   "version": "3.8.2"
  }
 },
 "nbformat": 4,
 "nbformat_minor": 4
}
