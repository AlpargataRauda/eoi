{
 "cells": [
  {
   "cell_type": "markdown",
   "metadata": {
    "slideshow": {
     "slide_type": "slide"
    }
   },
   "source": [
    "## La librería csv"
   ]
  },
  {
   "cell_type": "markdown",
   "metadata": {
    "slideshow": {
     "slide_type": "slide"
    }
   },
   "source": [
    "La librería **`csv`** permite trabajar de forma fácil con ficheros\n",
    "de tipo :CSV (*Comma Separated Values* o Valores separados por comas) "
   ]
  },
  {
   "cell_type": "markdown",
   "metadata": {
    "slideshow": {
     "slide_type": "slide"
    }
   },
   "source": [
    "El formato de fichero llamado CSV (*Comma Separated Values* o\n",
    "Valores separados por comas) es uno de los más habitualmente usados\n",
    "para el intercambio de información de hojas de cálculo o bases de\n",
    "datos."
   ]
  },
  {
   "cell_type": "markdown",
   "metadata": {
    "slideshow": {
     "slide_type": "slide"
    }
   },
   "source": [
    "A pesar de eso, no hay ningún estandar (o hay muchos) ni norma escrita, así\n",
    "que el formato esta definido de forma más o menosinformal por\n",
    "el conjunto de aplicaciones que pueden leerlo o escribirlo."
   ]
  },
  {
   "cell_type": "markdown",
   "metadata": {},
   "source": [
    "![Standards](../img/xkcd-standards.png)\n",
    "Original en <https://xkcd.com/927/>"
   ]
  },
  {
   "cell_type": "markdown",
   "metadata": {
    "slideshow": {
     "slide_type": "slide"
    }
   },
   "source": [
    "Esta carencia de estandares provoca que haya multiples, variadas y\n",
    "pequeñas diferencias entre los datos producidos o consumidos por\n",
    "diferentes aplicaciones. Por esta razón, trabajar con distinto\n",
    "ficheros CVS provinientes de distintas fuentes suele dar más de un\n",
    "dolor de cabeza. "
   ]
  },
  {
   "cell_type": "markdown",
   "metadata": {
    "slideshow": {
     "slide_type": "slide"
    }
   },
   "source": [
    "A pesar de estas divergencias (empezando por que\n",
    "caracter usar como separador de campos), es posible escribir un módulo\n",
    "que pueda maniputar de forma eficiente estos datos, ocultado al\n",
    "programador los detalles específicos de leer o escribir estos\n",
    "ficheros,"
   ]
  },
  {
   "cell_type": "markdown",
   "metadata": {
    "slideshow": {
     "slide_type": "slide"
    }
   },
   "source": [
    "El módulo csv permite escribir y leer estos archivos. El programador\n",
    "puede especificar, por ejemplo, \"escribe este archivo en el formato\n",
    "preferido por excel\", o \"lee este fichero como fuera de excel, pero\n",
    "usando el carácter `:` como separador de campos\". También nos\n",
    "permite definir nuestros propios formatos de uso particular, que el\n",
    "módulo denomina \"dialectos\"."
   ]
  },
  {
   "cell_type": "markdown",
   "metadata": {},
   "source": [
    "### Contenido de este módulo"
   ]
  },
  {
   "cell_type": "markdown",
   "metadata": {},
   "source": [
    "Las dos funciones más usadas dentro de este módulo son `reader` y `writer`, usadas\n",
    "obviamente para leer y escribir desde un fichero csv. \n",
    "\n",
    "Las dos funciones aceptan como primer argumento un fichero abierto (o algo que se comporte\n",
    "de forma parecida, basicamente que tega un método `read` para leer y un `write` para\n",
    "escribir). Si trabajamos con ficheros, estos deden estar abiertos de la forma adecuada,\n",
    "es decir, 'r' para leer, 'w' o 'a' para escribir."
   ]
  },
  {
   "cell_type": "markdown",
   "metadata": {
    "slideshow": {
     "slide_type": "slide"
    }
   },
   "source": [
    "- La funcion `reader`\n",
    "\n",
    "Esta función nos devuelve un iterador, que irá devolviendo las distintas líneas del\n",
    "fichero. Las linea han sido procesadas, de forma que ya todos los problemas que nos\n",
    "podriamos encontrar están resueltos; los campos están separados, los campos que\n",
    "vengan entrecomillados has sido procesados y nos llegan como esperamos, etc."
   ]
  },
  {
   "cell_type": "code",
   "execution_count": 19,
   "metadata": {},
   "outputs": [
    {
     "name": "stdout",
     "output_type": "stream",
     "text": [
      "page_id\n",
      "name\n",
      "urlslug\n",
      "ID\n",
      "ALIGN\n",
      "EYE\n",
      "HAIR\n",
      "SEX\n",
      "GSM\n",
      "ALIVE\n",
      "APPEARANCES\n",
      "FIRST APPEARANCE\n",
      "Year\n",
      "\n",
      "1678\n",
      "Spider-Man (Peter Parker)\n",
      "\\/Spider-Man_(Peter_Parker)\n",
      "Secret Identity\n",
      "Good Characters\n",
      "Hazel Eyes\n",
      "Brown Hair\n",
      "Male Characters\n",
      "\n",
      "Living Characters\n",
      "4043\n",
      "Aug-62\n",
      "1962\n",
      "\n",
      "7139\n",
      "Captain America (Steven Rogers)\n",
      "\\/Captain_America_(Steven_Rogers)\n",
      "Public Identity\n",
      "Good Characters\n",
      "Blue Eyes\n",
      "White Hair\n",
      "Male Characters\n",
      "\n",
      "Living Characters\n",
      "3360\n",
      "Mar-41\n",
      "1941\n",
      "\n",
      "64786\n",
      "Wolverine (James \\\"Logan\\\" Howlett)\n",
      "\\/Wolverine_(James_%22Logan%22_Howlett)\n",
      "Public Identity\n",
      "Neutral Characters\n",
      "Blue Eyes\n",
      "Black Hair\n",
      "Male Characters\n",
      "\n",
      "Living Characters\n",
      "3061\n",
      "Oct-74\n",
      "1974\n",
      "\n"
     ]
    }
   ],
   "source": [
    "import csv\n",
    "\n",
    "filename = \"../files/marvel-wikia-data.csv\"\n",
    "with open(filename, 'r') as f:\n",
    "    reader = csv.reader(f)\n",
    "    for i, row in enumerate(reader):\n",
    "        print(*row, sep=\"\\n\")\n",
    "        print()\n",
    "        if i == 3:\n",
    "            break\n",
    "            "
   ]
  },
  {
   "cell_type": "markdown",
   "metadata": {},
   "source": [
    "**Ejercicio**: Usar el fichero del ejemplo anterior y listar todos los personajes de\n",
    "    marvel creados en la decada de los 70 (De 1971 a 1980)"
   ]
  },
  {
   "cell_type": "code",
   "execution_count": null,
   "metadata": {},
   "outputs": [],
   "source": [
    "import csv\n",
    "\n",
    "filename = \"../files/marvel-wikia-data.csv\"\n",
    "with open(filename, 'r') as f:\n",
    "    reader = csv.reader(f)\n",
    "    for i, row in enumerate(reader):\n",
    "        print(*row, sep=\"\\n\")\n",
    "        print()\n",
    "        if i == 3:\n",
    "            break"
   ]
  },
  {
   "cell_type": "markdown",
   "metadata": {
    "slideshow": {
     "slide_type": "slide"
    }
   },
   "source": [
    "La funcion `writer` se usa de forma similar,a hora con un fichero abierto para escribir:\n",
    "\n",
    "Y uno de escritura:"
   ]
  },
  {
   "cell_type": "code",
   "execution_count": 17,
   "metadata": {
    "slideshow": {
     "slide_type": "slide"
    }
   },
   "outputs": [],
   "source": [
    "import csv\n",
    "datos = [\n",
    "    ('Leonardo', 'Azul', 1452),\n",
    "    ('Raphael', 'Rojo', 1483),\n",
    "    ('Michelangelo', 'Naranja', 1475),\n",
    "    ('Donatello', 'Violeta', 1386),\n",
    "    ]\n",
    "with open('ninja-turtles.csv', 'w') as f:\n",
    "    writer = csv.writer(f)\n",
    "    writer.writerows(datos)"
   ]
  },
  {
   "cell_type": "code",
   "execution_count": 18,
   "metadata": {},
   "outputs": [
    {
     "name": "stdout",
     "output_type": "stream",
     "text": [
      "Leonardo,Azul,1452\r",
      "\r\n",
      "Raphael,Rojo,1483\r",
      "\r\n",
      "Michelangelo,Naranja,1475\r",
      "\r\n",
      "Donatello,Violeta,1386\r",
      "\r\n"
     ]
    }
   ],
   "source": [
    "!cat ninja-turtles.csv"
   ]
  },
  {
   "cell_type": "markdown",
   "metadata": {},
   "source": [
    "**Ejercicio**: El fichero anterior estaria mejor si tuviera una primera fila con\n",
    "los nombres de las columnas (p.e. `name`, `colour`, `year`). Modificar el código\n",
    "para incluir este primera fila"
   ]
  },
  {
   "cell_type": "code",
   "execution_count": null,
   "metadata": {},
   "outputs": [],
   "source": []
  }
 ],
 "metadata": {
  "celltoolbar": "Slideshow",
  "kernelspec": {
   "display_name": "Python 3",
   "language": "python",
   "name": "python3"
  },
  "language_info": {
   "codemirror_mode": {
    "name": "ipython",
    "version": 3
   },
   "file_extension": ".py",
   "mimetype": "text/x-python",
   "name": "python",
   "nbconvert_exporter": "python",
   "pygments_lexer": "ipython3",
   "version": "3.7.6"
  }
 },
 "nbformat": 4,
 "nbformat_minor": 4
}
