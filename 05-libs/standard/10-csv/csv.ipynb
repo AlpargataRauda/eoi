{
 "cells": [
  {
   "cell_type": "markdown",
   "metadata": {
    "slideshow": {
     "slide_type": "slide"
    }
   },
   "source": [
    "## La librería csv"
   ]
  },
  {
   "cell_type": "markdown",
   "metadata": {
    "slideshow": {
     "slide_type": "slide"
    }
   },
   "source": [
    "La librería **`csv`** permite trabajar de forma fácil con ficheros\n",
    "de tipo :CSV (*Comma Separated Values* o Valores separados por comas) "
   ]
  },
  {
   "cell_type": "markdown",
   "metadata": {
    "slideshow": {
     "slide_type": "slide"
    }
   },
   "source": [
    "El formato de fichero llamado CSV (*Comma Separated Values* o\n",
    "Valores separados por comas) es uno de los más habitualmente usados\n",
    "para el intercambio de información de hojas de cálculo o bases de\n",
    "datos."
   ]
  },
  {
   "cell_type": "markdown",
   "metadata": {
    "slideshow": {
     "slide_type": "slide"
    }
   },
   "source": [
    "A pesar de eso, no hay ningún estandar (o hay muchos) ni norma escrita, así\n",
    "que el formato esta definido de forma más o menosinformal por\n",
    "el conjunto de aplicaciones que pueden leerlo o escribirlo."
   ]
  },
  {
   "cell_type": "markdown",
   "metadata": {},
   "source": [
    "![Standards](../img/xkcd-standards.png)\n",
    "Original en <https://xkcd.com/927/>"
   ]
  },
  {
   "cell_type": "markdown",
   "metadata": {
    "slideshow": {
     "slide_type": "slide"
    }
   },
   "source": [
    "Esta carencia de estandares provoca que haya multiples, variadas y\n",
    "pequeñas diferencias entre los datos producidos o consumidos por\n",
    "diferentes aplicaciones. Por esta razón, trabajar con distinto\n",
    "ficheros CSV provinientes de distintas fuentes suele dar más de un\n",
    "dolor de cabeza. "
   ]
  },
  {
   "cell_type": "markdown",
   "metadata": {
    "slideshow": {
     "slide_type": "slide"
    }
   },
   "source": [
    "A pesar de estas divergencias (empezando por que\n",
    "caracter usar como separador de campos), es posible escribir un módulo\n",
    "que pueda maniputar de forma eficiente estos datos, ocultado al\n",
    "programador los detalles específicos de leer o escribir estos\n",
    "ficheros,"
   ]
  },
  {
   "cell_type": "markdown",
   "metadata": {
    "jupyter": {
     "source_hidden": true
    },
    "slideshow": {
     "slide_type": "slide"
    }
   },
   "source": [
    "El módulo csv permite escribir y leer estos archivos. El programador\n",
    "puede especificar, por ejemplo, \"escribe este archivo en el formato\n",
    "preferido por excel\", o \"lee este fichero como fuera de excel, pero\n",
    "usando el carácter `:` como separador de campos\". También nos\n",
    "permite definir nuestros propios formatos de uso particular, que el\n",
    "módulo denomina \"dialectos\"."
   ]
  },
  {
   "cell_type": "code",
   "execution_count": 2,
   "metadata": {
    "slideshow": {
     "slide_type": "slide"
    }
   },
   "outputs": [
    {
     "ename": "NameError",
     "evalue": "name 'f_inicio' is not defined",
     "output_type": "error",
     "traceback": [
      "\u001b[0;31m---------------------------------------------------------------------------\u001b[0m",
      "\u001b[0;31mNameError\u001b[0m                                 Traceback (most recent call last)",
      "\u001b[0;32m<ipython-input-2-1e555259d7be>\u001b[0m in \u001b[0;36m<module>\u001b[0;34m\u001b[0m\n\u001b[0;32m----> 1\u001b[0;31m \u001b[0mid\u001b[0m\u001b[0;34m,\u001b[0m \u001b[0mf_inicio\u001b[0m\u001b[0;34m,\u001b[0m \u001b[0mactivo\u001b[0m\u001b[0;34m,\u001b[0m \u001b[0mnombre\u001b[0m\u001b[0;34m,\u001b[0m \u001b[0mciudad\u001b[0m\u001b[0;34m\u001b[0m\u001b[0;34m\u001b[0m\u001b[0m\n\u001b[0m\u001b[1;32m      2\u001b[0m \u001b[0;36m123\u001b[0m\u001b[0;34m,\u001b[0m \u001b[0;36m2020\u001b[0m\u001b[0;34m-\u001b[0m\u001b[0;36m12\u001b[0m\u001b[0;34m-\u001b[0m\u001b[0;36m23\u001b[0m\u001b[0;34m,\u001b[0m \u001b[0mS\u001b[0m\u001b[0;34m,\u001b[0m \u001b[0;34m\"Juanito\"\u001b[0m\u001b[0;34m,\u001b[0m \u001b[0;34m\"La laguna\"\u001b[0m\u001b[0;34m\u001b[0m\u001b[0;34m\u001b[0m\u001b[0m\n\u001b[1;32m      3\u001b[0m \u001b[0;36m123\u001b[0m\u001b[0;34m,\u001b[0m \u001b[0;36m2020\u001b[0m\u001b[0;34m-\u001b[0m\u001b[0;36m12\u001b[0m\u001b[0;34m-\u001b[0m\u001b[0;36m23\u001b[0m\u001b[0;34m,\u001b[0m \u001b[0mN\u001b[0m\u001b[0;34m,\u001b[0m \u001b[0;34m\"Fulanito\"\u001b[0m\u001b[0;34m,\u001b[0m \u001b[0;34m\"Las Palmas\"\u001b[0m\u001b[0;34m\u001b[0m\u001b[0;34m\u001b[0m\u001b[0m\n\u001b[1;32m      4\u001b[0m \u001b[0;34m...\u001b[0m\u001b[0;34m\u001b[0m\u001b[0;34m\u001b[0m\u001b[0m\n\u001b[1;32m      5\u001b[0m \u001b[0;36m123\u001b[0m\u001b[0;34m,\u001b[0m \u001b[0;36m2020\u001b[0m\u001b[0;34m-\u001b[0m\u001b[0;36m12\u001b[0m\u001b[0;34m-\u001b[0m\u001b[0;36m23\u001b[0m\u001b[0;34m,\u001b[0m \u001b[0mN\u001b[0m\u001b[0;34m,\u001b[0m \u001b[0;34m\"Menganito, el hijo de \\\"Zutanita\\\"\"\u001b[0m\u001b[0;34m,\u001b[0m \u001b[0mIcod\u001b[0m\u001b[0;34m\u001b[0m\u001b[0;34m\u001b[0m\u001b[0m\n",
      "\u001b[0;31mNameError\u001b[0m: name 'f_inicio' is not defined"
     ]
    }
   ],
   "source": [
    "id, f_inicio, activo, nombre, ciudad\n",
    "123, 2020-12-23, S, \"Juanito\", \"La laguna\"\n",
    "123, 2020-12-23, N, \"Fulanito\", \"Las Palmas\"\n",
    "...\n",
    "123, 2020-12-23, N, \"Menganito, el hijo de \\\"Zutanita\\\"\", Icod"
   ]
  },
  {
   "cell_type": "markdown",
   "metadata": {
    "slideshow": {
     "slide_type": "slide"
    }
   },
   "source": [
    "### Contenido de este módulo"
   ]
  },
  {
   "cell_type": "markdown",
   "metadata": {
    "slideshow": {
     "slide_type": "slide"
    }
   },
   "source": [
    "Las dos funciones más usadas dentro de este módulo son `reader` y `writer`, usadas\n",
    "obviamente para leer y escribir desde un fichero csv. \n",
    "\n",
    "Las dos funciones aceptan como primer argumento un fichero abierto (o algo que se comporte\n",
    "de forma parecida, basicamente que tega un método `read` para leer y un `write` para\n",
    "escribir). Si trabajamos con ficheros, estos deben estar abiertos de la forma adecuada,\n",
    "es decir, 'r' para leer, 'w' o 'a' para escribir."
   ]
  },
  {
   "cell_type": "markdown",
   "metadata": {
    "slideshow": {
     "slide_type": "slide"
    }
   },
   "source": [
    "- La funcion `reader`\n",
    "\n",
    "Esta función nos devuelve un iterador, que irá devolviendo las distintas líneas del\n",
    "fichero. Las linea han sido procesadas, de forma que ya todos los problemas que nos\n",
    "podriamos encontrar están resueltos; los campos están separados, los campos que\n",
    "vengan entrecomillados has sido procesados y nos llegan como esperamos, etc."
   ]
  },
  {
   "cell_type": "code",
   "execution_count": 26,
   "metadata": {},
   "outputs": [
    {
     "name": "stdout",
     "output_type": "stream",
     "text": [
      "Par\n"
     ]
    }
   ],
   "source": [
    "num = 24\n",
    "if num % 2 == 0:\n",
    "    print(\"Par\")\n",
    "else:\n",
    "    print(\"Impar\")"
   ]
  },
  {
   "cell_type": "code",
   "execution_count": 30,
   "metadata": {},
   "outputs": [
    {
     "name": "stdout",
     "output_type": "stream",
     "text": [
      "1 Impar\n",
      "2 par\n",
      "3 Impar\n",
      "4 par\n",
      "5 Impar\n",
      "6 par\n",
      "7 Impar\n",
      "8 par\n",
      "9 Impar\n",
      "10 par\n",
      "11 Impar\n"
     ]
    }
   ],
   "source": [
    "for num in range(1, 12):\n",
    "    print(num, \"par\" if num % 2 == 0 else \"Impar\")"
   ]
  },
  {
   "cell_type": "code",
   "execution_count": 2,
   "metadata": {},
   "outputs": [
    {
     "name": "stdout",
     "output_type": "stream",
     "text": [
      "673702,Yologarch (Earth-616),\\/Yologarch_(Earth-616),,Bad Characters,,,,,Living Characters,,,l Characters,,,Male Characters,,Living Characters,,,cters,,,ters,,,aracters,,,al Characters,Living Characters,,,acters,,Mar-13,2013ers,,Oct-08,20088,2008979,Edward Lansky (Earth-616),\\/Edward_Lansky_(Earth-616),Public Identity,Neutral Characters,Brown Eyes,Brown Hair,Male Characters,,Living Characters,30,Dec-76,1976,13,Jul-66,1966ariable Hair,,,Living Characters,5,Jun-61,1961ers,,Living Characters,3,Jan-08,2008ers,,Deceased Characters,1,Sep-43,1943cters,,Living Characters,1,Feb-03,2003"
     ]
    }
   ],
   "source": [
    "!head marvel-wikia-data.csv"
   ]
  },
  {
   "cell_type": "code",
   "execution_count": 1,
   "metadata": {},
   "outputs": [
    {
     "name": "stdout",
     "output_type": "stream",
     "text": [
      "['page_id', 'name', 'urlslug', 'ID', 'ALIGN', 'EYE', 'HAIR', 'SEX', 'GSM', 'ALIVE', 'APPEARANCES', 'FIRST APPEARANCE', 'Year']\n",
      "['1678', 'Spider-Man (Peter Parker)', '\\\\/Spider-Man_(Peter_Parker)', 'Secret Identity', 'Good Characters', 'Hazel Eyes', 'Brown Hair', 'Male Characters', '', 'Living Characters', '4043', 'Aug-62', '1962']\n",
      "['7139', 'Captain America (Steven Rogers)', '\\\\/Captain_America_(Steven_Rogers)', 'Public Identity', 'Good Characters', 'Blue Eyes', 'White Hair', 'Male Characters', '', 'Living Characters', '3360', 'Mar-41', '1941']\n",
      "['64786', 'Wolverine (James \\\\\"Logan\\\\\" Howlett)', '\\\\/Wolverine_(James_%22Logan%22_Howlett)', 'Public Identity', 'Neutral Characters', 'Blue Eyes', 'Black Hair', 'Male Characters', '', 'Living Characters', '3061', 'Oct-74', '1974']\n",
      "['1868', 'Iron Man (Anthony \\\\\"Tony\\\\\" Stark)', '\\\\/Iron_Man_(Anthony_%22Tony%22_Stark)', 'Public Identity', 'Good Characters', 'Blue Eyes', 'Black Hair', 'Male Characters', '', 'Living Characters', '2961', 'Mar-63', '1963']\n",
      "['2460', 'Thor (Thor Odinson)', '\\\\/Thor_(Thor_Odinson)', 'No Dual Identity', 'Good Characters', 'Blue Eyes', 'Blond Hair', 'Male Characters', '', 'Living Characters', '2258', 'Nov-50', '1950']\n",
      "['2458', 'Benjamin Grimm (Earth-616)', '\\\\/Benjamin_Grimm_(Earth-616)', 'Public Identity', 'Good Characters', 'Blue Eyes', 'No Hair', 'Male Characters', '', 'Living Characters', '2255', 'Nov-61', '1961']\n",
      "['2166', 'Reed Richards (Earth-616)', '\\\\/Reed_Richards_(Earth-616)', 'Public Identity', 'Good Characters', 'Brown Eyes', 'Brown Hair', 'Male Characters', '', 'Living Characters', '2072', 'Nov-61', '1961']\n",
      "['1833', 'Hulk (Robert Bruce Banner)', '\\\\/Hulk_(Robert_Bruce_Banner)', 'Public Identity', 'Good Characters', 'Brown Eyes', 'Brown Hair', 'Male Characters', '', 'Living Characters', '2017', 'May-62', '1962']\n",
      "['29481', 'Scott Summers (Earth-616)', '\\\\/Scott_Summers_(Earth-616)', 'Public Identity', 'Neutral Characters', 'Brown Eyes', 'Brown Hair', 'Male Characters', '', 'Living Characters', '1955', 'Sep-63', '1963']\n",
      "['1837', 'Jonathan Storm (Earth-616)', '\\\\/Jonathan_Storm_(Earth-616)', 'Public Identity', 'Good Characters', 'Blue Eyes', 'Blond Hair', 'Male Characters', '', 'Living Characters', '1934', 'Nov-61', '1961']\n",
      "['15725', 'Henry McCoy (Earth-616)', '\\\\/Henry_McCoy_(Earth-616)', 'Public Identity', 'Good Characters', 'Blue Eyes', 'Blue Hair', 'Male Characters', '', 'Living Characters', '1825', 'Sep-63', '1963']\n"
     ]
    }
   ],
   "source": [
    "import csv\n",
    "\n",
    "with open('marvel-wikia-data.csv', 'r') as f:\n",
    "    reader = csv.reader(f)\n",
    "    for i, row in enumerate(reader):\n",
    "        print(row)\n",
    "        if i > 10:\n",
    "            break"
   ]
  },
  {
   "cell_type": "code",
   "execution_count": 31,
   "metadata": {
    "slideshow": {
     "slide_type": "slide"
    }
   },
   "outputs": [
    {
     "name": "stdout",
     "output_type": "stream",
     "text": [
      "\"Wolverine (James \"\"Logan\"\" Howlett)\" 1974\n"
     ]
    }
   ],
   "source": [
    "import csv\n",
    "\n",
    "csv.register_dialect('marvel', delimiter=',', quoting=csv.QUOTE_NONE, escapechar=\"\\\\\")\n",
    "\n",
    "filename = \"../../files/marvel-wikia-data.csv\"\n",
    "with open(filename, 'r') as f:\n",
    "    reader = csv.reader(f, dialect=\"marvel\")\n",
    "    next(reader)  # Ignorar la primera linea\n",
    "    for i, row in enumerate(reader):\n",
    "        year = int(row[-1] if row[-1] else 0)\n",
    "        if 1972 <= year <= 1974:\n",
    "            print(row[1], year)\n",
    "        if i == 24:\n",
    "            break\n",
    "            "
   ]
  },
  {
   "cell_type": "code",
   "execution_count": 7,
   "metadata": {},
   "outputs": [
    {
     "name": "stdout",
     "output_type": "stream",
     "text": [
      "page_id,name,urlslug,ID,ALIGN,EYE,HAIR,SEX,GSM,ALIVE,APPEARANCES,FIRST APPEARANCE,Year\n",
      "1678,Spider-Man (Peter Parker),\\/Spider-Man_(Peter_Parker),Secret Identity,Good Characters,Hazel Eyes,Brown Hair,Male Characters,,Living Characters,4043,Aug-62,1962\n",
      "7139,Captain America (Steven Rogers),\\/Captain_America_(Steven_Rogers),Public Identity,Good Characters,Blue Eyes,White Hair,Male Characters,,Living Characters,3360,Mar-41,1941\n",
      "64786,\"Wolverine (James \\\"\"Logan\\\"\" Howlett)\",\\/Wolverine_(James_%22Logan%22_Howlett),Public Identity,Neutral Characters,Blue Eyes,Black Hair,Male Characters,,Living Characters,3061,Oct-74,1974\n",
      "1868,\"Iron Man (Anthony \\\"\"Tony\\\"\" Stark)\",\\/Iron_Man_(Anthony_%22Tony%22_Stark),Public Identity,Good Characters,Blue Eyes,Black Hair,Male Characters,,Living Characters,2961,Mar-63,1963\n",
      "2460,Thor (Thor Odinson),\\/Thor_(Thor_Odinson),No Dual Identity,Good Characters,Blue Eyes,Blond Hair,Male Characters,,Living Characters,2258,Nov-50,1950\n",
      "2458,Benjamin Grimm (Earth-616),\\/Benjamin_Grimm_(Earth-616),Public Identity,Good Characters,Blue Eyes,No Hair,Male Characters,,Living Characters,2255,Nov-61,1961\n",
      "2166,Reed Richards (Earth-616),\\/Reed_Richards_(Earth-616),Public Identity,Good Characters,Brown Eyes,Brown Hair,Male Characters,,Living Characters,2072,Nov-61,1961\n",
      "1833,Hulk (Robert Bruce Banner),\\/Hulk_(Robert_Bruce_Banner),Public Identity,Good Characters,Brown Eyes,Brown Hair,Male Characters,,Living Characters,2017,May-62,1962\n",
      "29481,Scott Summers (Earth-616),\\/Scott_Summers_(Earth-616),Public Identity,Neutral Characters,Brown Eyes,Brown Hair,Male Characters,,Living Characters,1955,Sep-63,1963\n"
     ]
    }
   ],
   "source": [
    "!head ../../files/marvel-wikia-data.csv"
   ]
  },
  {
   "cell_type": "markdown",
   "metadata": {
    "slideshow": {
     "slide_type": "slide"
    }
   },
   "source": [
    "**Ejercicio**: Usar el fichero del ejemplo anterior y listar todos los personajes de\n",
    "    marvel creados en la decada de los 70 (De 1971 a 1980)"
   ]
  },
  {
   "cell_type": "code",
   "execution_count": 6,
   "metadata": {},
   "outputs": [
    {
     "name": "stdout",
     "output_type": "stream",
     "text": [
      "673702,Yologarch (Earth-616),\\/Yologarch_(Earth-616),,Bad Characters,,,,,Living Characters,,,l Characters,,,Male Characters,,Living Characters,,,cters,,,ters,,,aracters,,,al Characters,Living Characters,,,acters,,Mar-13,2013ers,,Oct-08,20088,2008979Blue Eyes,Blond Hair,Female Characters,,Living Characters,14,Jul-79,1979(Earth-616),Public Identity,,,,Male Characters,,Living Characters,6,Jun-95,1995 Brushov (Earth-616),\\/Yuri_Brushov_(Earth-616),No Dual Identity,Bad Characters,,Brown Hair,Male Characters,,Living Characters,3,Aug-67,19678e (Earth-616),\\/Doctor_Luville_(Earth-616),Public Identity,Bad Characters,,Black Hair,Male Characters,,Deceased Characters,1,Sep-44,1944-75,1975Living Characters,1,Jan-00,2000ov-92,1992"
     ]
    }
   ],
   "source": [
    "!head ../files/marvel-wikia-data.csv"
   ]
  },
  {
   "cell_type": "markdown",
   "metadata": {
    "slideshow": {
     "slide_type": "slide"
    }
   },
   "source": [
    "La funcion `writer` se usa de forma similar,a hora con un fichero abierto para escribir:\n",
    "\n",
    "Y uno de escritura:"
   ]
  },
  {
   "cell_type": "code",
   "execution_count": 33,
   "metadata": {
    "slideshow": {
     "slide_type": "slide"
    }
   },
   "outputs": [],
   "source": [
    "import csv\n",
    "datos = [\n",
    "    ('Leonardo', 'Azul', 1452),\n",
    "    ('Raphael', 'Rojo', 1483),\n",
    "    ('Michelangelo', 'Naranja', 1475),\n",
    "    ('Donatello', 'Violeta', 1386),\n",
    "    ]\n",
    "with open('ninja-turtles.csv', 'w') as f:\n",
    "    writer = csv.writer(f)\n",
    "    writer.writerows(datos)"
   ]
  },
  {
   "cell_type": "code",
   "execution_count": 34,
   "metadata": {},
   "outputs": [
    {
     "name": "stdout",
     "output_type": "stream",
     "text": [
      "Leonardo,Azul,1452\n",
      "Raphael,Rojo,1483\n",
      "Michelangelo,Naranja,1475\n",
      "Donatello,Violeta,1386\n"
     ]
    }
   ],
   "source": [
    "!cat ninja-turtles.csv"
   ]
  },
  {
   "cell_type": "markdown",
   "metadata": {},
   "source": [
    "**Ejercicio**: El fichero anterior estaria mejor si tuviera una primera fila con\n",
    "los nombres de las columnas (p.e. `name`, `colour`, `year`). Modificar el código\n",
    "para incluir este primera fila"
   ]
  },
  {
   "cell_type": "code",
   "execution_count": null,
   "metadata": {},
   "outputs": [],
   "source": []
  }
 ],
 "metadata": {
  "celltoolbar": "Slideshow",
  "kernelspec": {
   "display_name": "Python 3",
   "language": "python",
   "name": "python3"
  },
  "language_info": {
   "codemirror_mode": {
    "name": "ipython",
    "version": 3
   },
   "file_extension": ".py",
   "mimetype": "text/x-python",
   "name": "python",
   "nbconvert_exporter": "python",
   "pygments_lexer": "ipython3",
   "version": "3.8.5"
  }
 },
 "nbformat": 4,
 "nbformat_minor": 4
}
