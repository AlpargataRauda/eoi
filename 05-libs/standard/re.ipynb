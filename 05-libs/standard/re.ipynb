{
 "cells": [
  {
   "cell_type": "markdown",
   "metadata": {
    "slideshow": {
     "slide_type": "slide"
    }
   },
   "source": [
    "### La librería re - Expresiones regulares\n",
    "\n",
    "La librería **`re`** permite trabajar con expresiones regulares."
   ]
  },
  {
   "cell_type": "markdown",
   "metadata": {
    "slideshow": {
     "slide_type": "slide"
    }
   },
   "source": [
    "Una expresión regular viene a definir un conjunto de cadenas de texto que\n",
    "cumplen un determinado patrón. Si una cadena de texto pertenece al conjunto de\n",
    "posibles cadenas definidas por la expresión, se dice que *casan* o que ha habido\n",
    "una coincidencia o *match*."
   ]
  },
  {
   "cell_type": "markdown",
   "metadata": {
    "slideshow": {
     "slide_type": "slide"
    }
   },
   "source": [
    "Las expresiones regulares se crean combinando expresiones regulares más\n",
    "pequeñas (o primitivas)."
   ]
  },
  {
   "cell_type": "markdown",
   "metadata": {
    "slideshow": {
     "slide_type": "slide"
    }
   },
   "source": [
    "La cadena que define una expresión regular puede incluir caractereres\n",
    "__normales__ o __especiales__. "
   ]
  },
  {
   "cell_type": "markdown",
   "metadata": {
    "slideshow": {
     "slide_type": "slide"
    }
   },
   "source": [
    "Los caracteres normales solo casan consigo mismo. Por ejemplo, la expresión\n",
    "regular `a` solo casaría con una a."
   ]
  },
  {
   "cell_type": "markdown",
   "metadata": {
    "slideshow": {
     "slide_type": "slide"
    }
   },
   "source": [
    "Los especiales, como `|` o `.` tienen otros significados; o bien definen\n",
    "conjuntos de caracteres o modifican a las expresiones regulares adyacentes."
   ]
  },
  {
   "cell_type": "markdown",
   "metadata": {
    "slideshow": {
     "slide_type": "slide"
    }
   },
   "source": [
    "Algunos caracteres con significados especiales son:\n",
    "\n",
    "| Caracter | Casa con                                                        |\n",
    "|---------:|-----------------------------------------------------------------|\n",
    "| `.`      | Cualquier caracter                                              |\n",
    "| `^`      | El principio de una string                                      | \n",
    "| `$`      | El final de una string                                          |\n",
    "| `*`      | La expresión regular anterior, repetida 0 o más veces           |\n",
    "| `+`      | La expresión regular anterior, repetida 1 o más veces           |\n",
    "| `?`      | La expresión regular anterior, 0 o 1 vez                        |\n",
    "| `{n}`    | La expresión regular anterior, repetida n veces                 |\n",
    "| `{m,n}`  | La expresión regular anterior, repetida entre m y n veces       |\n",
    "| `\\`      | \"Escapa\" el significado del caracter a continuación             |\n",
    "| `|`      | Alernancia entre patrones: `A|B` casa con A o con B             |\n",
    "| `[...]`  | El conjunto de caracteres definido entre los corchetes          |"
   ]
  },
  {
   "cell_type": "markdown",
   "metadata": {
    "slideshow": {
     "slide_type": "slide"
    }
   },
   "source": [
    "En un conjunto Los caracteres se pueden listar individualmente, como por\n",
    "ejemplo, `[abc]`, que casa con cualquiera de los caracteres `a`, `b` o `c`.\n",
    "También se pueden espcificar rangos de caracteres, usado el guión para separar\n",
    "los límites, por ejemplo `[a-z]` casa con cualquier letra minúsucula, `[0-9]`\n",
    "casa con cualquier dígito. Los caracteres especiales pierden su significado\n",
    "dentro de los corchetes, por lo que no hace falta escaparlos."
   ]
  },
  {
   "cell_type": "markdown",
   "metadata": {
    "slideshow": {
     "slide_type": "slide"
    }
   },
   "source": [
    "Se puede definir el __complemento del conjunto__ incluyendo como primer\n",
    "caracter `^`. De esta forma, la expresión regular `[^59]` casa con\n",
    "cualquier caracter, excepto con los dígitos `5` y `9`."
   ]
  },
  {
   "cell_type": "markdown",
   "metadata": {
    "slideshow": {
     "slide_type": "slide"
    }
   },
   "source": [
    "El uso de expresiones regulares es tremendamente potente y complejo, y\n",
    "hay varios libros dedicados al tema."
   ]
  },
  {
   "cell_type": "markdown",
   "metadata": {
    "slideshow": {
     "slide_type": "slide"
    }
   },
   "source": [
    "**Ejercicio**: Expresiones regulares para encontrar matrículas de coche.\n",
    "\n",
    "Escribir una expresión regular para detectar matrículas de coches\n",
    "españolas.\n",
    "\n",
    "Según el siguiente texto, que describen en el sistema de matriculación\n",
    "vigente actualmente en España:\n",
    "\n",
    "> El 18 de septiembre del año 2000 entró en vigor el nuevo sistema de\n",
    "> matriculación en españa, introduciendo matrículas que constan de cuatro\n",
    "> dígitos y tres letras consonantes, suprimiéndose las cinco vocales y las\n",
    "> letras Ñ, Q, CH y LL. \\[...\\] Si el vehículo es histórico, y se ha\n",
    "> matriculado con una placa de nuevo formato, aparece primero una letra H\n",
    "> en la placa.\n",
    "\n",
    "El siguiente código lista las matrículas encontradas en el texto:\n",
    "\n",
    "    import re\n",
    "\n",
    "    Texto = '''INSTRUIDO por accidente de circulación ocurrido a las 09:43\n",
    "    entre la motocicleta HONDA 500, matrícula 0765-BBC  y la\n",
    "    motocicleta HARLEY-DAVIDSON , matrícula 9866-LPX, en el punto\n",
    "    kilométrico 3.5 de la carretera general del sur, término municipal de\n",
    "    Arona, Tenerife, y bla, bla, bla...'''\n",
    "\n",
    "    patron = re.compile('H?[0-9]{4}-?[BCDFGHJKLMNPRSTVWXYZ]{3}', re.IGNORECASE)\n",
    "    for matricula in patron.findall(Texto):\n",
    "        print(matricula)\n",
    "\n",
    "    0765-BBC\n",
    "    9866-LPX\n",
    "\n",
    "**Solución** \n",
    "\n",
    "El patrón usado es el siguiente:\n",
    "\n",
    "    H?\\[0-9\\]{4}-?\\[BCDFGHJKLMNPRSTVWXYZ\\]{3}\n",
    "    \n",
    "Es verdad qye Visto así puede asustar un poco, pero solo es cosa de verlo por\n",
    "por partes:\n",
    "\n",
    "- `H?` : Una `H`. Pero como la sigue una interrogación, es opcional.\n",
    "    Recuerdese que `?` se interpreta como la expresión regular anterior\n",
    "    (en este caso la H), 0 o 1 vez.\n",
    "\n",
    "- `[0-9]{4}` : El conjunto de los caracteres del `0` al `9` (`[0-9]`), o\n",
    "    lo que es lo mismo, cualquier dígito, repetido 4 veces (`{4}`), es\n",
    "    decir, un número de cuatro dígitos.\n",
    "\n",
    "-  `-?` : Un guión, opcional, igual que la H para vehículos históricos\n",
    "    del principio\n",
    "\n",
    "-   `[BCDFGHJKLMNPRSTVWXYZ\\]`{3} : Cualquiera de los caracteres del\n",
    "    conjunto indicado (letras consonantes excepto la Ñ, Q, CH y LL)\n",
    "    repetido 3 veces."
   ]
  },
  {
   "cell_type": "code",
   "execution_count": 1,
   "metadata": {},
   "outputs": [],
   "source": [
    "import re"
   ]
  },
  {
   "cell_type": "code",
   "execution_count": 27,
   "metadata": {},
   "outputs": [],
   "source": [
    "\n",
    "\n",
    "pat_a = re.compile(r\"manch[aeiou]\")\n",
    "\n"
   ]
  },
  {
   "cell_type": "code",
   "execution_count": 30,
   "metadata": {},
   "outputs": [],
   "source": [
    "text = \"En un lugar de la mancha yo mancho, manche\""
   ]
  },
  {
   "cell_type": "code",
   "execution_count": 31,
   "metadata": {},
   "outputs": [
    {
     "data": {
      "text/plain": [
       "['mancha', 'mancho', 'manche']"
      ]
     },
     "execution_count": 31,
     "metadata": {},
     "output_type": "execute_result"
    }
   ],
   "source": [
    "pat_a.findall(text)"
   ]
  },
  {
   "cell_type": "code",
   "execution_count": 37,
   "metadata": {},
   "outputs": [
    {
     "data": {
      "text/plain": [
       "['aaaaaaaaab', 'aaaaa']"
      ]
     },
     "execution_count": 37,
     "metadata": {},
     "output_type": "execute_result"
    }
   ],
   "source": [
    "pat_a_plus = re.compile(r\"a+b*\")\n",
    "\n",
    "texto = \"Moreraaaaaaaaabaaaaa\"\n",
    "\n",
    "pat_a_plus.findall(texto)"
   ]
  },
  {
   "cell_type": "code",
   "execution_count": 41,
   "metadata": {},
   "outputs": [
    {
     "data": {
      "text/plain": [
       "['morerx']"
      ]
     },
     "execution_count": 41,
     "metadata": {},
     "output_type": "execute_result"
    }
   ],
   "source": [
    "pat_a_plus = re.compile(r\"morer.*\")\n",
    "\n",
    "texto = \"morer\"\n",
    "\n",
    "pat_a_plus.findall(texto)"
   ]
  },
  {
   "cell_type": "code",
   "execution_count": 42,
   "metadata": {},
   "outputs": [
    {
     "data": {
      "text/plain": [
       "['morerrrrrrrrrrra']"
      ]
     },
     "execution_count": 42,
     "metadata": {},
     "output_type": "execute_result"
    }
   ],
   "source": [
    "pat_a_plus = re.compile(r\"morer+.*\")\n",
    "\n",
    "texto = \"morerrrrrrrrrrra\"\n",
    "\n",
    "pat_a_plus.findall(texto)"
   ]
  },
  {
   "cell_type": "code",
   "execution_count": 44,
   "metadata": {},
   "outputs": [],
   "source": [
    "import os"
   ]
  },
  {
   "cell_type": "code",
   "execution_count": 51,
   "metadata": {},
   "outputs": [
    {
     "name": "stdout",
     "output_type": "stream",
     "text": [
      "collections.ipynb\n",
      "compression.ipynb\n",
      "argparse.ipynb\n",
      "csv.ipynb\n"
     ]
    }
   ],
   "source": [
    "import re\n",
    "\n",
    "pat_notebook = re.compile(\"^[ac].*\\.ipynb$\")\n",
    "for fn in os.listdir():\n",
    "    if pat_notebook.search(fn):\n",
    "        print(fn)\n",
    "    "
   ]
  },
  {
   "cell_type": "code",
   "execution_count": 59,
   "metadata": {},
   "outputs": [],
   "source": [
    "pat_varname = re.compile(\"^[A-Za-z_][A-Za-z_0-9]*\")\n"
   ]
  },
  {
   "cell_type": "code",
   "execution_count": 69,
   "metadata": {},
   "outputs": [
    {
     "name": "stdout",
     "output_type": "stream",
     "text": [
      "_ True\n",
      "_a True\n",
      "abc True\n",
      "anc23 True\n",
      "23a False\n",
      "€ False\n",
      "____ True\n"
     ]
    }
   ],
   "source": [
    "def is_valid(name):\n",
    "    if pat_varname.match(name):\n",
    "        return True\n",
    "    return False\n",
    "\n",
    "names = [\"_\", \"_a\", \"abc\", \"anc23\", \"23a\", \"€\", \"____\"]\n",
    "for name in names:\n",
    "    print(name, is_valid(name))\n"
   ]
  },
  {
   "cell_type": "code",
   "execution_count": null,
   "metadata": {},
   "outputs": [],
   "source": [
    "Patron: 8 digitos seguidos de una letra muyuscula\n",
    "\n",
    "\n",
    "43478329W  T\n",
    "434783294W  Err\n",
    "4347834W  Err\n",
    "43783294  Err\n",
    "W33783294  Err"
   ]
  }
 ],
 "metadata": {
  "celltoolbar": "Slideshow",
  "kernelspec": {
   "display_name": "Python 3",
   "language": "python",
   "name": "python3"
  },
  "language_info": {
   "codemirror_mode": {
    "name": "ipython",
    "version": 3
   },
   "file_extension": ".py",
   "mimetype": "text/x-python",
   "name": "python",
   "nbconvert_exporter": "python",
   "pygments_lexer": "ipython3",
   "version": "3.6.9"
  }
 },
 "nbformat": 4,
 "nbformat_minor": 4
}
