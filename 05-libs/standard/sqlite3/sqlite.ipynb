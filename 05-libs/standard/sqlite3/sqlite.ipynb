{
 "cells": [
  {
   "cell_type": "markdown",
   "metadata": {},
   "source": [
    "## La librería sqlite3\n",
    "\n",
    "SQLite en general, es una base de datos _server-less_ que se puede utilizar en\n",
    "casi todos los lenguajes de programación, incluido Python. Con _server-less_ \n",
    "se quiere indicar que no hay necesidad de instalar un servidor separado para\n",
    "trabajar con SQLite.\n",
    "\n",
    "La librería sqlite de pYthon nos permite conectarnos y usar este sistema\n",
    "gestor de base de datos desde Python."
   ]
  },
  {
   "cell_type": "markdown",
   "metadata": {},
   "source": [
    "### Crear una conexión\n",
    "\n",
    "El primer paso, como siempre,es importar el módulo sqlite3:"
   ]
  },
  {
   "cell_type": "code",
   "execution_count": 1,
   "metadata": {},
   "outputs": [],
   "source": [
    "import sqlite3"
   ]
  },
  {
   "cell_type": "markdown",
   "metadata": {},
   "source": [
    "Luego, **crearemos una conexión** a la base de datos llamando a la función `connect()`. Como\n",
    "parámetro, tenemos que pasarle el nombre del fichero donde está (o estará, si es la primera vez que\n",
    "nos conectamos) la base de datos:"
   ]
  },
  {
   "cell_type": "code",
   "execution_count": 5,
   "metadata": {},
   "outputs": [],
   "source": [
    "import sqlite3\n",
    "\n",
    "con = sqlite3.connect('database.db')"
   ]
  },
  {
   "cell_type": "code",
   "execution_count": 7,
   "metadata": {},
   "outputs": [
    {
     "name": "stdout",
     "output_type": "stream",
     "text": [
      "total 88K\n",
      "   0 -rw-r--r-- 1 jileon jileon    0 Oct 22 16:38 database.db\n",
      " 20K -rw-r--r-- 1 jileon jileon  20K Oct 21 15:18 ejemplo.db\n",
      "8,0K -rw-r--r-- 1 jileon jileon 8,0K Oct 21 15:01 mydatabase.db\n",
      " 28K -rw-rw-r-- 1 jileon jileon  28K Oct 21 15:01 sqlite3.md\n",
      "8,0K -rw-rw-r-- 1 jileon jileon 6,9K Mar 22  2020 sqlite3.rst\n",
      " 24K -rw-rw-r-- 1 jileon jileon  23K Oct 22 16:38 sqlite.ipynb\n"
     ]
    }
   ],
   "source": [
    "!ls -lsh"
   ]
  },
  {
   "cell_type": "markdown",
   "metadata": {},
   "source": [
    "Si es la primera vez que nos conectamos, sqlite crea una base de datos nueva\n",
    "y la almacena en el fichero indicado; en este ejemplo `database.db`.\n",
    "\n",
    "**Ejercicio**: Crear una base de datos llamada `ejemplo.db`"
   ]
  },
  {
   "cell_type": "code",
   "execution_count": 8,
   "metadata": {},
   "outputs": [],
   "source": [
    "import sqlite3\n",
    "\n",
    "con = sqlite3.connect('ejemplo.db')"
   ]
  },
  {
   "cell_type": "markdown",
   "metadata": {},
   "source": [
    "### Cursores\n",
    "\n",
    "Para trabajar con los datos en una base de datos relacional se utilizan **sentencias\n",
    "SQL**. Para ejecutar dichas sentencias, se necesita un objeto `cursor`. Puedes\n",
    "crearlo utilizando el método `cursor()` de la conexion.\n",
    "\n",
    "Para ejecutar sentencias de SQLite3, primero se establece una conexión y luego\n",
    "se crea un objeto cursor utilizando el método `cursor` del objeto de conexión:"
   ]
  },
  {
   "cell_type": "code",
   "execution_count": null,
   "metadata": {},
   "outputs": [],
   "source": [
    "con = sqlite3.connect('ejemplo.db')\n",
    "cursor = con.cursor()"
   ]
  },
  {
   "cell_type": "markdown",
   "metadata": {},
   "source": [
    "Ahora podemos usar el objeto `cursor` para llamar a su método `execute()`\n",
    "para ejecutar cualquier consulta SQL."
   ]
  },
  {
   "cell_type": "markdown",
   "metadata": {},
   "source": [
    "#### Crear una base de datos en RAM\n",
    "\n",
    "Cuando creas una conexión con SQLite, un archivo de base de datos se crea\n",
    "automáticamente si no existe ya. Este archivo de base de datos se crea en el\n",
    "disco, ademas, también podemos crear una base de datos en la RAM usando el\n",
    "nombre especial `:memory:` como parametro de la función de conexión. Esta base\n",
    "de datos se llama base de datos en memoria."
   ]
  },
  {
   "cell_type": "markdown",
   "metadata": {},
   "source": [
    "### Crear una tabla\n",
    "\n",
    "Para crear una tabla en SQLite3, puede usar la sentencia `CREATE TABLE` en el\n",
    "método `execute()`. \n",
    "Veamos el siguiente ejemplo:\n",
    "\n"
   ]
  },
  {
   "cell_type": "code",
   "execution_count": 13,
   "metadata": {},
   "outputs": [],
   "source": [
    "import sqlite3\n",
    "\n",
    "con = sqlite3.connect('ejemplo.db')\n",
    "cur = con.cursor()\n",
    "cur.execute(\"\"\"\n",
    "    CREATE TABLE employee (\n",
    "        id integer PRIMARY KEY,\n",
    "        name text,\n",
    "        salary real\n",
    "        )\n",
    "    \"\"\")\n",
    "con.commit()"
   ]
  },
  {
   "cell_type": "markdown",
   "metadata": {},
   "source": [
    "Para verificar si nuestra tabla está creada, puedes utilizar el navegador de la\n",
    "base de datos de sqlite para ver tu tabla. Abre tu archivo `ejemplo.db` con\n",
    "este programa y deberías ver tu tabla:"
   ]
  },
  {
   "cell_type": "code",
   "execution_count": 15,
   "metadata": {},
   "outputs": [
    {
     "name": "stdout",
     "output_type": "stream",
     "text": [
      "-rw-r--r-- 1 jileon jileon 8,0K Oct 22 16:57 ejemplo.db\n"
     ]
    }
   ],
   "source": [
    "!ls -lah ejemplo.db"
   ]
  },
  {
   "cell_type": "markdown",
   "metadata": {},
   "source": [
    "### Insertar en una tabla\n",
    "\n",
    "Para insertar datos en una tabla, usamos la sentencia `INSERT INTO`."
   ]
  },
  {
   "cell_type": "code",
   "execution_count": 53,
   "metadata": {},
   "outputs": [],
   "source": [
    "con = sqlite3.connect('ejemplo.db')\n",
    "cur = con.cursor()\n",
    "cur.execute(\"\"\"\n",
    "    INSERT INTO employee (id, name, salary)\n",
    "    VALUES (4, 'Lex Luthor', 1750000.00)\n",
    "    \"\"\")\n",
    "con.commit()"
   ]
  },
  {
   "cell_type": "markdown",
   "metadata": {},
   "source": [
    "Podemos verificar que se han insertado los datos con el navegador o con el siguiente programa:"
   ]
  },
  {
   "cell_type": "markdown",
   "metadata": {},
   "source": [
    "### Consultar datos de una tabla"
   ]
  },
  {
   "cell_type": "code",
   "execution_count": 65,
   "metadata": {},
   "outputs": [
    {
     "name": "stdout",
     "output_type": "stream",
     "text": [
      "(22, 'Robert Millhouse', 54000.0)\n",
      "(1, 'John Smith', 75000.0)\n",
      "(2, 'Clark Kent', 175000.0)\n",
      "(4, 'Lex Luthor', 1750000.0)\n",
      "(3, 'Bruce Wayne', 1750000.0)\n"
     ]
    }
   ],
   "source": [
    "import sqlite3\n",
    "\n",
    "con = sqlite3.connect('ejemplo.db')\n",
    "cur = con.cursor()\n",
    "cur.execute(\"SELECT * FROM employee ORDER BY salary ASC, name DESC\")\n",
    "\n",
    "for row in cur.fetchall():\n",
    "    print(row)"
   ]
  },
  {
   "cell_type": "code",
   "execution_count": null,
   "metadata": {},
   "outputs": [],
   "source": [
    "SELECT * \n",
    "  FROM tabla, taqbla2\n",
    " WHERE predicado\n",
    " ORDER BY \n",
    "    \n",
    "    "
   ]
  },
  {
   "cell_type": "markdown",
   "metadata": {},
   "source": [
    "### Pasar argumentos a la sentencia SQL\n",
    "\n",
    "Podemos pasar valores / argumentos a las sentencias INSERT en el método `execute ()`. \n",
    "Se usa el signo de interrogación como un indicador por posicion de cada argumento. Luego\n",
    "hay que añadir como segundo parametro, sdespues de la sentencia SQL, una tupla\n",
    "con tantos valores como argumentos hayamos declarado en la sentencia.\n",
    "\n",
    "Como siempre, se ve mejor con un ejemplo:"
   ]
  },
  {
   "cell_type": "code",
   "execution_count": 56,
   "metadata": {},
   "outputs": [],
   "source": [
    "import sqlite3\n",
    "    \n",
    "con = sqlite3.connect('ejemplo.db')\n",
    "cur = con.cursor()\n",
    "user_id = 22\n",
    "user_name = \"Robert Mill\"\n",
    "user_salary = 54000.00\n",
    "cur.execute(\"\"\"\n",
    "    INSERT INTO employee (id, name, salary)\n",
    "    VALUES (?, ?, ?)\n",
    "    \"\"\", (user_id, user_name, user_salary))\n",
    "con.commit()"
   ]
  },
  {
   "cell_type": "markdown",
   "metadata": {},
   "source": [
    "### Actualizar una tabla\n",
    "\n",
    "Para actualizar valores en una tabla se usa la\n",
    "sentencia `UPDATE` dentro del método `execute()`.\n",
    "\n",
    "Supongamos que queremos actualizar el nombre del empleado cuyo Id es igual a 2 y que\n",
    "insertamos en el ejemplo amnteror. **Importante** **Pero Mucho** Tenemos que usaren la sentencia\n",
    "un `WHERE` como condición para seleccionar a este empleado, si no, se\n",
    "modificarían todos los empleados de la tabla.\n",
    "\n",
    "Veamos el ejemplo:"
   ]
  },
  {
   "cell_type": "code",
   "execution_count": 64,
   "metadata": {},
   "outputs": [],
   "source": [
    "import sqlite3\n",
    "\n",
    "con = sqlite3.connect('ejemplo.db')\n",
    "cur = con.cursor()\n",
    "user_id = 22\n",
    "new_name = \"Robert Millhouse\"\n",
    "cur.execute(\"\"\"\n",
    "    UPDATE employee\n",
    "       SET name = ?\n",
    "     WHERE id = ?\n",
    "    \"\"\", (new_name, user_id))\n",
    "con.commit()"
   ]
  },
  {
   "cell_type": "markdown",
   "metadata": {},
   "source": [
    "### Hacer consultas\n",
    "\n",
    "#### La Sentencia `SELECT`\n",
    "\n",
    "La sentencia `SELECT` se usa para seleccionar datos de una tabla en particular.\n",
    "Si deseas seleccionar todas las columnas de los datos de una tabla, puede usar\n",
    "el asterisco (*). La sintaxis para esto seria la siguiente:\n",
    "\n",
    "\n",
    "    SELECT * FROM <table_name>\n",
    "\n",
    "\n",
    "En SQLite3, ejecutamos la instrucción `SELECT` usando el método `execute` del \n",
    "cursor. Por ejemplo para obtener todas las columnas de la tabla de empleados,\n",
    "ejecutariamos el siguiente código:\n",
    "\n",
    "    SELECT * FROM employee\n",
    "\n",
    "Si deseas seleccionar algunas columnas de una tabla solamente, especifica las\n",
    "columnas de la siguiente manera:\n",
    "\n",
    "    SELECT <column1>[, <column2>] FROM <table_name>\n",
    "\n",
    "Por ejemplo:\n",
    "\n",
    "    SELECT id, name FROM employee\n",
    "\n",
    "\n",
    "La sentencia select realiza la búsqueda de los datos requeridos desde la \n",
    "tabla de la base de datos y a continuación, para obtener los datos \n",
    "seleccionados, podemos utilizar el método `fetchall()` del cursor, que nos\n",
    "devolvería todos los registros encontrador (En este caso, como no hay clausula\n",
    "`WHERE`, todos). Veamos el siguiente eejmplo:\n",
    "\n",
    "    con = sqlite3.connect('ejemplo.db')\n",
    "    cur = con.cursor()\n",
    "    cur.execute('SELECT * FROM employee')\n",
    "    rows = cur.fetchall()\n",
    "    for row in rows:\n",
    "        print(row)\n",
    "\n",
    "\n",
    "\n",
    "Obtener todos los datos\n",
    "También puede usar el fetchall () en una línea de la siguiente manera:\n",
    "\n",
    "[print(row) for row in cursorObj.fetchall()]\n",
    "\n",
    "Si deseas obtener datos específicos de la base de datos, puede utilizar la cláusula WHERE. Por ejemplo, queremos obtener los ids y los nombres de aquellos empleados cuyo salario es superior a 800. Para esto, llenemos nuestra tabla con más filas y luego ejecutemos nuestra consulta.\n",
    "\n",
    "Ejemplo de conuslta: para obtener los ids y los nombres de aquellos empleados que tienen un salario superior a 60000:"
   ]
  },
  {
   "cell_type": "code",
   "execution_count": 20,
   "metadata": {},
   "outputs": [
    {
     "name": "stdout",
     "output_type": "stream",
     "text": [
      "(1, 'John Smith')\n"
     ]
    }
   ],
   "source": [
    "import sqlite3\n",
    "\n",
    "con = sqlite3.connect('ejemplo.db')\n",
    "cur = con.cursor()\n",
    "cur.execute('SELECT id, name FROM employee WHERE salary > 60000.0')\n",
    "rows = cur.fetchall()\n",
    "for row in rows:\n",
    "    print(row)"
   ]
  },
  {
   "cell_type": "markdown",
   "metadata": {},
   "source": [
    "En la sentencia SELECT anterior, en lugar de usar el asterisco (*), especificamos los atributos id y name. El resultado se muestra a continuación:\n",
    "\n",
    "Select where clause\n",
    " "
   ]
  },
  {
   "cell_type": "markdown",
   "metadata": {},
   "source": [
    "### SQLite3 rowcount\n",
    "\n",
    "El SQLite3 `rowcount` es una propiedad de los cursores que sirve para devolver el número de filas afectadas o insertadas por la última consulta SQL ejecutada. Cuando utilizamos el conteo de de filas con la sentencia SELECT, devolverá -1."
   ]
  },
  {
   "cell_type": "markdown",
   "metadata": {},
   "source": [
    "Por lo tanto, para obtener el conteo de filas, debes obtener todos los datos y luego obtener la longitud del resultado:"
   ]
  },
  {
   "cell_type": "code",
   "execution_count": 31,
   "metadata": {},
   "outputs": [
    {
     "name": "stdout",
     "output_type": "stream",
     "text": [
      "2\n"
     ]
    }
   ],
   "source": [
    "import sqlite3\n",
    "\n",
    "con = sqlite3.connect('ejemplo.db')\n",
    "cur = con.cursor()\n",
    "cur.execute('SELECT * FROM employee')\n",
    "rows = list(cur.fetchall())\n",
    "print(len(rows))"
   ]
  },
  {
   "cell_type": "markdown",
   "metadata": {},
   "source": [
    "Cuando la instrucción DELETE se utiliza sin ninguna condición (una sentencia WHERE), todas las filas de la tabla se eliminarán y el número total de filas eliminadas se devolverá por conteo de filas."
   ]
  },
  {
   "cell_type": "markdown",
   "metadata": {},
   "source": [
    "print(cursorObj.execute('DELETE FROM employees').rowcount)"
   ]
  },
  {
   "cell_type": "markdown",
   "metadata": {},
   "source": [
    "Si no se borra ninguna fila, devolverá 0."
   ]
  },
  {
   "cell_type": "markdown",
   "metadata": {},
   "source": [
    "### Listar tablas\n",
    "\n",
    "Para enumerar todas las tablas en una base de datos SQLite3, puedes consultar la tabla `sqlite_master` y luego usar fetchall() para obtener los resultados de la sentencia `SELECT`. El sqlite_master es la tabla maestra en SQLite3 que almacena informacion de la propia base de datos."
   ]
  },
  {
   "cell_type": "code",
   "execution_count": 74,
   "metadata": {},
   "outputs": [
    {
     "name": "stdout",
     "output_type": "stream",
     "text": [
      "table employee\n",
      "table project\n"
     ]
    }
   ],
   "source": [
    "import sqlite3\n",
    "\n",
    "con = sqlite3.connect('ejemplo.db')\n",
    "\n",
    "curr = con.cursor()\n",
    "cur.execute('SELECT type, name from sqlite_master')\n",
    "for (_type,  name) in cur.fetchall():\n",
    "    print(_type, name)"
   ]
  },
  {
   "cell_type": "markdown",
   "metadata": {},
   "source": [
    "### Comprobar si una tabla existe o no\n",
    "\n",
    "Al crear una tabla, puede darnos un error si no nos asegurarnos previamente de que la tabla no exista. Del mismo modo, al eliminarla, esta deberia existir o en caso contrario se produce un error. Para evitarnos tener que hacer estas verificaciones previas existe la clausula `if not exists` en la sentencia `CREATE TABLE`:\n",
    "\n",
    "    create table if not exists table_name (column1, column2, …, columnN)\n",
    "    \n",
    "Por ejemplo:"
   ]
  },
  {
   "cell_type": "code",
   "execution_count": 71,
   "metadata": {},
   "outputs": [],
   "source": [
    "import sqlite3\n",
    "con = sqlite3.connect('ejemplo.db')\n",
    "cur = con.cursor()\n",
    "cur.execute('create table if not exists project(id integer PRIMARY KEY, name text)')\n",
    "con.commit()"
   ]
  },
  {
   "cell_type": "markdown",
   "metadata": {},
   "source": [
    "Igualmente, para evitarnos problemas al eliminar una table, podemos usar `if exists` con `DROP TABLE`:\n",
    "\n",
    "    drop table if exists table_name\n",
    "    \n",
    "Por ejemplo:"
   ]
  },
  {
   "cell_type": "code",
   "execution_count": 73,
   "metadata": {},
   "outputs": [
    {
     "data": {
      "text/plain": [
       "<sqlite3.Cursor at 0x7ff7c72c25e0>"
      ]
     },
     "execution_count": 73,
     "metadata": {},
     "output_type": "execute_result"
    }
   ],
   "source": [
    "import sqlite3\n",
    "con = sqlite3.connect('ejemplo.db')\n",
    "cur = con.cursor()\n",
    "cur.execute('drop table if exists projects')"
   ]
  },
  {
   "cell_type": "markdown",
   "metadata": {},
   "source": [
    "También podemos verificar si la tabla a la que queremos acceder existe o no previamente consultado, como vimos antes, la tabla `sqlite_master`::\n",
    "\n",
    "    SELECT name from sqlite_master WHERE type = \"table\" AND name = \"project\"\n",
    " "
   ]
  },
  {
   "cell_type": "markdown",
   "metadata": {},
   "source": [
    "### Eliminar una tabla\n",
    "\n",
    "Puedes remover /eliminar una tabla utilizando la sentencia `DROP`. La sintaxis de la sentencia DROP es la siguiente:\n",
    "\n",
    "    DROP TABLE table_name\n",
    "    \n",
    "Para eliminar una tabla, la tabla debe existir en la base de datos, a no ser que usemos la opción `IF EXISTS` con la sentencia `drop`, de la siguiente manera:\n",
    "\n",
    "    DROP TABLE IF EXISTS table_name\n",
    "    "
   ]
  },
  {
   "cell_type": "markdown",
   "metadata": {},
   "source": [
    "### Excepciones SQLite3\n",
    "\n",
    "Las excepciones son errores de tiempo de ejecución. en la programación en Python, todas las excepciones son instancias de la clase derivadas de la BaseException. En SQLite3, tenemos las siguientes excepciones principales de Python:\n",
    "\n",
    "- `DatabaseError`: Cualquier error relacionado con la base de datos genera el DatabaseError.\n",
    "\n",
    "- `IntegrityError`: una subclase de `DatabaseError` que se genera cuando hay un problema de integridad de los datos, por ejemplo, los datos foráneos no se actualizan en todas las tablas, lo que resulta en una inconsistencia de los datos.\n",
    "\n",
    "- `ProgrammingError`: Se produce cuando hay errores de sintaxis o no se encuentra la tabla o se llama a la función con un número incorrecto de parámetros / argumentos.\n",
    "\n",
    "- `OperationalError`: Esta excepción se produce cuando fallan las operaciones de la base de datos, por ejemplo, una desconexión inusual. Esto no es culpa de los programadores.\n",
    "\n",
    "- `NotSupportedError`: Ocurre cuando se usan métodos que no están definidos o no son compatibles con la base de datos."
   ]
  },
  {
   "cell_type": "markdown",
   "metadata": {},
   "source": [
    "### SQLite3 executemany (Inserción por lotes)\n",
    "\n",
    "Puedes utilizar la sentencia `executemany` para insertar varias filas a la vez. Considera el siguiente código:"
   ]
  },
  {
   "cell_type": "code",
   "execution_count": 57,
   "metadata": {},
   "outputs": [],
   "source": [
    "import sqlite3\n",
    "\n",
    "con = sqlite3.connect('ejemplo.db')\n",
    "cur = con.cursor()\n",
    "cur.execute('CREATE TABLE IF NOT EXISTS project(id integer, name text)')\n",
    "proyectos = [\n",
    "    (1, \"Ridesharing\"),\n",
    "    (2, \"Water Purifying\"),\n",
    "    (3, \"Forensics\"),\n",
    "    (4, \"Botany\"),\n",
    "]\n",
    "cur.executemany(\"INSERT INTO projects VALUES(?, ?)\", proyectos)\n",
    "con.commit()"
   ]
  },
  {
   "cell_type": "markdown",
   "metadata": {},
   "source": [
    "Creamos una tabla con dos columnas, luego la variable `proyectos` tiene cuatro valores para cada columna. Esta variable se pasa al método `executemany()` junto con la sentencia SQL. Nótese que hemos utilizado el caracter `?` para pasar los valores.\n",
    "\n",
    "El código anterior generará el siguiente resultado:"
   ]
  },
  {
   "cell_type": "code",
   "execution_count": 52,
   "metadata": {},
   "outputs": [],
   "source": [
    "import sqlite3\n",
    "\n",
    "con = sqlite3.connect('ejemplo.db')\n",
    "\n",
    "curr = con.cursor()\n",
    "cur.execute('SELECT * from project')\n",
    "for row in cur.fetchall():\n",
    "    print(*row)"
   ]
  },
  {
   "cell_type": "markdown",
   "metadata": {},
   "source": [
    " ### Cerrar Conexión\n",
    "\n",
    "Una vez que haya terminado de utilizar tu base de datos, es una buena práctica cerrar la conexión. La conexión se puede cerrar utilizando el método `close()`.\n",
    "\n",
    "    con = sqlite3.connect('mydatabase.db')\n",
    "       ...\n",
    "    con.close()\n",
    " "
   ]
  },
  {
   "cell_type": "markdown",
   "metadata": {},
   "source": [
    "### SQLite3 datetime\n",
    "\n",
    "En la base de datos Python SQLite3, podemos almacenar fácilmente fecha, horas y masrcas temporales, importades desde el módulo datatime. Los siguientes formatos son los formatos más utilizados para datetime:\n",
    "\n",
    "- `YYYY-MM-DD`\n",
    "\n",
    "- `YYYY-MM-DD HH:MM`\n",
    "\n",
    "- `YYYY-MM-DD HH:MM:SS`\n",
    "\n",
    "- `YYYY-MM-DD HH:MM:SS.SSS`\n",
    "\n",
    "- `HH:MM`\n",
    "\n",
    "- `HH:MM:SS`\n",
    "\n",
    "- `HH:MM:SS.SSS`\n",
    "\n",
    "- `now`\n",
    "\n",
    "Observa el siguiente código:"
   ]
  },
  {
   "cell_type": "code",
   "execution_count": 75,
   "metadata": {},
   "outputs": [],
   "source": [
    "import sqlite3\n",
    "import datetime\n",
    "\n",
    "con = sqlite3.connect('ejemplo.db')\n",
    "\n",
    "cur = con.cursor()\n",
    "cur.execute('CREATE TABLE IF NOT EXISTS assignment(id integer, name text, date date)')\n",
    "data = [\n",
    "    (1, \"Ridesharing\", datetime.date(2017, 1, 2)),\n",
    "    (2, \"Water Purifying\", datetime.date(2018, 3, 4)),\n",
    "    ]\n",
    "cur.executemany(\"INSERT INTO assignment VALUES(?, ?, ?)\", data)\n",
    "con.commit()"
   ]
  },
  {
   "cell_type": "markdown",
   "metadata": {},
   "source": [
    "En este código, hemos creado una tabla denominada `assignment` con tres columnas. El tipo de datos de la tercera columna es una fecha. Para insertar la fecha en la columna, hemos usado datetime.date.\n",
    "\n",
    "La gran flexibilidad y movilidad de la base de datos SQLite3 la convierten en la primera opción para que cualquier desarrollador la use y la integre con cualquier producto con el que trabaje. Las bases de datos SQLite3 se utilizan en proyectos de Windows, Linux, Mac OS, Android e iOS debido a su increíble portabilidad. Es un archivo integrado con tu proyecto y listo."
   ]
  }
 ],
 "metadata": {
  "kernelspec": {
   "display_name": "Python 3",
   "language": "python",
   "name": "python3"
  },
  "language_info": {
   "codemirror_mode": {
    "name": "ipython",
    "version": 3
   },
   "file_extension": ".py",
   "mimetype": "text/x-python",
   "name": "python",
   "nbconvert_exporter": "python",
   "pygments_lexer": "ipython3",
   "version": "3.8.5"
  }
 },
 "nbformat": 4,
 "nbformat_minor": 4
}
