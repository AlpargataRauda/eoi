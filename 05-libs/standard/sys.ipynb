{
 "cells": [
  {
   "cell_type": "markdown",
   "metadata": {
    "slideshow": {
     "slide_type": "slide"
    }
   },
   "source": [
    "## La libreria sys: configuración específica del sistema\n",
    "\n",
    "Este módulo porporciona acceso a algunas variables usadas o mantenidas\n",
    "por el propio interprete de Python."
   ]
  },
  {
   "cell_type": "markdown",
   "metadata": {
    "slideshow": {
     "slide_type": "slide"
    }
   },
   "source": [
    "Siempre están disponible las\n",
    "siguientes variables:\n",
    "\n",
    "- sys.argv\n",
    "\n",
    "La lista de argumentos pasados al script de python. En la posicion o\n",
    "(sys.argv\\[0\\]) siempre va el nombre del script (depende del S.O.\n",
    "subyacente si incluye el nombre completo, incluyendo la ruta, o no)."
   ]
  },
  {
   "cell_type": "markdown",
   "metadata": {
    "slideshow": {
     "slide_type": "slide"
    }
   },
   "source": [
    "- sys.exc\\_info()\n",
    "\n",
    "Esta función devuelve una tupla de tres valores con información\n",
    "sobre el error que está siendo tratado: Tipo de la excepcion,\n",
    "valor de la misma y traza de ejecución. Podemos usarla en una\n",
    "clausula `except` para obtener más información del error. Si se\n",
    "llama cuando no hay ninguan excepción enmarcha, devuelve una tupla\n",
    "de tres valores `None`."
   ]
  },
  {
   "cell_type": "markdown",
   "metadata": {
    "slideshow": {
     "slide_type": "slide"
    }
   },
   "source": [
    "- sys.path\n",
    "\n",
    "Una lista de cadenas de texto que especifican las rutas de búsqueda\n",
    "para los módulos y paquetes de python."
   ]
  },
  {
   "cell_type": "markdown",
   "metadata": {
    "slideshow": {
     "slide_type": "slide"
    }
   },
   "source": [
    "- sys.platform\n",
    "\n",
    "Un identificador de la version de Python en ejecución"
   ]
  },
  {
   "cell_type": "markdown",
   "metadata": {
    "slideshow": {
     "slide_type": "slide"
    }
   },
   "source": [
    "Ejercicio: iHacer un script que imprima por pantalla los datos mas\n",
    "importantes de la version de python instalada:\n",
    "\n",
    " -   Version\n",
    " -   Path\n",
    " -   Platform"
   ]
  }
 ],
 "metadata": {
  "celltoolbar": "Slideshow",
  "kernelspec": {
   "display_name": "Python 3",
   "language": "python",
   "name": "python3"
  },
  "language_info": {
   "codemirror_mode": {
    "name": "ipython",
    "version": 3
   },
   "file_extension": ".py",
   "mimetype": "text/x-python",
   "name": "python",
   "nbconvert_exporter": "python",
   "pygments_lexer": "ipython3",
   "version": "3.8.2"
  }
 },
 "nbformat": 4,
 "nbformat_minor": 4
}
