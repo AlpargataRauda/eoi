{
 "cells": [
  {
   "cell_type": "markdown",
   "metadata": {},
   "source": [
    "## La librería threading"
   ]
  },
  {
   "cell_type": "code",
   "execution_count": 1,
   "metadata": {},
   "outputs": [],
   "source": [
    "import random\n",
    "import time\n",
    "import threading"
   ]
  },
  {
   "cell_type": "code",
   "execution_count": 2,
   "metadata": {},
   "outputs": [
    {
     "name": "stdout",
     "output_type": "stream",
     "text": [
      " alfa starting\n",
      "           beta starting\n",
      "                     gamma starting\n",
      "                               delta starting\n",
      "                                         epsilon starting\n",
      "                                                   zeta starting\n",
      "                     gamma finished\n",
      "                                                                                           zeta finished\n",
      " epsilon finished\n",
      "           alfa 25%\n",
      " beta 33%\n",
      "                               delta 20%\n",
      "                                         delta 40%\n",
      " beta 66%\n",
      " alfa 50%\n",
      "           beta finished\n",
      "                               delta 60%\n",
      " alfa 75%\n",
      " alfa finished\n",
      "                               delta 80%\n",
      "                               delta finished\n"
     ]
    }
   ],
   "source": [
    "names = ['alfa', 'beta', 'gamma', 'delta', 'epsilon', 'zeta', 'eta', 'theta']\n",
    "\n",
    "def work(name, position):\n",
    "    print(' ' * position * 10, name, \"starting\", flush=True)\n",
    "    secs = random.randrange(1, 6)\n",
    "    for i in range(secs):\n",
    "        time.sleep(1)\n",
    "        if i:\n",
    "            print(' ' * position * 10, name, f\"{i*100//secs}%\", flush=True)\n",
    "    \n",
    "    print(' ' * position * 10, name, \"finished\", flush=True)\n",
    "    \n",
    "pool = []\n",
    "for i in range(0, 6):\n",
    "    worker = threading.Thread(target=work, args=(names[i], i))\n",
    "    pool.append(worker)\n",
    "    \n",
    "for w in pool:\n",
    "    w.start()\n",
    "    \n",
    "for w in pool:\n",
    "    w.join()"
   ]
  },
  {
   "cell_type": "code",
   "execution_count": null,
   "metadata": {},
   "outputs": [],
   "source": []
  }
 ],
 "metadata": {
  "kernelspec": {
   "display_name": "Python 3",
   "language": "python",
   "name": "python3"
  },
  "language_info": {
   "codemirror_mode": {
    "name": "ipython",
    "version": 3
   },
   "file_extension": ".py",
   "mimetype": "text/x-python",
   "name": "python",
   "nbconvert_exporter": "python",
   "pygments_lexer": "ipython3",
   "version": "3.7.6"
  }
 },
 "nbformat": 4,
 "nbformat_minor": 4
}
