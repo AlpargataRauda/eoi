{
 "cells": [
  {
   "cell_type": "markdown",
   "metadata": {
    "slideshow": {
     "slide_type": "slide"
    }
   },
   "source": [
    "## La libreria sys: configuración específica del sistema\n",
    "\n",
    "Este módulo porporciona acceso a algunas variables usadas o mantenidas\n",
    "por el propio interprete de Python."
   ]
  },
  {
   "cell_type": "markdown",
   "metadata": {
    "slideshow": {
     "slide_type": "slide"
    }
   },
   "source": [
    "Siempre están disponible las\n",
    "siguientes variables:\n",
    "\n",
    "### sys.version\n",
    "\n",
    "Una cadena de texto con un resumen de la versión actual de Python que se está ejecutando"
   ]
  },
  {
   "cell_type": "code",
   "execution_count": 8,
   "metadata": {},
   "outputs": [
    {
     "name": "stdout",
     "output_type": "stream",
     "text": [
      "3.8.5 (default, Jul 28 2020, 12:59:40) \n",
      "[GCC 9.3.0]\n"
     ]
    }
   ],
   "source": [
    "import sys\n",
    "\n",
    "print(sys.version)"
   ]
  },
  {
   "cell_type": "markdown",
   "metadata": {},
   "source": [
    "Existen funciones auxiliares para obtener partes de los valores de la versión:"
   ]
  },
  {
   "cell_type": "code",
   "execution_count": 6,
   "metadata": {
    "slideshow": {
     "slide_type": "slide"
    }
   },
   "outputs": [
    {
     "name": "stdout",
     "output_type": "stream",
     "text": [
      "sys.version_info(major=3, minor=8, micro=5, releaselevel='final', serial=0)\n",
      "3\n",
      "8\n"
     ]
    }
   ],
   "source": [
    "import sys\n",
    "print(sys.version_info)\n",
    "print(sys.version_info.major)\n",
    "print(sys.version_info.minor)"
   ]
  },
  {
   "cell_type": "markdown",
   "metadata": {},
   "source": [
    "### sys.platform\n",
    "\n",
    "La plataforma o sistema operativo sonre el que se está ejeecutando pythonÑ"
   ]
  },
  {
   "cell_type": "code",
   "execution_count": 9,
   "metadata": {},
   "outputs": [
    {
     "name": "stdout",
     "output_type": "stream",
     "text": [
      "linux\n"
     ]
    }
   ],
   "source": [
    "import sys\n",
    "print(sys.platform)"
   ]
  },
  {
   "cell_type": "markdown",
   "metadata": {
    "slideshow": {
     "slide_type": "slide"
    }
   },
   "source": [
    "### sys.argv\n",
    "\n",
    "La lista de argumentos pasados al script de python. En la posicion 0\n",
    "(`sys.argv[0]`) siempre va el nombre del script (depende del S.O. si se incluye el\n",
    "nombre completo, incluyendo la ruta, o no)."
   ]
  },
  {
   "cell_type": "markdown",
   "metadata": {},
   "source": [
    "**Ejercicio**: Hacer un programa `argumentos.py` que liste los argumentos recibidos por la línea de comandos. Luego llamar a ese programa pasándole los parámetros `alfa` y`1`"
   ]
  },
  {
   "cell_type": "markdown",
   "metadata": {},
   "source": [
    "### sys.path\n",
    "\n",
    "Una lista de cadenas de texto, cada una especificando una carpeta o directorio\n",
    "donde python buscará los módulos a importar."
   ]
  },
  {
   "cell_type": "code",
   "execution_count": 10,
   "metadata": {},
   "outputs": [
    {
     "name": "stdout",
     "output_type": "stream",
     "text": [
      "'/home/jileon/workarea/pythoncanarias/eoi/05-libs/standard/sys'\n",
      "'/usr/lib/python38.zip'\n",
      "'/usr/lib/python3.8'\n",
      "'/usr/lib/python3.8/lib-dynload'\n",
      "''\n",
      "'/home/jileon/.local/lib/python3.8/site-packages'\n",
      "'/home/jileon/workarea/django-keycloak/src'\n",
      "'/usr/local/lib/python3.8/dist-packages'\n",
      "'/usr/lib/python3/dist-packages'\n",
      "'/usr/lib/python3.8/dist-packages'\n",
      "'/home/jileon/.local/lib/python3.8/site-packages/IPython/extensions'\n",
      "'/home/jileon/.ipython'\n"
     ]
    }
   ],
   "source": [
    "import sys\n",
    "for path in sys.path:\n",
    "    print(repr(path))"
   ]
  },
  {
   "cell_type": "markdown",
   "metadata": {
    "slideshow": {
     "slide_type": "slide"
    }
   },
   "source": [
    "### sys.exc_info()\n",
    "\n",
    "Una función que devuelve una tupla de tres valores con información\n",
    "sobre el error que está siendo tratado: Tipo de la excepcion,\n",
    "valor de la misma y traza de ejecución. Podemos usarla en una\n",
    "clausula `except` para obtener más información del error. La usaremos más adelante cuando veamos el módulo `logging`."
   ]
  },
  {
   "cell_type": "markdown",
   "metadata": {
    "slideshow": {
     "slide_type": "slide"
    }
   },
   "source": [
    "**Ejercicio**: Escribir un script que imprima por pantalla los datos mas\n",
    "importantes de la versión de python instalada:\n",
    "\n",
    " -   Version\n",
    " -   Path\n",
    " -   Platform"
   ]
  },
  {
   "cell_type": "code",
   "execution_count": 7,
   "metadata": {
    "slideshow": {
     "slide_type": "slide"
    }
   },
   "outputs": [
    {
     "name": "stdout",
     "output_type": "stream",
     "text": [
      "Plataforma linux\n",
      "Version 3.8.5 (default, Jul 28 2020, 12:59:40) \n",
      "[GCC 9.3.0]\n",
      "Path:\n",
      " - /home/jileon/workarea/pythoncanarias/eoi/05-libs/standard/sys\n",
      " - /usr/lib/python38.zip\n",
      " - /usr/lib/python3.8\n",
      " - /usr/lib/python3.8/lib-dynload\n",
      " - \n",
      " - /home/jileon/.local/lib/python3.8/site-packages\n",
      " - /home/jileon/workarea/django-keycloak/src\n",
      " - /usr/local/lib/python3.8/dist-packages\n",
      " - /usr/lib/python3/dist-packages\n",
      " - /usr/lib/python3.8/dist-packages\n",
      " - /home/jileon/.local/lib/python3.8/site-packages/IPython/extensions\n",
      " - /home/jileon/.ipython\n"
     ]
    }
   ],
   "source": [
    "print(\"Plataforma\", sys.platform)\n",
    "print(\"Version\", sys.version)\n",
    "print(\"Path:\")\n",
    "for path in sys.path:\n",
    "    print(f\" - {path}\")"
   ]
  },
  {
   "cell_type": "code",
   "execution_count": null,
   "metadata": {},
   "outputs": [],
   "source": []
  }
 ],
 "metadata": {
  "celltoolbar": "Slideshow",
  "kernelspec": {
   "display_name": "Python 3",
   "language": "python",
   "name": "python3"
  },
  "language_info": {
   "codemirror_mode": {
    "name": "ipython",
    "version": 3
   },
   "file_extension": ".py",
   "mimetype": "text/x-python",
   "name": "python",
   "nbconvert_exporter": "python",
   "pygments_lexer": "ipython3",
   "version": "3.8.5"
  }
 },
 "nbformat": 4,
 "nbformat_minor": 4
}
