{
 "cells": [
  {
   "cell_type": "markdown",
   "metadata": {},
   "source": [
    "## La Librería time\n",
    "\n",
    "Esté modulo proporciona funciones para trabajar con tiempos y fechas. "
   ]
  },
  {
   "cell_type": "markdown",
   "metadata": {},
   "source": [
    "### Definiciones\n",
    "\n",
    "- **UTC** es el tiempo coordinado Universal, anteriormente conocido como\n",
    "  GMT o Hora de Greenwich (El acrónimo UTC es un compromiso entre el\n",
    "  inglés y el francés)\n",
    "  \n",
    " \n",
    "- **DST** es el ajuste de horario de verano (*Daylight Saving Time*) una\n",
    "  modificacion de la zona horaria, normalmente de una hora, que se\n",
    "  realiza durante parte del año. las reglas de los DST son, en la\n",
    "  práctica, pura magia (dependen de las leyes locales) y pueden\n",
    "  cambiar de año a año,\n",
    "\n",
    "### Contenidos del módulo\n",
    "\n",
    "Los valores de tiempo devueltos por `gmtime()`, `localtime()` y\n",
    "`strptime()`, y aceptados por `asctime()`, `mktime()` y `strftime()` son\n",
    "tuplas (En realidad, `namedtuple`) de 9 enteros: año, mes, dia, horas,\n",
    "minutos, segundos, día de la semana, día dentro del año y un indicador\n",
    "de si se aplica o no el horario de verano.\n",
    "\n",
    "Algunas funciones definidas en este módulo:\n",
    "\n",
    "- `time.time()`\n",
    "\n",
    "Devuelve el tiempo en segundos, en forma de número de coma flotante.\n",
    "\n",
    "\n",
    "- `time.gmtime([secs])`\n",
    "\n",
    "Convierte un tiempo en segundos en una tupla de nueve elementos, en\n",
    "los cuales el flag final es siempre 0. Si no se indica el tiempo ,\n",
    "se tomará el momento actual.\n",
    "\n",
    "- `time.localtime([secs])`\n",
    "\n",
    "Como `gmtime()`, pero convertido a tiempo local. El indicador final\n",
    "se pone a uno si en ese momento estaba activo el horario de verano.\n",
    "\n",
    "- `time.mktime(t)`\n",
    "\n",
    "Esta función es la inversa de `localtime()`. Su argumento es una tupla de 9\n",
    "elementos (Como el flag final es obligatorio, se puede poner -1 para\n",
    "indicar que no lo sabemos). Devuelve un número de segundos unix.\n",
    "\n",
    "- `time.sleep(secs)`\n",
    "\n",
    "Suspender la ejecución del programa durante el tiempo en segundos\n",
    "indicado como parámetro.\n",
    "\n",
    "Ejercicio: Averiguar el día de la semana en que nacio Abrahan Lincolm."
   ]
  },
  {
   "cell_type": "code",
   "execution_count": null,
   "metadata": {},
   "outputs": [],
   "source": []
  }
 ],
 "metadata": {
  "kernelspec": {
   "display_name": "Python 3",
   "language": "python",
   "name": "python3"
  },
  "language_info": {
   "codemirror_mode": {
    "name": "ipython",
    "version": 3
   },
   "file_extension": ".py",
   "mimetype": "text/x-python",
   "name": "python",
   "nbconvert_exporter": "python",
   "pygments_lexer": "ipython3",
   "version": "3.7.7"
  }
 },
 "nbformat": 4,
 "nbformat_minor": 2
}
