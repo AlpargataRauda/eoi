{
 "cells": [
  {
   "cell_type": "markdown",
   "metadata": {
    "slideshow": {
     "slide_type": "slide"
    }
   },
   "source": [
    "## El módulo logging"
   ]
  },
  {
   "cell_type": "markdown",
   "metadata": {
    "slideshow": {
     "slide_type": "slide"
    }
   },
   "source": [
    "El módulo `logging` define un sistema flexible y homogeneo para añadir\n",
    "un sistema de registro de eventos o `log` a nuestras aplicaciones o\n",
    "librerías."
   ]
  },
  {
   "cell_type": "markdown",
   "metadata": {
    "slideshow": {
     "slide_type": "slide"
    }
   },
   "source": [
    "Crear un log es relativamente fácil, pero la ventaja de usar\n",
    "el API definido en las librerías estándar es que todos los módulos\n",
    "pueden participar en un log común, de forma que podamos integrar\n",
    "nuestros mensajes con los de otros módulos de terceros.\n",
    "\n",
    "La libreria utiliza el concepto llamado **nivel de registro**. En principio\n",
    "se definen 5 niveles, que serían los siguientes:\n",
    "\n",
    "| Nivel   | A usar para |\n",
    "|--------:|-------------|\n",
    "|  DEBUG  | Información muy detallada, normalmente de interes sólo para diagnosticar problemas y encontrar errores |\n",
    "| INFO    | Confirmación de que las cosas están funcionando como deben |\n",
    "| WARNING | Una indicación de que ha pasado algo extraño, o en previsión de algún problema futuro (Por ejemplo, \\\"No queda mucho espacio libre en disco\\\"). El programa sigue funcionando con normalidad |\n",
    "| ERROR   | Debido a un problema más grave, el programa no has sido capaz de realizar una parte de su trabajo |\n",
    "| CRITICAL | Un error muy grave, indica que el programa es incapaz de continuar ejecutándose |"
   ]
  },
  {
   "cell_type": "markdown",
   "metadata": {
    "slideshow": {
     "slide_type": "slide"
    }
   },
   "source": [
    "### Funciones definidas en logging\n",
    "\n",
    "Hay 5 funciones/métodos equivalentes, cada uno de los cuales envía el mensaje que queremos\n",
    "enviar con el nivel correspondiente. Los nombres, coinciden, por tanto, con los nombres\n",
    "de los niveles: `debug()`, `info()`, `warning()`, `error()` y `critical()`. "
   ]
  },
  {
   "cell_type": "markdown",
   "metadata": {
    "slideshow": {
     "slide_type": "slide"
    }
   },
   "source": [
    "### Uso del módulo\n",
    "\n",
    "Como siempre, lo primero es importarlo:"
   ]
  },
  {
   "cell_type": "code",
   "execution_count": 1,
   "metadata": {},
   "outputs": [],
   "source": [
    "import logging"
   ]
  },
  {
   "cell_type": "markdown",
   "metadata": {
    "slideshow": {
     "slide_type": "slide"
    }
   },
   "source": [
    "Un ejemplo muy sencillo de uso:"
   ]
  },
  {
   "cell_type": "code",
   "execution_count": 2,
   "metadata": {
    "slideshow": {
     "slide_type": "slide"
    }
   },
   "outputs": [
    {
     "name": "stderr",
     "output_type": "stream",
     "text": [
      "2020-10-22 15:55:07,302 root     Mensaje de debug\n",
      "2020-10-22 15:55:07,305 root     Mensaje de información\n",
      "2020-10-22 15:55:07,308 root     Mensaje de aviso\n",
      "2020-10-22 15:55:07,312 root     Mensaje de error\n",
      "2020-10-22 15:55:07,317 root     Mensaje de error grave\n"
     ]
    }
   ],
   "source": [
    "import logging\n",
    "\n",
    "logging.debug('Mensaje de debug') # este no aparecerá\n",
    "logging.info('Mensaje de información') # este no aparecerá\n",
    "logging.warning('Mensaje de aviso') # el mensaje sale por pantalla\n",
    "logging.error(\"Mensaje de error\")\n",
    "logging.critical(\"Mensaje de error grave\")"
   ]
  },
  {
   "cell_type": "markdown",
   "metadata": {},
   "source": [
    "**Ejercicio:** Ejecutar el código anterior"
   ]
  },
  {
   "cell_type": "markdown",
   "metadata": {
    "slideshow": {
     "slide_type": "slide"
    }
   },
   "source": [
    "Si ejecutamos este código, veremos que solo se imprime tres de los\n",
    "mensajes.\n",
    "\n",
    "Esto es porque el nivel por defecto es `WARNING`, es decir, que solo se\n",
    "muestran los mensajes de ese nivel o superior. La idea de usar niveles es\n",
    "precisamente para poder centrarnos en los mensajes que nos afectan en un\n",
    "determinado momento.\n",
    "\n",
    "El mensaje impreso incluye el nivel y la descripción que incluimos en la\n",
    "llamada. También incluye una referencia a `root`, que se explicará más\n",
    "tarde. El formato del mensaje también es modificable, si queremos."
   ]
  },
  {
   "cell_type": "markdown",
   "metadata": {},
   "source": [
    "### Configurar el log con basicConfig\n",
    "\n",
    "Podemos definir algunos aspectos del logging, como el formato de los mensajes, el nivel por defecto, el\n",
    "formato de las fechas, etc. usando la función `basicConfig`. Por ejemplo, el siguiente codigo redefine el logger para\n",
    "que en vez de mostrar los resultados por la pantalla los almacene en un fichero de texto, que nosotros podremos analizar\n",
    "más tarde. "
   ]
  },
  {
   "cell_type": "code",
   "execution_count": 9,
   "metadata": {},
   "outputs": [
    {
     "name": "stderr",
     "output_type": "stream",
     "text": [
      "2020-10-22 16:06:54,216    DEBUG root     Nuevo formato de mensajes\n",
      "2020-10-22 16:06:54,222  WARNING root     Nuevo formato de mensajes\n",
      "2020-10-22 16:06:54,223  WARNING root     La variable a vale 'vnasjkdv'\n"
     ]
    }
   ],
   "source": [
    "import logging\n",
    "\n",
    "FORMAT = '%(asctime)-15s %(levelname)8s %(name)-8s %(message)s'\n",
    "logging.basicConfig(format=FORMAT, level=logging.DEBUG)\n",
    "logging.debug('Nuevo formato de mensajes')\n",
    "logging.warning('Nuevo formato de mensajes')\n",
    "\n",
    "a = 'vnasjkdv'\n",
    "logging.warning('La variable a vale %r', a)"
   ]
  },
  {
   "cell_type": "markdown",
   "metadata": {},
   "source": [
    "El problema de este metodo es que es relativamente limitado, y que debemos realizar esta configuracion\n",
    "antes de hacer ninguna llamada a logging, ya que si no se hace asi, la primera llamada a, por ejemplo, `info`, llamara a `basicConfig` por su cuenta y con los parámetros por defecto, y las posteriores llamadas a `basicConfig` serán ignoradas."
   ]
  },
  {
   "cell_type": "markdown",
   "metadata": {},
   "source": [
    "#### Valores en el formato de mensajes\n",
    "\n",
    "Estos son algunos de los valores posibles que se pueden usar el la\n",
    "cadena de texto que da formato al mansaje:\n",
    "\n",
    "| Attribute | name | Format Description |\n",
    "|-----------|------|--------------------|\n",
    "| asctime | %(asctime)s | Human-readable time when the LogRecord was created.  By default this is of the form ‘2003-07-08 16:49:45,896’ (the numbers after the comma are millisecond portion of the time). |\n",
    "| created | %(created)f | Time when the LogRecord was created (as returned by time.time()). |\n",
    "| filename | %(filename)s  | Filename portion of pathname. |\n",
    "| funcName | %(funcName)s | Name of function containing the logging call. |\n",
    "| levelname | %(levelname)s | Text logging level for the message ('DEBUG', 'INFO', 'WARNING', 'ERROR', 'CRITICAL') |\n",
    "| levelno | %(levelno)s | Numeric logging level for the message (DEBUG, INFO, WARNING, ERROR, CRITICAL). |\n",
    "| lineno | %(lineno)d | Source line number where the logging call was issued (if available).\n",
    "| message  | %(message)s | The logged message, computed as msg % args. This is set when Formatter.format() is invoked. |\n",
    "| module | %(module)s | Module (name portion of filename). |\n",
    "| name | %(name)s | Name of the logger used to log the call. |\n",
    "| pathname | %(pathname)s | Full pathname of the source file where the logging call was issued (if available) |\n",
    "\n",
    "Se puede consultar el resto de valores en la [documentación oficial sobre el módulo logging](https://docs.python.org/3/library/logging.html#logrecord-attributes)."
   ]
  },
  {
   "cell_type": "markdown",
   "metadata": {},
   "source": [
    "**Ejercicio**: Configurar el log para que me muestre el modulo, el nombre del dichero o el numero de linea, ademas del mensaje.\n",
    "    recuerda quese debe ejecutar el basicConfig al principio. "
   ]
  },
  {
   "cell_type": "markdown",
   "metadata": {
    "slideshow": {
     "slide_type": "slide"
    }
   },
   "source": [
    "## Logging en Jupyter\n",
    "\n",
    "Un problema de usar Jupyter u otros entoprno interactivos para explicar las librerias de logging\n",
    "es que el propio Jupyter las usa, y ya las configura segun sus preferencias. \n",
    "Para poder resetear el sistema de logging es necesario recargar el\n",
    "codigo del módulo, para que se pueda configurar de nuevo."
   ]
  },
  {
   "cell_type": "markdown",
   "metadata": {
    "slideshow": {
     "slide_type": "slide"
    }
   },
   "source": [
    "Para esto puede usarse el siguiente código:"
   ]
  },
  {
   "cell_type": "code",
   "execution_count": 5,
   "metadata": {
    "slideshow": {
     "slide_type": "slide"
    }
   },
   "outputs": [],
   "source": [
    "from importlib import reload\n",
    "\n",
    "import logging\n",
    "reload(logging)\n",
    "\n",
    "logging.basicConfig(format='%(asctime)s %(levelname)s : %(message)s', level=logging.DEBUG, datefmt='%I:%M:%S')"
   ]
  },
  {
   "cell_type": "code",
   "execution_count": 6,
   "metadata": {},
   "outputs": [
    {
     "name": "stderr",
     "output_type": "stream",
     "text": [
      "02:56:09 INFO : Hola\n",
      "02:56:09 DEBUG : H v vale 123\n"
     ]
    }
   ],
   "source": [
    "logging.info(\"Hola\")\n",
    "v = 123\n",
    "logging.debug(\"H v vale %s\", v)"
   ]
  },
  {
   "cell_type": "markdown",
   "metadata": {
    "slideshow": {
     "slide_type": "slide"
    }
   },
   "source": [
    "## Crear un fichero de log"
   ]
  },
  {
   "cell_type": "markdown",
   "metadata": {
    "slideshow": {
     "slide_type": "slide"
    }
   },
   "source": [
    "Despues de la consola, lo más habitual es usar un ficharo de texto \n",
    "para almacenar los mensajes de log:"
   ]
  },
  {
   "cell_type": "code",
   "execution_count": 2,
   "metadata": {},
   "outputs": [
    {
     "name": "stdout",
     "output_type": "stream",
     "text": [
      "ejemplo.log  logging.ipynb  logging.rst\n"
     ]
    }
   ],
   "source": [
    "!ls"
   ]
  },
  {
   "cell_type": "code",
   "execution_count": 4,
   "metadata": {
    "slideshow": {
     "slide_type": "slide"
    }
   },
   "outputs": [],
   "source": [
    "import logging \n",
    "\n",
    "logging.basicConfig(filename='ejemplo.log', level=logging.INFO)\n",
    "logging.debug('Este mensaje no debería ir al log')\n",
    "logging.info('Este si')\n",
    "logging.warning('Y este también')\n",
    "logging.error(\"Error\")"
   ]
  },
  {
   "cell_type": "code",
   "execution_count": 5,
   "metadata": {},
   "outputs": [
    {
     "name": "stdout",
     "output_type": "stream",
     "text": [
      "INFO:root:Este sy\n",
      "WARNING:root:Y este también\n",
      "ERROR:root:Error\n",
      "INFO:root:Este si\n",
      "WARNING:root:Y este también\n",
      "ERROR:root:Error\n"
     ]
    }
   ],
   "source": [
    "!cat ejemplo.log"
   ]
  },
  {
   "cell_type": "markdown",
   "metadata": {
    "slideshow": {
     "slide_type": "slide"
    }
   },
   "source": [
    "Si abrimos el fichero deberíamos ver:"
   ]
  },
  {
   "cell_type": "markdown",
   "metadata": {
    "slideshow": {
     "slide_type": "slide"
    }
   },
   "source": [
    "    DEBUG:root:Este mensaje debería ir al log\n",
    "    INFO:root:Y este\n",
    "    WARNING:root:Y este también"
   ]
  },
  {
   "cell_type": "code",
   "execution_count": 9,
   "metadata": {},
   "outputs": [
    {
     "name": "stdout",
     "output_type": "stream",
     "text": [
      "DEBUG:root:Este mensaje debería ir al log\n",
      "INFO:root:Y este\n",
      "WARNING:root:Y este también\n"
     ]
    }
   ],
   "source": [
    "!cat ejemplo.log"
   ]
  },
  {
   "cell_type": "markdown",
   "metadata": {
    "slideshow": {
     "slide_type": "slide"
    }
   },
   "source": [
    "Al configurar el nivel como `DEBUG` vemos que se han grabado todos los\n",
    "mensajes. Si subieramos a `ERROR`, no aparecería ninguno."
   ]
  },
  {
   "cell_type": "markdown",
   "metadata": {
    "slideshow": {
     "slide_type": "slide"
    }
   },
   "source": [
    "El formato por defecto es:\n",
    "\n",
    "    severity:logger name:message\n",
    "    \n",
    "Podemos cambiar también el formato de los mensajes, usando el parámetro `format`\n",
    "en la llamada a `basicConfig`:"
   ]
  },
  {
   "cell_type": "code",
   "execution_count": 9,
   "metadata": {
    "slideshow": {
     "slide_type": "slide"
    }
   },
   "outputs": [],
   "source": [
    "from importlib import reload\n",
    "\n",
    "import logging\n",
    "reload(logging)\n",
    "\n",
    "\n",
    "logging.basicConfig(\n",
    "    filename='ejemplo.log',\n",
    "    level=logging.DEBUG,\n",
    "    format='%(asctime)s - %(name)s - %(levelname)s - %(message)s'\n",
    ")\n",
    "logging.debug('Este mensaje es de tipo debug')\n",
    "logging.info('Este mensjae es de tipo info')\n",
    "logging.warning('ESte mensaje en de tipo warning')\n",
    "logging.error('ESte mensaje en de tipo error')"
   ]
  },
  {
   "cell_type": "code",
   "execution_count": 10,
   "metadata": {},
   "outputs": [
    {
     "name": "stdout",
     "output_type": "stream",
     "text": [
      "2020-10-22 15:24:10,196 - root - DEBUG - Este mensaje es de tipo debug\n",
      "2020-10-22 15:24:10,196 - root - INFO - Este mensjae es de tipo info\n",
      "2020-10-22 15:24:10,197 - root - WARNING - ESte mensaje en de tipo warning\n",
      "2020-10-22 15:24:10,197 - root - ERROR - ESte mensaje en de tipo error\n"
     ]
    }
   ],
   "source": [
    "%cat ejemplo.log "
   ]
  },
  {
   "cell_type": "markdown",
   "metadata": {},
   "source": [
    "### Varios loggers"
   ]
  },
  {
   "cell_type": "markdown",
   "metadata": {
    "slideshow": {
     "slide_type": "slide"
    }
   },
   "source": [
    "Podemos definir distintas instancias de loggers (las funciones que hemos\n",
    "visto hasta ahora usan el logger por defecto, de nombre `root`)\n",
    "\n",
    "main.py\n",
    "a.py\n",
    "b.py\n",
    "\n",
    "\n",
    "main.py\n",
    "\n",
    "logger = getLogger()            ---> root\n",
    "--------------------- \n",
    "\n",
    "\n",
    "a.py\n",
    "\n",
    "\n",
    "logger = getLogger(__name__)          ---> root.a\n",
    "---------------------------\n",
    "\n",
    "\n",
    "b.py\n",
    "\n",
    "logger = getLogger(__name__)          ---> root.b\n",
    "---------------------------\n",
    "\n",
    "\n",
    "\n",
    "\n",
    "\n",
    "\n",
    "Además, podemos organizar los nombres en un sistema de jerarquías\n",
    "usando puntos (`.`) como separadores, de forma similar a como organizamos los paquetes."
   ]
  },
  {
   "cell_type": "markdown",
   "metadata": {
    "slideshow": {
     "slide_type": "slide"
    }
   },
   "source": [
    "El nombre de cada logger pueden ser el que queramos, pero es una práctica habitual usar\n",
    "como nombre el del módulo:\n",
    "\n",
    "    import logging\n",
    "    logger = logging.getLogger(__name__)"
   ]
  },
  {
   "cell_type": "markdown",
   "metadata": {
    "slideshow": {
     "slide_type": "slide"
    }
   },
   "source": [
    "De esta forma el nombre del logger refleja la estructura de paquetes y\n",
    "módulos que estemos usando, y es muy sencillo de usar."
   ]
  },
  {
   "cell_type": "markdown",
   "metadata": {
    "slideshow": {
     "slide_type": "slide"
    }
   },
   "source": [
    "Tambien podemos usar diferentes gestionadores para notificarnos, aparte\n",
    "de la consola y el fichero de textos, tenemos notificacines vía sockets,\n",
    "datagramas UDP, por correo, envios a un demonio syslog, a un buffer en\n",
    "memoria y, por supuesto, la posibilidad de crear nuestros propios\n",
    "manejadores."
   ]
  },
  {
   "cell_type": "markdown",
   "metadata": {},
   "source": [
    "### Varios handlers por cada logger\n",
    "\n",
    "Podemos asociar mas de un handler a un logger, de forma que podemo mandar el mismo mensaje a la vez a un fichero, a su servidor de syslog y a la consolam por ejemplo."
   ]
  },
  {
   "cell_type": "code",
   "execution_count": null,
   "metadata": {},
   "outputs": [],
   "source": []
  }
 ],
 "metadata": {
  "celltoolbar": "Slideshow",
  "kernelspec": {
   "display_name": "Python 3",
   "language": "python",
   "name": "python3"
  },
  "language_info": {
   "codemirror_mode": {
    "name": "ipython",
    "version": 3
   },
   "file_extension": ".py",
   "mimetype": "text/x-python",
   "name": "python",
   "nbconvert_exporter": "python",
   "pygments_lexer": "ipython3",
   "version": "3.8.5"
  }
 },
 "nbformat": 4,
 "nbformat_minor": 4
}
